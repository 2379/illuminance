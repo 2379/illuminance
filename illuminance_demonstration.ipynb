{
 "cells": [
  {
   "cell_type": "markdown",
   "metadata": {},
   "source": [
    "# Освещенность пола в комнате с несколькими ламрами"
   ]
  },
  {
   "cell_type": "code",
   "execution_count": 23,
   "metadata": {},
   "outputs": [],
   "source": [
    "# used modules\n",
    "using Test\n",
    "using Plots\n",
    "using Interact"
   ]
  },
  {
   "cell_type": "code",
   "execution_count": 2,
   "metadata": {},
   "outputs": [
    {
     "data": {
      "text/plain": [
       "Otot (generic function with 1 method)"
      ]
     },
     "execution_count": 2,
     "metadata": {},
     "output_type": "execute_result"
    }
   ],
   "source": [
    "# functions of distance\n",
    "r1(x, y, x0, y0, sp) = sqrt(sp.h^2 + (x - x0)^2 + (y - y0)^2)\n",
    "r2(x, y, i, sp) = r1(\n",
    "    x,\n",
    "    y,\n",
    "    0.5 * sp.a + sp.R * sin((i - 1) * (2π / sp.N)),\n",
    "    0.5 * sp.b - sp.R * cos((i - 1) * (2π / sp.N)),\n",
    "    sp,\n",
    ")\n",
    "cosα(x, y, i, sp) = sp.h / r2(x, y, i, sp)\n",
    "#\n",
    "O(x, y, i, sp) = sp.I / r2(x, y, i, sp)^2 * cosα(x, y, i, sp)\n",
    "Otot(x, y, sp) = sum(O(x, y, i, sp) for i = 1:sp.N)"
   ]
  },
  {
   "cell_type": "markdown",
   "metadata": {},
   "source": [
    "## Статический рисунок\n",
    " - Комната 5x4 метраб 3 метра высотой,\n",
    " - 5 ламп на по кругу диаметром 2 м,\n",
    " - Интенсивность 95 (чего-то)"
   ]
  },
  {
   "cell_type": "code",
   "execution_count": 8,
   "metadata": {},
   "outputs": [
    {
     "data": {
      "image/svg+xml": [
       "<?xml version=\"1.0\" encoding=\"utf-8\"?>\n",
       "<svg xmlns=\"http://www.w3.org/2000/svg\" xmlns:xlink=\"http://www.w3.org/1999/xlink\" width=\"600\" height=\"400\" viewBox=\"0 0 2400 1600\">\n",
       "<defs>\n",
       "  <clipPath id=\"clip6600\">\n",
       "    <rect x=\"0\" y=\"0\" width=\"2400\" height=\"1600\"/>\n",
       "  </clipPath>\n",
       "</defs>\n",
       "<path clip-path=\"url(#clip6600)\" d=\"\n",
       "M0 1600 L2400 1600 L2400 0 L0 0  Z\n",
       "  \" fill=\"#ffffff\" fill-rule=\"evenodd\" fill-opacity=\"1\"/>\n",
       "<defs>\n",
       "  <clipPath id=\"clip6601\">\n",
       "    <rect x=\"480\" y=\"0\" width=\"1681\" height=\"1600\"/>\n",
       "  </clipPath>\n",
       "</defs>\n",
       "<path clip-path=\"url(#clip6600)\" d=\"\n",
       "M113.754 1487.47 L2112.76 1487.47 L2112.76 47.2441 L113.754 47.2441  Z\n",
       "  \" fill=\"#ffffff\" fill-rule=\"evenodd\" fill-opacity=\"1\"/>\n",
       "<defs>\n",
       "  <clipPath id=\"clip6602\">\n",
       "    <rect x=\"113\" y=\"47\" width=\"2000\" height=\"1441\"/>\n",
       "  </clipPath>\n",
       "</defs>\n",
       "<polyline clip-path=\"url(#clip6602)\" style=\"stroke:#000000; stroke-width:2; stroke-opacity:0.1; fill:none\" points=\"\n",
       "  123.749,1487.47 123.749,47.2441 \n",
       "  \"/>\n",
       "<polyline clip-path=\"url(#clip6602)\" style=\"stroke:#000000; stroke-width:2; stroke-opacity:0.1; fill:none\" points=\"\n",
       "  519.552,1487.47 519.552,47.2441 \n",
       "  \"/>\n",
       "<polyline clip-path=\"url(#clip6602)\" style=\"stroke:#000000; stroke-width:2; stroke-opacity:0.1; fill:none\" points=\"\n",
       "  915.354,1487.47 915.354,47.2441 \n",
       "  \"/>\n",
       "<polyline clip-path=\"url(#clip6602)\" style=\"stroke:#000000; stroke-width:2; stroke-opacity:0.1; fill:none\" points=\"\n",
       "  1311.16,1487.47 1311.16,47.2441 \n",
       "  \"/>\n",
       "<polyline clip-path=\"url(#clip6602)\" style=\"stroke:#000000; stroke-width:2; stroke-opacity:0.1; fill:none\" points=\"\n",
       "  1706.96,1487.47 1706.96,47.2441 \n",
       "  \"/>\n",
       "<polyline clip-path=\"url(#clip6602)\" style=\"stroke:#000000; stroke-width:2; stroke-opacity:0.1; fill:none\" points=\"\n",
       "  2102.76,1487.47 2102.76,47.2441 \n",
       "  \"/>\n",
       "<polyline clip-path=\"url(#clip6602)\" style=\"stroke:#000000; stroke-width:2; stroke-opacity:0.1; fill:none\" points=\"\n",
       "  113.754,1480.27 2112.76,1480.27 \n",
       "  \"/>\n",
       "<polyline clip-path=\"url(#clip6602)\" style=\"stroke:#000000; stroke-width:2; stroke-opacity:0.1; fill:none\" points=\"\n",
       "  113.754,1123.82 2112.76,1123.82 \n",
       "  \"/>\n",
       "<polyline clip-path=\"url(#clip6602)\" style=\"stroke:#000000; stroke-width:2; stroke-opacity:0.1; fill:none\" points=\"\n",
       "  113.754,767.359 2112.76,767.359 \n",
       "  \"/>\n",
       "<polyline clip-path=\"url(#clip6602)\" style=\"stroke:#000000; stroke-width:2; stroke-opacity:0.1; fill:none\" points=\"\n",
       "  113.754,410.902 2112.76,410.902 \n",
       "  \"/>\n",
       "<polyline clip-path=\"url(#clip6602)\" style=\"stroke:#000000; stroke-width:2; stroke-opacity:0.1; fill:none\" points=\"\n",
       "  113.754,54.4452 2112.76,54.4452 \n",
       "  \"/>\n",
       "<polyline clip-path=\"url(#clip6600)\" style=\"stroke:#000000; stroke-width:4; stroke-opacity:1; fill:none\" points=\"\n",
       "  113.754,1487.47 2112.76,1487.47 \n",
       "  \"/>\n",
       "<polyline clip-path=\"url(#clip6600)\" style=\"stroke:#000000; stroke-width:4; stroke-opacity:1; fill:none\" points=\"\n",
       "  113.754,1487.47 113.754,47.2441 \n",
       "  \"/>\n",
       "<polyline clip-path=\"url(#clip6600)\" style=\"stroke:#000000; stroke-width:4; stroke-opacity:1; fill:none\" points=\"\n",
       "  123.749,1487.47 123.749,1470.19 \n",
       "  \"/>\n",
       "<polyline clip-path=\"url(#clip6600)\" style=\"stroke:#000000; stroke-width:4; stroke-opacity:1; fill:none\" points=\"\n",
       "  519.552,1487.47 519.552,1470.19 \n",
       "  \"/>\n",
       "<polyline clip-path=\"url(#clip6600)\" style=\"stroke:#000000; stroke-width:4; stroke-opacity:1; fill:none\" points=\"\n",
       "  915.354,1487.47 915.354,1470.19 \n",
       "  \"/>\n",
       "<polyline clip-path=\"url(#clip6600)\" style=\"stroke:#000000; stroke-width:4; stroke-opacity:1; fill:none\" points=\"\n",
       "  1311.16,1487.47 1311.16,1470.19 \n",
       "  \"/>\n",
       "<polyline clip-path=\"url(#clip6600)\" style=\"stroke:#000000; stroke-width:4; stroke-opacity:1; fill:none\" points=\"\n",
       "  1706.96,1487.47 1706.96,1470.19 \n",
       "  \"/>\n",
       "<polyline clip-path=\"url(#clip6600)\" style=\"stroke:#000000; stroke-width:4; stroke-opacity:1; fill:none\" points=\"\n",
       "  2102.76,1487.47 2102.76,1470.19 \n",
       "  \"/>\n",
       "<polyline clip-path=\"url(#clip6600)\" style=\"stroke:#000000; stroke-width:4; stroke-opacity:1; fill:none\" points=\"\n",
       "  113.754,1480.27 137.742,1480.27 \n",
       "  \"/>\n",
       "<polyline clip-path=\"url(#clip6600)\" style=\"stroke:#000000; stroke-width:4; stroke-opacity:1; fill:none\" points=\"\n",
       "  113.754,1123.82 137.742,1123.82 \n",
       "  \"/>\n",
       "<polyline clip-path=\"url(#clip6600)\" style=\"stroke:#000000; stroke-width:4; stroke-opacity:1; fill:none\" points=\"\n",
       "  113.754,767.359 137.742,767.359 \n",
       "  \"/>\n",
       "<polyline clip-path=\"url(#clip6600)\" style=\"stroke:#000000; stroke-width:4; stroke-opacity:1; fill:none\" points=\"\n",
       "  113.754,410.902 137.742,410.902 \n",
       "  \"/>\n",
       "<polyline clip-path=\"url(#clip6600)\" style=\"stroke:#000000; stroke-width:4; stroke-opacity:1; fill:none\" points=\"\n",
       "  113.754,54.4452 137.742,54.4452 \n",
       "  \"/>\n",
       "<g clip-path=\"url(#clip6600)\">\n",
       "<text style=\"fill:#000000; fill-opacity:1; font-family:Arial,Helvetica Neue,Helvetica,sans-serif; font-size:48px; text-anchor:middle;\" transform=\"rotate(0, 123.749, 1541.47)\" x=\"123.749\" y=\"1541.47\">0</text>\n",
       "</g>\n",
       "<g clip-path=\"url(#clip6600)\">\n",
       "<text style=\"fill:#000000; fill-opacity:1; font-family:Arial,Helvetica Neue,Helvetica,sans-serif; font-size:48px; text-anchor:middle;\" transform=\"rotate(0, 519.552, 1541.47)\" x=\"519.552\" y=\"1541.47\">1</text>\n",
       "</g>\n",
       "<g clip-path=\"url(#clip6600)\">\n",
       "<text style=\"fill:#000000; fill-opacity:1; font-family:Arial,Helvetica Neue,Helvetica,sans-serif; font-size:48px; text-anchor:middle;\" transform=\"rotate(0, 915.354, 1541.47)\" x=\"915.354\" y=\"1541.47\">2</text>\n",
       "</g>\n",
       "<g clip-path=\"url(#clip6600)\">\n",
       "<text style=\"fill:#000000; fill-opacity:1; font-family:Arial,Helvetica Neue,Helvetica,sans-serif; font-size:48px; text-anchor:middle;\" transform=\"rotate(0, 1311.16, 1541.47)\" x=\"1311.16\" y=\"1541.47\">3</text>\n",
       "</g>\n",
       "<g clip-path=\"url(#clip6600)\">\n",
       "<text style=\"fill:#000000; fill-opacity:1; font-family:Arial,Helvetica Neue,Helvetica,sans-serif; font-size:48px; text-anchor:middle;\" transform=\"rotate(0, 1706.96, 1541.47)\" x=\"1706.96\" y=\"1541.47\">4</text>\n",
       "</g>\n",
       "<g clip-path=\"url(#clip6600)\">\n",
       "<text style=\"fill:#000000; fill-opacity:1; font-family:Arial,Helvetica Neue,Helvetica,sans-serif; font-size:48px; text-anchor:middle;\" transform=\"rotate(0, 2102.76, 1541.47)\" x=\"2102.76\" y=\"1541.47\">5</text>\n",
       "</g>\n",
       "<g clip-path=\"url(#clip6600)\">\n",
       "<text style=\"fill:#000000; fill-opacity:1; font-family:Arial,Helvetica Neue,Helvetica,sans-serif; font-size:48px; text-anchor:end;\" transform=\"rotate(0, 89.7545, 1497.77)\" x=\"89.7545\" y=\"1497.77\">0</text>\n",
       "</g>\n",
       "<g clip-path=\"url(#clip6600)\">\n",
       "<text style=\"fill:#000000; fill-opacity:1; font-family:Arial,Helvetica Neue,Helvetica,sans-serif; font-size:48px; text-anchor:end;\" transform=\"rotate(0, 89.7545, 1141.32)\" x=\"89.7545\" y=\"1141.32\">1</text>\n",
       "</g>\n",
       "<g clip-path=\"url(#clip6600)\">\n",
       "<text style=\"fill:#000000; fill-opacity:1; font-family:Arial,Helvetica Neue,Helvetica,sans-serif; font-size:48px; text-anchor:end;\" transform=\"rotate(0, 89.7545, 784.859)\" x=\"89.7545\" y=\"784.859\">2</text>\n",
       "</g>\n",
       "<g clip-path=\"url(#clip6600)\">\n",
       "<text style=\"fill:#000000; fill-opacity:1; font-family:Arial,Helvetica Neue,Helvetica,sans-serif; font-size:48px; text-anchor:end;\" transform=\"rotate(0, 89.7545, 428.402)\" x=\"89.7545\" y=\"428.402\">3</text>\n",
       "</g>\n",
       "<g clip-path=\"url(#clip6600)\">\n",
       "<text style=\"fill:#000000; fill-opacity:1; font-family:Arial,Helvetica Neue,Helvetica,sans-serif; font-size:48px; text-anchor:end;\" transform=\"rotate(0, 89.7545, 71.9452)\" x=\"89.7545\" y=\"71.9452\">4</text>\n",
       "</g>\n",
       "<g clip-path=\"url(#clip6602)\">\n",
       "<image width=\"1999\" height=\"1440\" xlink:href=\"data:image/png;base64,\n",
       "iVBORw0KGgoAAAANSUhEUgAAB88AAAWgCAYAAADQIAL0AAAgAElEQVR4nOzbgY3surJlW1HK2s+x\n",
       "b0L7b0ifSrE9+MDFmfuBFzGGAQtBUklRjKr1/63/s6/Q+vkp4671+bR5cX1XXV+cd/3Eec/T5n3O\n",
       "ztvH13fPynvavPez0rx+vG19+Xjr+uKfW13fbpf3euv68vmL806fv7i+0+evzrsOr+/0vKt9nM+v\n",
       "L86bVl+eF8vnD/4DK73d+Avq+uK8fP6m1fe2eafXd3redXh9ed43zovru7/tA338/MV5589fW9+d\n",
       "r0dc32+8HvX6/rYL3I+3ra8e7+l512/7A1lxXl1fnveN8/75TeP2b5t3xXn7n3/avIPrq6/WAAAA\n",
       "AAAAAOC/juY5AAAAAAAAAONpngMAAAAAAAAwnuY5AAAAAAAAAONpngMAAAAAAAAwnuY5AAAAAAAA\n",
       "AONpngMAAAAAAAAwnuY5AAAAAAAAAONpngMAAAAAAAAwnuY5AAAAAAAAAONpngMAAAAAAAAwnuY5\n",
       "AAAAAAAAAONpngMAAAAAAAAwnuY5AAAAAAAAAON91vOkgetp+/F1fVdeX/z3B594vHdcXz3eOG8P\n",
       "q29a3vtZaV4/3ra+frxxffF2Vde34/re4+tr8/Z99njzvPj1kedNG+/hefWfn+7253ZdcV4+f3V9\n",
       "h89fPt42rh9v7fT6+HfiBzr/fcSB+eNcz1893tPre9u8+n2Zz1883nr+Ts+76rxvnFdvMPF439UW\n",
       "uOL5W/EPLv6czufv/tZvzPi+KX7B3Xl9rfy/G+MX0huP+M4/qNu40/NWfCDacV5dX34ArPPift6K\n",
       "D2w73g9WfgFdHzi6+vznOQAAAAAAAADjaZ4DAAAAAAAAMJ7mOQAAAAAAAADjaZ4DAAAAAAAAMJ7m\n",
       "OQAAAAAAAADjaZ4DAAAAAAAAMJ7mOQAAAAAAAADjaZ4DAAAAAAAAMJ7mOQAAAAAAAADjaZ4DAAAA\n",
       "AAAAMJ7mOQAAAAAAAADjaZ4DAAAAAAAAMJ7mOQAAAAAAAADjfa7naRMPz1uH13fd8d8zPGfn7WH1\n",
       "7WfFeafXd/h4P2197+Hz98bblfr+nX34eOv68vmLXx/5etT1DRtv/eed+fy1P7d+vHV9cZ75O0y+\n",
       "vrsNhP/Aqn/A8eOc/zriwPrnu982L68vfn8cP3/1eS2uLx9vnfeN8+Ltatp47/p89Y3vD+INuj9O\n",
       "tokrHu8d11evR15f/P7o/1syvo+tN/z8/Fd/YJ59gFlxfTvOq+vr1yPOq/uh9frWG1a9H4T1+c9z\n",
       "AAAAAAAAAMbTPAcAAAAAAABgPM1zAAAAAAAAAMbTPAcAAAAAAABgPM1zAAAAAAAAAMbTPAcAAAAA\n",
       "AABgPM1zAAAAAAAAAMbTPAcAAAAAAABgPM1zAAAAAAAAAMbTPAcAAAAAAABgPM1zAAAAAAAAAMbT\n",
       "PAcAAAAAAABgPM1zAAAAAAAAAMbTPAcAAAAAAABgvM96njRw3W3eFdd3fl789wzD8na8HjuvL877\n",
       "rDivre994vrivLy+eD3eeHvp5y+N6+v7pHHXPn28eX1xXvz6UJ+8/8jh9e12O+jHW9cX5+17t4Gn\n",
       "j7eNO3688J/YO/6FHL691PXV07fe+Hurrq+ev7fNW/V5KK6vPh+s099HdV68Htc3zqvHG9cXby/5\n",
       "83fXgfGGVc/fHT8wb/yCm1dfq/7ceuMXyJ3/f2j9wqw/0Nu4/Lybn8en5dUXivkPOI1bb/x7e7r6\n",
       "/Oc5AAAAAAAAAONpngMAAAAAAAAwnuY5AAAAAAAAAONpngMAAAAAAAAwnuY5AAAAAAAAAONpngMA\n",
       "AAAAAAAwnuY5AAAAAAAAAONpngMAAAAAAAAwnuY5AAAAAAAAAONpngMAAAAAAAAwnuY5AAAAAAAA\n",
       "AONpngMAAAAAAAAwnuY5AAAAAAAAAON9rifunz9PGrfq+u62vuuu6zt7vDte3/p5uZ4V58Xr8Wnz\n",
       "djzePO/T5r2fNC4f7xs/zsfXV69vPn9t3pv/3tK44/Py9Y2353z+htVX/zlmPn/x8eD48d67DYzn\n",
       "7/T1OH68K17fWj1/bVyvXt/a4ROYT9/h493xhpBvB3HeftvAery7fl2+8RP9tnH1+2jV7996vHHe\n",
       "qvO+cV69vofXd8f11eLH5VrxG/OON/x6vHf8wLzxeO94PfL64g3/9PnLj3/5ea3+4G/j8gNRfIHV\n",
       "n9favKu+f8nz6n5tO4E7vzDu6vOf5wAAAAAAAACMp3kOAAAAAAAAwHia5wAAAAAAAACMp3kOAAAA\n",
       "AAAAwHia5wAAAAAAAACMp3kOAAAAAAAAwHia5wAAAAAAAACMp3kOAAAAAAAAwHia5wAAAAAAAACM\n",
       "p3kOAAAAAAAAwHia5wAAAAAAAACMp3kOAAAAAAAAwHia5wAAAAAAAACM91n30yY+cT/+Ob2+s/P2\n",
       "sPryvM9K896nzavH29d3el4al9f3jquvzcuf508a9xfG2+bt+PXR/94Oz6vnb1he/eed/Xh3nJfG\n",
       "XVe7/R1f31WvR13f4Xnt7F3XtfLEVr0e08TLmz8t8Q84f1x2vF/FE5j/fN/4PF6P923z6vNBXd+K\n",
       "1+Oq5y8ubx3+/s3z4vXI6/u2cflw4/Hehz8vbxx4x2/0en3veIN54/He8Xrs+oWZ15fGXW+cd8cf\n",
       "wO9un+j6ee4vTNq4VZ+f4wdm5fNXf3DVefWFdvv7WOEFuf88BwAAAAAAAGA8zXMAAAAAAAAAxtM8\n",
       "BwAAAAAAAGA8zXMAAAAAAAAAxtM8BwAAAAAAAGA8zXMAAAAAAAAAxtM8BwAAAAAAAGA8zXMAAAAA\n",
       "AAAAxtM8BwAAAAAAAGA8zXMAAAAAAAAAxtM8BwAAAAAAAGA8zXMAAAAAAAAAxtM8BwAAAAAAAGA8\n",
       "zXMAAAAAAAAAxvtcz5MGrjjvuuP+/ul5z9l5O89bcd608Z6d906rL/755uP9pHHXjrf7fD3i8b7x\n",
       "eOv5Oz0vn7/899bm1X+eePp48/ruHeelccev77UOn792u8+fl7q+4/Ouw+evdnp9p4sfl9yO9798\n",
       "w2rj6rx4+q71tnn5/OX1xc9LXN9+2wms13e9Z8/f9Y3z6u0lzsuPL3HgXRcYr2/9+NXDrY/3b1zh\n",
       "HW/49Xrc8Xh3/AKu79fy5yV+n9efg/V5qN6gd/2Bnp+H6gVpx7vqBzBfj8N/IHE/tO4nl+dd/3kO\n",
       "AAAAAAAAwHia5wAAAAAAAACMp3kOAAAAAAAAwHia5wAAAAAAAACMp3kOAAAAAAAAwHia5wAAAAAA\n",
       "AACMp3kOAAAAAAAAwHia5wAAAAAAAACMp3kOAAAAAAAAwHia5wAAAAAAAACMp3kOAAAAAAAAwHia\n",
       "5wAAAAAAAACMp3kOAAAAAAAAwHif9cT98zvOq+s7PG+fPn/3avPq+Xva+nY83ry+aXn5eqRx1/s5\n",
       "u758vPX6ftK46z18/vr1aPNOH2+eF78u87zDx3s9O407fT2u+/Dxxse1erzXtPryvPj5i+urh5s7\n",
       "vsDDxT+3Wl3e2nFi/YOrB1wP923z+vra9cifl3r+4vH29cXvt2+8vvX78hvnnX5+icdbP3758TTO\n",
       "q9XzV4/3jVfkjl8g/XZ/+njrfkAblx/X8vNVfH9a/4Dj+91VX3DE54O8H/W2eSu+X+t/IPX61vPX\n",
       "5Z3+LgcAAAAAAACAv07zHAAAAAAAAIDxNM8BAAAAAAAAGE/zHAAAAAAAAIDxNM8BAAAAAAAAGE/z\n",
       "HAAAAAAAAIDxNM8BAAAAAAAAGE/zHAAAAAAAAIDxNM8BAAAAAAAAGE/zHAAAAAAAAIDxNM8BAAAA\n",
       "AAAAGE/zHAAAAAAAAIDxNM8BAAAAAAAAGE/zHAAAAAAAAIDxPtcd98+fp82r68vHe3beflacd3p9\n",
       "s/Lew+vb8XbwxnnG+2/z0ri/MN6z895Pm3f6eHf8upxX327zDp+/64nHW69vPd54fa8V59XjbV9H\n",
       "+e9jxfXl6xHXVw83H2+sH28dGIuX4+zVva61D1+QXS9IfL6vt6u3zcsfwDc+b9Tr8bZ5Kx7vFa/v\n",
       "/sbjrd9H3zYuP3Dk9cV5tfy81sbFP9/j//ut3u7rz6MdL/AbvzDr9a3fR/PGm8Zdd34+SOP+wnmy\n",
       "3lDrC534/uDw+voH+vB+8tv9QE5/9wIAAAAAAADAX6d5DgAAAAAAAMB4mucAAAAAAAAAjKd5DgAA\n",
       "AAAAAMB4mucAAAAAAAAAjKd5DgAAAAAAAMB4mucAAAAAAAAAjKd5DgAAAAAAAMB4mucAAAAAAAAA\n",
       "jKd5DgAAAAAAAMB4mucAAAAAAAAAjKd5DgAAAAAAAMB4mucAAAAAAAAAjPe5nqdNvON+fJ33tHl7\n",
       "WH37WW3e6fUdn5fGXW+ct+9Z483nL35e+vpm5b2fNu/08eZ58evy/PHuNi8fb1xfvb71n3fG69Hn\n",
       "tXHH17fa+lb7urxWXN8V11fPX15frF7f64rnb5gVPzA7X444sK5vxw90PYF1ffX7qK7vbePyvHi/\n",
       "3/GGWufl7998PeLn71u/z+v62rjc4eeXWv04n/7fdPXrLZ+/+H30Hn5+yV/n9fzF9xunj3fXD3Re\n",
       "X90vqzeEtr5V36+98X3J4fOX/+DCfvfp70oAAAAAAAAA+Os0zwEAAAAAAAAYT/McAAAAAAAAgPE0\n",
       "zwEAAAAAAAAYT/McAAAAAAAAgPE0zwEAAAAAAAAYT/McAAAAAAAAgPE0zwEAAAAAAAAYT/McAAAA\n",
       "AAAAgPE0zwEAAAAAAAAYT/McAAAAAAAAgPE0zwEAAAAAAAAYT/McAAAAAAAAgPE+1x33z+/V5j1t\n",
       "ffv4+uL1eA4fb1zf8Xnx83d63vukcX9hfdO4vL5+/tq899Pm5fUdPn/j8uLX2/vsNO/0+bvq8cbr\n",
       "seP68j/vvOv6ho13tXmrHm9dX3x87us7fLyxerycZe+zH8AdP375ePO8esDx99tbv3/j+XvbuGl5\n",
       "u67vG69v/D7a8Qt4fePzQZp2XXedePbr43j5dtrG5dtVXl8+f/H7Mn6f1+eXN67vrs8b9X1Jfv/S\n",
       "5vXntTTuWvmFYvz7eNv6Vn3/97YLsuL+4BXXV/a7/ec5AAAAAAAAAONpngMAAAAAAAAwnuY5AAAA\n",
       "AAAAAONpngMAAAAAAAAwnuY5AAAAAAAAAONpngMAAAAAAAAwnuY5AAAAAAAAAONpngMAAAAAAAAw\n",
       "nuY5AAAAAAAAAONpngMAAAAAAAAwnuY5AAAAAAAAAONpngMAAAAAAAAwnuY5AAAAAAAAAONpngMA\n",
       "AAAAAAAw3ue64/756XlPm7fj+vaz4rx6vHV9cV5c3xvXV+ftJ437C3n1/KVx/Xjj7er89T087xPn\n",
       "nT7eOK//ve04L437C3nteOs/d+zri/MOn796vGsdvh718T4e7zp9PdrjUF7fiuu7rtPr4yQ7/rnV\n",
       "P7i6vr3jB/rw+vYbfw/G3/vXW+/3Z99vXG8bl8/fN56/+v0R13fl5426vjburc8v8Xr477J/J3+d\n",
       "x/LzRv7+jfPq+6H8c7U+r8X3TfF438PPf3d8Xsvv1+L66v5g/gN52/rW6ePN+8ldfc4GAAAAAAAA\n",
       "AIyneQ4AAAAAAADAeJrnAAAAAAAAAIyneQ4AAAAAAADAeJrnAAAAAAAAAIyneQ4AAAAAAADAeJrn\n",
       "AAAAAAAAAIyneQ4AAAAAAADAeJrnAAAAAAAAAIyneQ4AAAAAAADAeJrnAAAAAAAAAIyneQ4AAAAA\n",
       "AADAeJrnAAAAAAAAAIz3ue7VJj5tP37fcX+/zntOn7+2vh2P9/y8NK7Pq9c3/nnkefH8vfnvI43r\n",
       "x5s/f23e6fWNW99nx3lp3F/Iq8fb5l3xeK+7ri/Oq+uL81ael8b19a3D5+/w+u66vvjzY11nr8eV\n",
       "j5d/I17dPHDv+HwfPzE7Hu9bj/etvy/bvHV4fftN467rjc+n+Qvk8A3628bFP7e8vt7pb8z29/HG\n",
       "4z3+v9Xq91H8vVp/Dp5e3+nng7u+L4nfl/19dt3vieevfv7q89Xh9V1x3or7efX573rrfmN8f5DP\n",
       "X7fBHP8uBwAAAAAAAIC/TfMcAAAAAAAAgPE0zwEAAAAAAAAYT/McAAAAAAAAgPE0zwEAAAAAAAAY\n",
       "T/McAAAAAAAAgPE0zwEAAAAAAAAYT/McAAAAAAAAgPE0zwEAAAAAAAAYT/McAAAAAAAAgPE0zwEA\n",
       "AAAAAAAYT/McAAAAAAAAgPE0zwEAAAAAAAAYT/McAAAAAAAAgPE+1x33z+u8Z6Vx+2nr23dcX52X\n",
       "z9+w8R6/vmncX3he0rjj5+/N10PeUXnx661/Xnacl8b1eZ96vG3edcd58fxdh4931fMX593x/K37\n",
       "TfPudfZ63HVePd44r68vjcvHW9d3XafXN8uOt+fris/3cX17n13fW9cXf2/V9b1vPN44762/V9/2\n",
       "A+T9pnH1z/eKH5e8vquev9jx89cHxtoN+o3HW38e5d+Xsf680erf521e/bzk56H6/io/r9UTWJ/X\n",
       "0rj+vq693sj7Fdfh58krPk9ecT90vfECx+fdsj/tP88BAAAAAAAAGE/zHAAAAAAAAIDxNM8BAAAA\n",
       "AAAAGE/zHAAAAAAAAIDxNM8BAAAAAAAAGE/zHAAAAAAAAIDxNM8BAAAAAAAAGE/zHAAAAAAAAIDx\n",
       "NM8BAAAAAAAAGE/zHAAAAAAAAIDxNM8BAAAAAAAAGE/zHAAAAAAAAIDxNM8BAAAAAAAAGO9z3W3/\n",
       "fN8rzavru+r6nnj+nnr+2rx6ffeTxl07flxOz3vj9Xjj9ajz8udlWl79/J0+3uPzdpyXxvV5n3q8\n",
       "bd41Le9u81adF4/3juur89b9pnmnj/deh493nZ238s+Fur44L027rus6vb5W/Pa46hHX9e0dfx/F\n",
       "eTsecF1fnvfGefH9UF3fivPi5bhW/AKp5+/61vOXT+DZed82rn9/1Ga9gev32+nesz9/8/uS+gdX\n",
       "nzf680ubl29Y8fut/l49vV+R3yfW57W8v1WfJ+sL/HpDrfvJ7f3QCuvzn+cAAAAAAAAAjKd5DgAA\n",
       "AAAAAMB4mucAAAAAAAAAjKd5DgAAAAAAAMB4mucAAAAAAAAAjKd5DgAAAAAAAMB4mucAAAAAAAAA\n",
       "jKd5DgAAAAAAAMB4mucAAAAAAAAAjKd5DgAAAAAAAMB4mucAAAAAAAAAjKd5DgAAAAAAAMB4mucA\n",
       "AAAAAAAAjPe57rh/HuftPG/NynsOz5s23ieN6/Pi7aBe3/f0+Yvz3no9Dh9v/vzV63H6/NV5n93m\n",
       "PW3eNSxv1fXdbd4d13ffb5q34vE+T1vfXdcXz9+96vWNx7vOXo98/uK8dcV57fHvWvl4+Tfit9G1\n",
       "d/y9FRe44yfmjceb571t3je+z3nfdoHf+Hv1G3/A1eO9vm19K97w3xXP3zeNy18g9X56uvPHe/YJ\n",
       "od4O8v+mqxe4vt+I68vXY9p44/PGjr/f8vu1+nx6+vm5/Tzv1yN+/q78eY7ry/Pi82Ten+4eaP95\n",
       "DgAAAAAAAMB4mucAAAAAAAAAjKd5DgAAAAAAAMB4mucAAAAAAAAAjKd5DgAAAAAAAMB4mucAAAAA\n",
       "AAAAjKd5DgAAAAAAAMB4mucAAAAAAAAAjKd5DgAAAAAAAMB4mucAAAAAAAAAjKd5DgAAAAAAAMB4\n",
       "mucAAAAAAAAAjKd5DgAAAAAAAMB4mucAAAAAAAAAjPe5ntUmPnE//vD69h3XF+fV9e14eXe8vnl9\n",
       "ed7h463X40nj/gvWN86r5+/09Ti+vh3npXF/ob427xqWtw6v777fNq+u72nre+LxPnc73mn13evs\n",
       "8d7r9Lx6PeL9L027rnV6fXFeLX4b9Xk7/v5I067rjet74wNqXl/8vfp92/3qvdv5+75tXr2ffldb\n",
       "X72f1vN3fdu4eod+6/VI0/r973T5ePPAeIV3/L0fvz+u+H6jXo/6/iWvr86r/13y9Pu/+jz5xr+3\n",
       "vB9Q15fG9f2Fw9djHd7PW3W/Nl6Pqz5Pht8f/vMcAAAAAAAAgPE0zwEAAAAAAAAYT/McAAAAAAAA\n",
       "gPE0zwEAAAAAAAAYT/McAAAAAAAAgPE0zwEAAAAAAAAYT/McAAAAAAAAgPE0zwEAAAAAAAAYT/Mc\n",
       "AAAAAAAAgPE0zwEAAAAAAAAYT/McAAAAAAAAgPE0zwEAAAAAAAAYT/McAAAAAAAAgPE++4775/dK\n",
       "4/bpec/heafPX/z4nV9fnPfEedPGOy2v/nOp08f77DgvjfsL9bV517C8dXje/bxn593teD9xfc99\n",
       "eF493tXmfeL1refvjsf7rHi8cX13XN+K8+Lj+LWuerxp3HXF9fXi76N4uDuu763r23V9bd43PuB/\n",
       "6/HG903feIF/6/05Hu/9rffnuL54P/1t464Vb/jrm8Zd7+H/z3T6261Wv99y8f688wHHv7f8fd7m\n",
       "5fdhp4+3rq99/Z5//3z6ePN+SnzfeXq/J+7nXW883jivPgCufH27BT77pAYAAAAAAAAA/ws0zwEA\n",
       "AAAAAAAYT/McAAAAAAAAgPE0zwEAAAAAAAAYT/McAAAAAAAAgPE0zwEAAAAAAAAYT/McAAAAAAAA\n",
       "gPE0zwEAAAAAAAAYT/McAAAAAAAAgPE0zwEAAAAAAAAYT/McAAAAAAAAgPE0zwEAAAAAAAAYT/Mc\n",
       "AAAAAAAAgPE0zwEAAAAAAAAY73PdKw3cd9yPz+tr806vbz9p3LWferxp3F/IO3w9Tq8vH6+8f5V3\n",
       "/HrsNi8e7/XMqu/0vHV43v28R+c9h+d97ri+OO8zbbxrVn13/D566vpWvF9d8X4a1xd/vV0rHm9e\n",
       "YC0e7o4HHJd37d3W98bjfeP6vvGB/H3b+n7j+r6rzbvj+6vv2z7Rv/V++j17v7/ivO931v8LvYf/\n",
       "f1S93+cOf1+uHd9HxO+jq66vvr+v71/q5+Xw+8R6e8nvJ+v1iM9Du75PrOur72Pz5yUeb3xeq9dj\n",
       "Hd5v7OtrH5gV3jedfbICAAAAAAAAgP8FmucAAAAAAAAAjKd5DgAAAAAAAMB4mucAAAAAAAAAjKd5\n",
       "DgAAAAAAAMB4mucAAAAAAAAAjKd5DgAAAAAAAMB4mucAAAAAAAAAjKd5DgAAAAAAAMB4mucAAAAA\n",
       "AAAAjKd5DgAAAAAAAMB4mucAAAAAAAAAjKd5DgAAAAAAAMB4n+uO++f3SuN2nHd6fefnpXHn1/fE\n",
       "edPqOz2vnr9p63H6/D07zkvjriuu7zq8vnV43v28R+c9cd7n9Lz72+bl9Z2eF8/fip/nerx5ffH+\n",
       "csX7y4rrq/OueL+PPwevur40rRefNq56xDsu8I3re/fhefH/Q3zjH9wTf4B8V5tX1/e72gP56fv9\n",
       "7/fs/f70/fl09f5Sy99v8f5cV7jr+uoXcFxfXV7+wJx+v1aPt/2cmXffWc/f6fXl/Z54Pz29HxXX\n",
       "tw7vN9b1lf3us09CAAAAAAAAAPC/QPMcAAAAAAAAgPE0zwEAAAAAAAAYT/McAAAAAAAAgPE0zwEA\n",
       "AAAAAAAYT/McAAAAAAAAgPE0zwEAAAAAAAAYT/McAAAAAAAAgPE0zwEAAAAAAAAYT/McAAAAAAAA\n",
       "gPE0zwEAAAAAAAAYT/McAAAAAAAAgPE0zwEAAAAAAAAY77PvlQbWedfd9vdPH++O/5whz4uXtx/v\n",
       "6etxen1x3nN43uHzd50+f8+O89K448d73XHe6fXFeffzHp33xHmfPO+b5v3U9d1tffX8/cT1/dz1\n",
       "/MV5qx3vk9fX7i/PiveXPC/eT684L65vxfWt+Htmmh0fD/bVLsgbf7C+p9cXf4B8V5v37Hb/6+tr\n",
       "Pxieen+Ox7tWO97z9+d4w+Jf+eYXMG1c/j1dx8X3G/0FbxyXHzja8cbbfX++Ov1+sh5ve9z4L+gH\n",
       "xPexp9d3fD+qzju7f7nyfm19/9yN13+eAwAAAAAAADCe5jkAAAAAAAAA42meAwAAAAAAADCe5jkA\n",
       "AAAAAAAA42meAwAAAAAAADCe5jkAAAAAAAAA42meAwAAAAAAADCe5jkAAAAAAAAA42meAwAAAAAA\n",
       "ADCe5jkAAAAAAAAA42meAwAAAAAAADCe5jkAAAAAAAAA42meAwAAAAAAADCe5jkAAAAAAAAA432u\n",
       "e7WJcd6O2/vn59Xzd3peGidPnrz/37wd56Vxf6G+Nu+q856z61txfffzHp33xHmfPO+b5v3E9f3E\n",
       "9X3uNu9PPd64vnq8nzt+/lad1473We1+9cTz98Tz91zx/hzXd8frccfjjb9+ryuurxd/v6Vp1/XG\n",
       "9b27zmsPvN94vN+6vrfNe+L1+F1Pmnfvej9t5++uxxtvgKven/sNmoPEP7frjf8fbNcFtj/f/AVc\n",
       "3+fU/55X3z/X9yV9fW3c+esrT95/kjetH3X6/X2btw7uT/vPcwAAAAAAAADG0zwHAAAAAAAAYDzN\n",
       "cwAAAAAAAADG0zwHAAAAAAAAYDzNcwAAAAAAAADG0zwHAAAAAAAAYDzNcwAAAAAAAADG0zwHAAAA\n",
       "AAAAYDzNcwAAAAAAAADG0zwHAAAAAAAAYDzNcwAAAAAAAADG0zwHAAAAAAAAYDzNcwAAAAAAAADG\n",
       "++x7pYHy/m1eGvdfkHf6/MX1PWlcP97T65N3Vt6z28D4+evz4vHebd6K67vj+u68vjfN+zx13jfN\n",
       "+4nr+8nra/P+3HF9dV49fyt+/uLxfvL64rzVjvepxxvn3avdT+vx3lf8fovH257ur+uKx9uLv2fS\n",
       "tOvau63vjcf7jQ/Qbzze37i+72rzfuMPzOeN9794/p74A6Te71e9P8fjXf0Gzb+w4w1/P/ECxwW+\n",
       "8fdqPX/5/Ub8PqoPCLuewPfs++f63xun1ZffZ7efR3+hvvp5jve/vN9T15fGnd+PGpZ3hXn+8xwA\n",
       "AAAAAACA8TTPAQAAAAAAABhP8xwAAAAAAACA8TTPAQAAAAAAABhP8xwAAAAAAACA8TTPAQAAAAAA\n",
       "ABhP8xwAAAAAAACA8TTPAQAAAAAAABhP8xwAAAAAAACA8TTPAQAAAAAAABhP8xwAAAAAAACA8TTP\n",
       "AQAAAAAAABhP8xwAAAAAAACA8TTPAQAAAE0A6XcAACAASURBVAAAABjvc62VBu67zbuOz2vjTh/v\n",
       "jscrT95/ZFp9z47z0ri/8Ly0470Oz1vx+q77TfPup8174rzPsPp+nu/ReX/uOK8eb1zf6XmfVdcX\n",
       "P89xfZ8V7wfH19e+P+64vvuq64vfl3F90+yr/b58d5yX19ceeL/xeH/z+toPht/d7i//rLa++23n\n",
       "L9+v3na88W1TfZ04Tv02qvfnnb8u4wcmri8f79PuL3l98f1Gf78WPy/1fVi8IOs9+/5+HX4fK0/e\n",
       "f+T4/mB9n316v7HNW+EB1X+eAwAAAAAAADCe5jkAAAAAAAAA42meAwAAAAAAADCe5jkAAAAAAAAA\n",
       "42meAwAAAAAAADCe5jkAAAAAAAAA42meAwAAAAAAADCe5jkAAAAAAAAA42meAwAAAAAAADCe5jkA\n",
       "AAAAAAAA42meAwAAAAAAADCe5jkAAAAAAAAA42meAwAAAAAAADDeZ9+rTVxtXl3fjv9c4Pj64uW9\n",
       "Th/v8fXNyqv/POf08Z6ed907jcvre+L64rz1pHH5etzxeOu8537bvKfN+7m/o/L+1HnPb5t3+Pz1\n",
       "ee3z/Ge161GP97POnr9ntXn1eJ+rHm/8/ojz1nV63tna0V7Xjkdc573xB/C3zos/kH53e0D97nZ/\n",
       "+edtx/vE9T1XO3//N/7Bnb//9TvM0eLy9uHTF28v14730/3EefGCfOsFPny88fHv2m873pXfh519\n",
       "/3z6few6vL55efXzHG8IdX3xhjVtPer61sH9ZP95DgAAAAAAAMB4mucAAAAAAAAAjKd5DgAAAAAA\n",
       "AMB4mucAAAAAAAAAjKd5DgAAAAAAAMB4mucAAAAAAAAAjKd5DgAAAAAAAMB4mucAAAAAAAAAjKd5\n",
       "DgAAAAAAAMB4mucAAAAAAAAAjKd5DgAAAAAAAMB4mucAAAAAAAAAjKd5DgAAAAAAAMB4n+teaeCO\n",
       "2/G7Le/a48Z7dt41bLynr2/95zSnr0c+3me3eafPXzzeej3W3dZX593x/N33e3Te87R5n7i+T1zf\n",
       "T573TfP+1Hn32Xk/h+f9uX/jvHi86+z5q+v7xHnPivfTOu+K30dxfXdcX3wcv664vl78/ZumXdcb\n",
       "1/fGB95vXN+3rm+3+9XvftK8Z7V5/7z1fhXvL3F96/rEea1+P62dvf/tvL56P43rew6vL78fqsd7\n",
       "9v1L3V+o75v2G9d3+H3iisd7+v3kOry+0/sB+j3/Mu/48cb7QXx+7veDbrz+8xwAAAAAAACA8TTP\n",
       "AQAAAAAAABhP8xwAAAAAAACA8TTPAQAAAAAAABhP8xwAAAAAAACA8TTPAQAAAAAAABhP8xwAAAAA\n",
       "AACA8TTPAQAAAAAAABhP8xwAAAAAAACA8TTPAQAAAAAAABhP8xwAAAAAAACA8TTPAQAAAAAAABhP\n",
       "8xwAAAAAAACA8TTPAQAAAAAAABjvc92rTTw9L47bqw3c8Xh3Pt44r/7zjTjv9PpOH+/p83f+eHca\n",
       "t580Lq/v9LwV59332+Y9bX2fp63vicdb1/eJ6/u5v2nenzivru/0vD/3b5r3P4fXl8/fOru+z4qf\n",
       "vzjvWfF+dcXvj7i++4rflyt+n8f1xZ9Hufh0de14xG/8gfnG3+dvfMD/XW3eN67vnx2f/+q8ev/b\n",
       "8X5V739pWr//1U7fr+LH5dr1/lfnPWfXt+P66vXY8f6X3xcffn+V3//Fz8t64/u6w9c3Pr4cfx9b\n",
       "j/f0++zT6zu/v3V2P++Kv6eP7/+Gef7zHAAAAAAAAIDxNM8BAAAAAAAAGE/zHAAAAAAAAIDxNM8B\n",
       "AAAAAAAAGE/zHAAAAAAAAIDxNM8BAAAAAAAAGE/zHAAAAAAAAIDxNM8BAAAAAAAAGE/zHAAAAAAA\n",
       "AIDxNM8BAAAAAAAAGE/zHAAAAAAAAIDxNM8BAAAAAAAAGE/zHAAAAAAAAIDxPnu1gXu1gTtu7+87\n",
       "HnD95wf1esTjPX096vr69Tg8L98P4rx8/nYbePj6XoePt65v5XlvnNfW98T11Xmfp837iev7ub9t\n",
       "3nN4XjzeP3neb5r3P3FeXV89f/V4f1acV//eVpv3qfOueD9dbd4d5z1X/P6N56/+HLzi8fbaAb/x\n",
       "cPdqD5TffLxtfb91Xjx/z25/b//EeXe9H+x6v6r3g9Pzzrbj/aCevTffr+Lxxnnvc3h98QGhzuvv\n",
       "I9r3R3+/Vt/ft/XV99nx6zxfj7yfMu7+uc2L22//Bf2e05/ns+/bj1+Pup8cxvnPcwAAAAAAAADG\n",
       "0zwHAAAAAAAAYDzNcwAAAAAAAADG0zwHAAAAAAAAYDzNcwAAAAAAAADG0zwHAAAAAAAAYDzNcwAA\n",
       "AAAAAADG0zwHAAAAAAAAYDzNcwAAAAAAAADG0zwHAAAAAAAAYDzNcwAAAAAAAADG0zwHAAAAAAAA\n",
       "YDzNcwAAAAAAAADG0zwHAAAAAAAAYLzPvlebGLfj92rr23l9cV795wz1eE/PO3w9puWNe/7uHeel\n",
       "cdcV13d63orz7jzvTfOew/M+ed43zft54ry6vtXm/anri/Pq+v7cv2ne/xyeV4/3T/z8/ay2vvr3\n",
       "8cnz4v0vzruv+P0R17eu+P2bpl3XFdfXaz+Q3vp7K67vGx+g39Xm/cb15Xn1flDn1efxHX9/xPtB\n",
       "nVerf7/H58XL8cb3se8T58UXbN84L5+/OO8b59X39/391dn3Q/395NnrceX1pXFXfLz6L7gvPjxv\n",
       "WD/l+H7F6esR92vr/b7cn/3nOQAAAAAAAADjaZ4DAAAAAAAAMJ7mOQAAAAAAAADjaZ4DAAAAAAAA\n",
       "MJ7mOQAAAAAAAADjaZ4DAAAAAAAAMJ7mOQAAAAAAAADjaZ4DAAAAAAAAMJ7mOQAAAAAAAADjaZ4D\n",
       "AAAAAAAAMJ7mOQAAAAAAAADjaZ4DAAAAAAAAMJ7mOQAAAAAAAADjfa610sB9t3l5e//w8e54+uq8\n",
       "6/C8HT8ved7h83f8etTjPfx5ue4d57VxdX1rWN7ztHl3nPe531F5P+Pyvmnen/s3zfufPK8db19f\n",
       "m/dnxXlxfT+rXY+feLw/K96vrna8T1xfnne1eeuK35dx3jRv/MGw47zvag+83/iA/4kP5L/rSfP+\n",
       "2e3v997x7zfOW2/9vZDG/QVnXyDUu3O9v7zxhcQbvy/f+Pf7jb8/vnF9b3wf+33aH/AT71dvvl+d\n",
       "nbfz+7C6X1GPt62vfh/l/Yq4vrjd09+PHz5/+X32tPXI1zcOzPsph+9/4YZw/NEeAAAAAAAAAP42\n",
       "zXMAAAAAAAAAxtM8BwAAAAAAAGA8zXMAAAAAAAAAxtM8BwAAAAAAAGA8zXMAAAAAAAAAxtM8BwAA\n",
       "AAAAAGA8zXMAAAAAAAAAxtM8BwAAAAAAAGA8zXMAAAAAAAAAxtM8BwAAAAAAAGA8zXMAAAAAAAAA\n",
       "xtM8BwAAAAAAAGC8z47b53vVeW1gXd9V593xeOv1Pby+fD3y9W3j+vVt8/r522ncvPG2eSvPS+Ou\n",
       "O67vvt807xmW94nzfu5vmveJ835WnJfX95vm/Ynr+3PX9R2eF6/H/xxeX/78xb+3z+l5V7zfrzbv\n",
       "juu7r/i8EZ/XVlxfbccH1B0P943re+MPrm+c9xsfeJ8d7wfXk+bVv998P6i/B9vl6L/36/0gTfsL\n",
       "+0F8AfjG92F1fd+4vp847xs/0PV46/20fl7q8Z5+v1vfX/X3Yf+PfbvLcRxrzjVKUqr2/MfbKdLX\n",
       "NnDcB8inOuOrWGsAL2L/kNxkSGlcfkCt16P+/jd9vP38tXnT+x/z+1Hxfo7rO874/je+Xzu33+Of\n",
       "5wAAAAAAAACsp3kOAAAAAAAAwHqa5wAAAAAAAACsp3kOAAAAAAAAwHqa5wAAAAAAAACsp3kOAAAA\n",
       "AAAAwHqa5wAAAAAAAACsp3kOAAAAAAAAwHqa5wAAAAAAAACsp3kOAAAAAAAAwHqa5wAAAAAAAACs\n",
       "p3kOAAAAAAAAwHqa5wAAAAAAAACsp3kOAAAAAAAAwHrv4zzbxDovbu8/dV483DrvGF5fnjd9vwzf\n",
       "f/l+GT5/x/WkcU+cV9//zrOtL398xPNX573ivCvOe593m3fVeZ84r63vVz5/7Xh/xXl/5Xlfo/P+\n",
       "q847p9f3d5r3VzzefD8fbX3vM75f1feXo63vFdd3HfHzsj6/xPXVx/FafDo9nvgAeMcvNHe8Ip/4\n",
       "QP46XnFee/3WefX7x3XPvh/kf09pl+M4rvb6qO8v9fXb31/aBf7E9f2KP5h86vfBpz2/fOL9/Lnb\n",
       "8X6u+PkRfz+4h39/OfMPTvX9Pr6f5uuRxh1PPt40Lv8+qV/xzbzh66Ff9k113uD+tH+eAwAAAAAA\n",
       "ALCe5jkAAAAAAAAA62meAwAAAAAAALCe5jkAAAAAAAAA62meAwAAAAAAALCe5jkAAAAAAAAA62me\n",
       "AwAAAAAAALCe5jkAAAAAAAAA62meAwAAAAAAALCe5jkAAAAAAAAA62meAwAAAAAAALCe5jkAAAAA\n",
       "AAAA62meAwAAAAAAALDe+zjbwGd4Xj1e8yfvT8p74p/TPNfTBk6/PuqfI9XzN7y+M867hue9zrvN\n",
       "u2bnvcfnfeK8tr5fZ1vfr3i8f8X11Xm/zq80768rzjv/bvPy+mbn5dfHEd8P4vre8fPjOuLn29HW\n",
       "lx+fz/j8kqb14tPk8cQH6Po8/okPvHd9XnvivOOV5l319fHMfl+oL5B4efP38/tuL7j7rPPaAX+u\n",
       "OC9ekK+8vvi8EY/3HV8gX8Pff193m1fv5/r7xp1/v6rz4gPH8Prq81V8u8+/Fz/x/NXjnd4P2Jan\n",
       "//Y9m+bPP88BAAAAAAAAWE/zHAAAAAAAAID1NM8BAAAAAAAAWE/zHAAAAAAAAID1NM8BAAAAAAAA\n",
       "WE/zHAAAAAAAAID1NM8BAAAAAAAAWE/zHAAAAAAAAID1NM8BAAAAAAAAWE/zHAAAAAAAAID1NM8B\n",
       "AAAAAAAAWE/zHAAAAAAAAID1NM8BAAAAAAAAWE/zHAAAAAAAAID13s95tol1Oz6urx7vE09fPX+P\n",
       "vO/lxeub5+XX2+y8fLz5/D1xXhwX13debd4V13fF9b2uO86r62vz3vF432ecd33avLi+X2db3694\n",
       "vHl951ebd7V5f8X1bcv7r+H15fv5aPNe9f3vaPOuuL7riJ/ncV5/3I3Pf7EnHnH9PnPH9b3i6+OO\n",
       "X0Dq8+5r+PU2/fqt5e/78Yjv+HvYfbV5n3gCv872+v1cbd5XfH/5xOPN37fuur72fv81/P28/h5R\n",
       "7+f6+XbH81d/r8v7KfX3xPj+XH+Pradv+vfnbf2FbXl5Py/fL/X9qo074vt9OV7/PAcAAAAAAABg\n",
       "Pc1zAAAAAAAAANbTPAcAAAAAAABgPc1zAAAAAAAAANbTPAcAAAAAAABgPc1zAAAAAAAAANbTPAcA\n",
       "AAAAAABgPc1zAAAAAAAAANbTPAcAAAAAAABgPc1zAAAAAAAAANbTPAcAAAAAAABgPc1zAAAAAAAA\n",
       "ANbTPAcAAAAAAABgvfdxtoHP2QY+cX31eI9r+njjwOHrUc/fU/+8ZPr8xePt9/OTxj1xXv5zpGt2\n",
       "fWc8f2c83uu827y4vtfV1lfnveP5ey+r79f5GZ331xXXF+f9VY83z/tq8/L5i+sbnldfH+9j9v3q\n",
       "FddX513x+eA64vNGmnYcR1xfL35fTdOO447ru+MXkM/w/fyVXx+z82p1dU/9feiOr4+zfSG84xfM\n",
       "zxXnHe354BN/MPmK1+PreqV572f2+9b7nv0+Xedd8fVRfy854/rq70359938e13dX4if59P7R/n3\n",
       "zjZv3/f76Xmzr7f6ftD3U9K4/H5Qjtc/zwEAAAAAAABYT/McAAAAAAAAgPU0zwEAAAAAAABYT/Mc\n",
       "AAAAAAAAgPU0zwEAAAAAAABYT/McAAAAAAAAgPU0zwEAAAAAAABYT/McAAAAAAAAgPU0zwEAAAAA\n",
       "AABYT/McAAAAAAAAgPU0zwEAAAAAAABYT/McAAAAAAAAgPU0zwEAAAAAAABY7/3U7fNzdt4zPG/b\n",
       "eKfPX74e8fU2fv7q8db3q2X3v+N80rjravPO4fVdcX2v807z3nHe64rzho/3fX7avHj+3ldb3694\n",
       "vH3eV5t3xXnxeP862vr+mr4edX1HfP3W95dj9v30FdeXH9fi81B/XGvPB7W6ujrvftrEO17gKx7x\n",
       "FY+3Pj+fcX35+3QbdzxxgU/8gn6fbd4nPg994gvu62yfIJ/4vPH31db3fl5xXn0easebn1/q9627\n",
       "zfuKx1t/j9j2PeeO6zvi+/O277Hx7WV+P6Wev+Hfn6f3j6b3U7aNd3L/zT/PAQAAAAAAAFhP8xwA\n",
       "AAAAAACA9TTPAQAAAAAAAFhP8xwAAAAAAACA9TTPAQAAAAAAAFhP8xwAAAAAAACA9TTPAQAAAAAA\n",
       "AFhP8xwAAAAAAACA9TTPAQAAAAAAAFhP8xwAAAAAAACA9TTPAQAAAAAAAFhP8xwAAAAAAACA9TTP\n",
       "AQAAAAAAAFhP8xwAAAAAAACA9d7HcaaBTxuX58XDzfO2jVferLznfOK8NG7+/F3t/J3xevR5adxx\n",
       "XXebF4/3dcb1xfvlFc/fK56/dzx/9XrU9b3PT5r3K86bXp+8b+YdX2neX3l99fzF129cX37/O+rn\n",
       "WxqX11f/2rs+v8wXn+/buOOO1+MTH/CvZ/b59IwXJL8+4v2Sv7/FL6x3PIGf+A6Y551t3ld83qjz\n",
       "fsXj/Ts/37/SvOnvW/X7av0+nb/v198j4v1cf8+54/rq72H599P8e2L8wBze/6jXY/r8yZuVt67/\n",
       "MTyvHLB/ngMAAAAAAACwnuY5AAAAAAAAAOtpngMAAAAAAACwnuY5AAAAAAAAAOtpngMAAAAAAACw\n",
       "nuY5AAAAAAAAAOtpngMAAAAAAACwnuY5AAAAAAAAAOtpngMAAAAAAACwnuY5AAAAAAAAAOtpngMA\n",
       "AAAAAACwnuY5AAAAAAAAAOtpngMAAAAAAACw3vs548Rledvmrx6vvG+S9828p42L68vz4p9LnfH8\n",
       "XXXeNTvvFY+3z7vbvCvOi+t7n584r65v9nh/yfuj897Hsv2cjze+Px91XusVn1+ueLzTj6e1dvb6\n",
       "95k7nsHrqc+naVz+74Uzvl/V8v0Xb8A7fn7c8Qp/pufFL5hf8Xr8nZ/v2yfm9PPQKx5v/j541++X\n",
       "s9/Pp3/fqL/n1N+b+u9hbd707539B8o2bnre9P7Ctrxt+2X6eCfPn3+eAwAAAAAAALCe5jkAAAAA\n",
       "AAAA62meAwAAAAAAALCe5jkAAAAAAAAA62meAwAAAAAAALCe5jkAAAAAAAAA62meAwAAAAAAALCe\n",
       "5jkAAAAAAAAA62meAwAAAAAAALCe5jkAAAAAAAAA62meAwAAAAAAALCe5jkAAAAAAAAA62meAwAA\n",
       "AAAAALCe5jkAAAAAAAAA672PM04828CnzkvTjqOev2d4Xr9fluXF5u+X9op74rx+v9T1tXlnnXfV\n",
       "9aVxxxWPt857nXead8V5dX2veP7eV1tfnnd+Ruf9Gl5fPt5j9vz16zF7P9fr8T7q8cb3q/gN5B0/\n",
       "L19xfa807TecD/o3wlXu+AD9PPV5LY07rni8Zzze/HvE095Pa/X7ar2f7/j59on/7/J52ryvs82b\n",
       "ft79e/h59321T+B3fD94xfe/be/T079v1Oe1/nvT7O91fV7dn5m9X/L+Ub2f27j5/Y/hefP7KW1c\n",
       "/fZbX2+T+zP+eQ4AAAAAAADAeprnAAAAAAAAAKyneQ4AAAAAAADAeprnAAAAAAAAAKyneQ4AAAAA\n",
       "AADAeprnAAAAAAAAAKyneQ4AAAAAAADAeprnAAAAAAAAAKyneQ4AAAAAAADAeprnAAAAAAAAAKyn\n",
       "eQ4AAAAAAADAeprnAAAAAAAAAKyneQ4AAAAAAADAeu/jbAOfNq43fbxnXGAcl8/fsrzp6zF9faeP\n",
       "d3reebZ3rDrvkvctr+F513Gnea9zdt57eN748cb75X1+2rwjzsvrm70e9f77Fd+v3vEJ/1f8PH/F\n",
       "9b2G11f/2rs+rv2OxFa7Hk+cd+evv23g+dTn5/qFK/4ikX8viZ9H8QvmHdd318/zp70Dvs8473m1\n",
       "edvOu8PHW+f174PD33/lfcv071fTv/9Nz6u/F9fHq23zNz1v+nrUG7B+35r+utr3V7so/zwHAAAA\n",
       "AAAAYD3NcwAAAAAAAADW0zwHAAAAAAAAYD3NcwAAAAAAAADW0zwHAAAAAAAAYD3NcwAAAAAAAADW\n",
       "0zwHAAAAAAAAYD3NcwAAAAAAAADW0zwHAAAAAAAAYD3NcwAAAAAAAADW0zwHAAAAAAAAYD3NcwAA\n",
       "AAAAAADW0zwHAAAAAAAAYL33c55tYhzX5w0fb+yJ66vz5u+XNs78Tct7RuedeX1x3PDxXnnePTxv\n",
       "9vy94vG+juF5w8f7zufvk+a96/mL895nO97x+6+evyO+v8R57/h5mY83rq+ev1d84Djj97f+1+PD\n",
       "Xwjj9W3vBsdxPfF5Mh5vvf/OeLz195wnru+dph3HPfx89Ypf+PvzxivNy89rT3ye9L4wK2/Z+++2\n",
       "7wfTvw9N/x72DP8+Ob6fMjyv7gfUy7Ft/vL+TG18P3T2/bl8P/LPcwAAAAAAAADW0zwHAAAAAAAA\n",
       "YD3NcwAAAAAAAADW0zwHAAAAAAAAYD3NcwAAAAAAAADW0zwHAAAAAAAAYD3NcwAAAAAAAADW0zwH\n",
       "AAAAAAAAYD3NcwAAAAAAAADW0zwHAAAAAAAAYD3NcwAAAAAAAADW0zwHAAAAAAAAYD3NcwAAAAAA\n",
       "AADW0zwHAAAAAAAAYL13nnjmiamnri/Oy+vbZvr85fvlifPSuH494vHW9Z3j89r5m19fm3eNz7tH\n",
       "573i8c7Pq+dvdt47r++T5r2PuL48r91/9XjfdX3x8yPPi8f7Gl9fW+AV/z77ig9s04+7tSeusP71\n",
       "/V2f/+L73/nU7x/tejxxfU9dX5p2HHc83jveL5/4CqnPG/l5qD6vna80b/r5uc+b/n606/13+veD\n",
       "6d9f5n9vSuPyvP777vDz0PDv7We9wLXh5U03vZ8yvt84uD7/PAcAAAAAAABgPc1zAAAAAAAAANbT\n",
       "PAcAAAAAAABgPc1zAAAAAAAAANbTPAcAAAAAAABgPc1zAAAAAAAAANbTPAcAAAAAAABgPc1zAAAA\n",
       "AAAAANbTPAcAAAAAAABgPc1zAAAAAAAAANbTPAcAAAAAAABgPc1zAAAAAAAAANbTPAcAAAAAAABg\n",
       "vfdx/nQJ/7dnen11YD3ebXm1bfXJm+Vs7zBnPN4zru+S94fn3aPzXnVefELI65uedwyvL74+6vrq\n",
       "6zffz9Pz4udlX19b4Cv+PfUVH7DqvDOev+nHyfp99Xni82madhxn/f+A+P5cz98T7+c7rq+dveN4\n",
       "xXn987I+D7X7Oa/vmX5eG543/H1h+vvb/Pdfed9Rf2+qv4fV3+ty07+fbsurbatvWd7wu8v4fm25\n",
       "Hv55DgAAAAAAAMB6mucAAAAAAAAArKd5DgAAAAAAAMB6mucAAAAAAAAArKd5DgAAAAAAAMB6mucA\n",
       "AAAAAAAArKd5DgAAAAAAAMB6mucAAAAAAAAArKd5DgAAAAAAAMB6mucAAAAAAAAArKd5DgAAAAAA\n",
       "AMB6mucAAAAAAAAArKd5DgAAAAAAAMB6mucAAAAAAAAArPc+zjbwifNydX3Txxt76jz7749W75de\n",
       "XGG8vmd+v2rHm5dXz1+8vldc3xWvx1WPN5+/4Xn5eO82L67vdQyvL17f6eMdv775/a/Ne7Vxxytf\n",
       "j3bAV/z75yuu73W29Z35/PEdd3xgq89rx9Pe/554x9T35yeevzu+3j7186ONO17xfunvz7PPB/V5\n",
       "7Xpmj3fb+8K697fx85fG5c/f/ntOrP4eNr6/UH+RbQucXd1vMLzA6f2Z+f2F2Pj7Syvv54V5vh0A\n",
       "AAAAAAAAsJ7mOQAAAAAAAADraZ4DAAAAAAAAsJ7mOQAAAAAAAADraZ4DAAAAAAAAsJ7mOQAAAAAA\n",
       "AADraZ4DAAAAAAAAsJ7mOQAAAAAAAADraZ4DAAAAAAAAsJ7mOQAAAAAAAADraZ4DAAAAAAAAsJ7m\n",
       "OQAAAAAAAADraZ4DAAAAAAAAsN77+ekK/sn50wX8y+LxPvX8LVuPev7Gr8cZ3xHyvDau38+z76j5\n",
       "9MXre8bzd8YDzutL037DeOP1veL5y/POu82L63vV9cXr+zrq+Zu9HvPrq9d3dt4V3//qXxdf8Q36\n",
       "FT9BXmc74iuur87rj5OzX5Ce4eeX9m56HEe8n4+nrfCJ7wfXM/t++orre6Vpv+F+v+680daXnyfr\n",
       "8+7w94Xp7zN1Xv49Iv9+UOdNH+/w9U3Tfof6++n0DT39e3EbOL2/MP76GD5/8ycwNny85d3FP88B\n",
       "AAAAAAAAWE/zHAAAAAAAAID1NM8BAAAAAAAAWE/zHAAAAAAAAID1NM8BAAAAAAAAWE/zHAAAAAAA\n",
       "AID1NM8BAAAAAAAAWE/zHAAAAAAAAID1NM8BAAAAAAAAWE/zHAAAAAAAAID1NM8BAAAAAAAAWE/z\n",
       "HAAAAAAAAID1NM8BAAAAAAAAWO/90wX825468KwD+ZZl65Hv5+mmr29c33m2K5znpWnHcdbzF18h\n",
       "89ejzat/XVeP95o+f9PrO+40L1/f4esxPy+Ny+8HfV69/9oJlDcrLz9O1geYWHx7Wff+8Qzfz33e\n",
       "9Ptpq39eDj8P1XnP7Pej64nPu8PPp+Pry98XWr4ffDMv/54T5w1fj23fO6erz7vjp298gcvE67Ht\n",
       "/a3kn+cAAAAAAAAArKd5DgAAAAAAAMB6mucAAAAAAAAArKd5DgAAAAAAAMB6mucAAAAAAAAArKd5\n",
       "DgAAAAAAAMB6mucAAAAAAAAArKd5DgAAAAAAAMB6mucAAAAAAAAArKd5DgAAAAAAAMB6mucAAAAA\n",
       "AAAArKd5DgAAAAAAAMB6mucAAAAAAAAArKd5DgAAAAAAAMB67+OME+u82vD6njpw+voOX491tq3v\n",
       "9PqmO9s71hnfAc94fadfHv381evb5Diz1wAAIABJREFUqsd7Dd/PV72+adpvqG/4eoyfvzRt/v20\n",
       "/jXwGQ/4ikdc19ffn7eNd7anvoBj8e3+N5yH4vvBM/v6uJ5lz6N4/41/ng8/r03ff/367nqf6e8H\n",
       "y8Zb5+Xn+/qBnn8h32X28W/+BcL3TF/fOG/83Wr69TF4ff3zHAAAAAAAAID1NM8BAAAAAAAAWE/z\n",
       "HAAAAAAAAID1NM8BAAAAAAAAWE/zHAAAAAAAAID1NM8BAAAAAAAAWE/zHAAAAAAAAID1NM8BAAAA\n",
       "AAAAWE/zHAAAAAAAAID1NM8BAAAAAAAAWE/zHAAAAAAAAID1NM8BAAAAAAAAWE/zHAAAAAAAAID1\n",
       "3j9dwD86f7qAf9m28U5Xr8f0PP5o47dfHvikaef0vHj+xo83TfsdecPn75xd3zV9/obn9fPXmp5X\n",
       "/7r4jCvs569N7OevdS07QNejvfP7VevJr7f6frrrepue57zxPePnb/h51/vRsLxl79P195J6w0zf\n",
       "z/zhpm9AG3qWbeuxaLz+eQ4AAAAAAADAeprnAAAAAAAAAKyneQ4AAAAAAADAeprnAAAAAAAAAKyn\n",
       "eQ4AAAAAAADAeprnAAAAAAAAAKyneQ4AAAAAAADAeprnAAAAAAAAAKyneQ4AAAAAAADAeprnAAAA\n",
       "AAAAAKyneQ4AAAAAAADAeprnAAAAAAAAAKyneQ4AAAAAAADAeprnAAAAAAAAAKz3/ukC/snz0wXA\n",
       "Iq637znPOnB4Xmz8cOPAer8MX97fsL71HavNy9c33y/xeNO03vj7y3D5/I2//81e4TOur39e1vXt\n",
       "Wo/ak9/v2/E+9f3gmT3e/o1r9v0gv98ve2Hddn6Z/r4w/Xyfv894X/he3vALeHh5veEDrvfLssfl\n",
       "8NMV/Fk23V/88xwAAAAAAACA9TTPAQAAAAAAAFhP8xwAAAAAAACA9TTPAQAAAAAAAFhP8xwAAAAA\n",
       "AACA9TTPAQAAAAAAAFhP8xwAAAAAAACA9TTPAQAAAAAAAFhP8xwAAAAAAACA9TTPAQAAAAAAAFhP\n",
       "8xwAAAAAAACA9TTPAQAAAAAAAFhP8xwAAAAAAACA9d4/XcB/vPOnC4BFzuenK+A/ybr7c3t99NM3\n",
       "+/rdNt7ppl++dX3T8+bfX1rz16PWVjh9vNPrq9XjrZ9u/XrMHvG2+8v859Hs+9++9d1m9v2lN328\n",
       "y97f5m8YJsm/x9qA8P/k8hjDP88BAAAAAAAAWE/zHAAAAAAAAID1NM8BAAAAAAAAWE/zHAAAAAAA\n",
       "AID1NM8BAAAAAAAAWE/zHAAAAAAAAID1NM8BAAAAAAAAWE/zHAAAAAAAAID1NM8BAAAAAAAAWE/z\n",
       "HAAAAAAAAID1NM8BAAAAAAAAWE/zHAAAAAAAAID1NM8BAAAAAAAAWE/zHAAAAAAAAID1NM8BAAAA\n",
       "AAAAWE/zHAAAAAAAAID1NM8BAAAAAAAAWE/zHAAAAAAAAID1NM8BAAAAAAAAWE/zHAAAAAAAAID1\n",
       "NM8BAAAAAAAAWE/zHAAAAAAAAID1NM8BAAAAAAAAWE/zHAAAAAAAAID1NM8BAAAAAAAAWE/zHAAA\n",
       "AAAAAID1NM8BAAAAAAAAWE/zHAAAAAAAAID13j9dAMD/t+esA+M8Rlm3vO310U9fff22to13uumX\n",
       "b13f9Lzatvqmj7eu8Invf9NPf9Pv9tP3X1/f7BFvu79sq296Xm16ffNNf3+rTR/v9Cd6bP6GYZL8\n",
       "eyzAfP55DgAAAAAAAMB6mucAAAAAAAAArKd5DgAAAAAAAMB6mucAAAAAAAAArKd5DgAAAAAAAMB6\n",
       "mucAAAAAAAAArKd5DgAAAAAAAMB6mucAAAAAAAAArKd5DgAAAAAAAMB6mucAAAAAAAAArKd5DgAA\n",
       "AAAAAMB6mucAAAAAAAAArKd5DgAAAAAAAMB6758u4J+cP13AP3l+ugDo1Nfbtstj/HiHF1iXlw83\n",
       "DnzqvDYu169vfcdq86avbz1/2/bfNvl+iS+QJ39hmL1jnri+/H46fH3P/P43e7/U8vHW+yVN+09Y\n",
       "3+Hzl5+Hxn8hGm3Xbp5/3q2vj/x9Zvj81cav7/j3y+GGFzi8vPGcDvijDL8hbLre/PMcAAAAAAAA\n",
       "gPU0zwEAAAAAAABYT/McAAAAAAAAgPU0zwEAAAAAAABYT/McAAAAAAAAgPU0zwEAAAAAAABYT/Mc\n",
       "AAAAAAAAgPU0zwEAAAAAAABYT/McAAAAAAAAgPU0zwEAAAAAAABYT/McAAAAAAAAgPU0zwEAAAAA\n",
       "AABYT/McAAAAAAAAgPU0zwEAAAAAAABY7/3TBfC/PD9dAP9DvR7W9882fL8ML+83BJ5p2pPntZ58\n",
       "vyybvzwvHu8zPO9s8+7h+29ffe0VMv36veO8fv5mr2+9/+pfe9/xeNvR9lxv381r9ddba/p+6fff\n",
       "tuf5rvrGn5+9H83KG//9pT5xxHnj5294oO/Ffzb75c9mPf5Y/nkOAAAAAAAAwHqa5wAAAAAAAACs\n",
       "p3kOAAAAAAAAwHqa5wAAAAAAAACsp3kOAAAAAAAAwHqa5wAAAAAAAACsp3kOAAAAAAAAwHqa5wAA\n",
       "AAAAAACsp3kOAAAAAAAAwHqa5wAAAAAAAACsp3kOAAAAAAAAwHqa5wAAAAAAAACsp3kOAAAAAAAA\n",
       "wHrv44kTp+dtYz3+bNPXd/p+mV7fdM/Zxh11XqvPa8d71POXr28r3y/D9/M9/PrI66vX41w2f2na\n",
       "cTxxYLy8x93GHU884Pts8664vv76iOsbfl6r5y9X75c07TfslzTtN9wP8uujrq81/nnUxs1/ng8/\n",
       "r02fv76+2esx/v28PlBOX980bf79JX9h2Gb4+fk/YEMzifWdZfp6hHn+eQ4AAAAAAADAeprnAAAA\n",
       "AAAAAKyneQ4AAAAAAADAeprnAAAAAAAAAKyneQ4AAAAAAADAeprnAAAAAAAAAKyneQ4AAAAAAADA\n",
       "eprnAAAAAAAAAKyneQ4AAAAAAADAeprnAAAAAAAAAKyneQ4AAAAAAADAeprnAAAAAAAAAKyneQ4A\n",
       "AAAAAADAeu+fLuBf9/x0Af+386cL+LfV6zF8fWv1fhk/fdMLjOt7nnaF87w07TfkTZ+/OO9O0/q8\n",
       "fLz5/M2u76nri38/ma/vOXs98v2S57Xu+MDR36/q+WufSNPzzvEHrFZ9fj6HT98Tr2893OnXx768\n",
       "4c+jOi/e0Pl5Y3pevF/696P4vDv8fWH8+4z33z87L03b931o/HF8en0x/ZlhecON3y/L1qPkn+cA\n",
       "AAAAAAAArKd5DgAAAAAAAMB6mucAAAAAAAAArKd5DgAAAAAAAMB6mucAAAAAAAAArKd5DgAAAAAA\n",
       "AMB6mucAAAAAAAAArKd5DgAAAAAAAMB6mucAAAAAAAAArKd5DgAAAAAAAMB6mucAAAAAAAAArKd5\n",
       "DgAAAAAAAMB6mucAAAAAAAAArKd5DgAAAAAAAMB67/OnK/iX5eN9ZueddX3bDF+PJ99/8RWS7796\n",
       "Atu433CHSeXbJd4vfV4aN/12P3497vj6yPOe9veEfX2z8z5nPX/D1yOv747z4vVN0/q8V3zDv+PH\n",
       "+R3X98kPlO3+O+L7Qf287H89vuuFK94txxPP3yfez5+4vvp+UK/HHW/nT/48Gn6eHH/emF3fpx7v\n",
       "8PPzuveZOG/6++/87wd13q716E3/HhvLvz/Pnr+8PzN9fYcbvx71/mvjxivH65/nAAAAAAAAAKyn\n",
       "eQ4AAAAAAADAeprnAAAAAAAAAKyneQ4AAAAAAADAeprnAAAAAAAAAKyneQ4AAAAAAADAeprnAAAA\n",
       "AAAAAKyneQ4AAAAAAADAeprnAAAAAAAAAKyneQ4AAAAAAADAeprnAAAAAAAAAKyneQ4AAAAAAADA\n",
       "eprnAAAAAAAAAKz3Pp428Izz6vryvGXq9Z2+X842bt32y+cvn8C4wrjAfLxPvSKterxPvL53PH95\n",
       "Xj1e8/e9vKf9feIn/r1jnVfP3yde3885e7z5/NXr+3zavDTtOD7x4+2K1+OMT4BnPINn/Xvqp62v\n",
       "Xo/nrNd3tvw4GR/Y7rjCPq/dz5+4vk/+/Gjd8Qas86afh6afD+rz2vjx5uer4ftv2/vbsvmrv5f0\n",
       "3+ti9fwN/57df+9s46afn6fL5294vyfvH20z/H41uT/on+cAAAAAAAAArKd5DgAAAAAAAMB6mucA\n",
       "AAAAAAAArKd5DgAAAAAAAMB6mucAAAAAAAAArKd5DgAAAAAAAMB6mucAAAAAAAAArKd5DgAAAAAA\n",
       "AMB6mucAAAAAAAAArKd5DgAAAAAAAMB6mucAAAAAAAAArKd5DgAAAAAAAMB6mucAAAAAAAAArKd5\n",
       "DgAAAAAAAMB6758u4J+cP13APzifOHBbXqzeL8/0+ZM3K6/2tDu63s9PXl+bdw/P2zd/7e/16rxP\n",
       "nRc/kfL64vXN6zuXrW/8e9b7uNO8z1mPt1X/GviKH5hnPH9n/UA/2/3yxCtSH9fq+Zv+vjr9+HzH\n",
       "ifn9L94v/fkgjfsNz7fZefV5d915Lb7f75u/2fVNf3/zfj4rb/r89d93h58Apx8A5Y3KG76bx89f\n",
       "vh7D+xXj90vIP88BAAAAAAAAWE/zHAAAAAAAAID1NM8BAAAAAAAAWE/zHAAAAAAAAID1NM8BAAAA\n",
       "AAAAWE/zHAAAAAAAAID1NM8BAAAAAAAAWE/zHAAAAAAAAID1NM8BAAAAAAAAWE/zHAAAAAAAAID1\n",
       "NM8BAAAAAAAAWE/zHAAAAAAAAID1NM8BAAAAAAAAWO99PHGivG8527j5hq9HLh9vu2POpy0wjsvH\n",
       "WxdYj3f6/N1xfXd8B3zy8c7O+yyrb35e+/vEPO94tXnDx/t11vNX591p3ldc3xXXd8UPuPr8fJ6z\n",
       "z1dHXN8T1/eK98sdj7f/9fj0N7h2fdvV7fffJx7vJ17fT3w7+Irr+6rrmz7e/Hke75e4vny8w89/\n",
       "286789+Pdr2vTv9+kH8vie9/9fem+nvY/O9/dV79PbaNO5eNNzd9/w2Xvw1OX49Fef55DgAAAAAA\n",
       "AMB6mucAAAAAAAAArKd5DgAAAAAAAMB6mucAAAAAAAAArKd5DgAAAAAAAMB6mucAAAAAAAAArKd5\n",
       "DgAAAAAAAMB6mucAAAAAAAAArKd5DgAAAAAAAMB6mucAAAAAAAAArKd5DgAAAAAAAMB6mucAAAAA\n",
       "AAAArKd5DgAAAAAAAMB67/N54sizjYvL2zfeNq+ub1tevR51Xn55jM+rr98278nz0rjfUF+bdw+v\n",
       "7/O0v1+7h+d94t/rjc8bPn9fcX1f56vNO9q8z/NJ8+r63ued5n3iG36+/+IDTP1r4Pp94Tzr51Fb\n",
       "31PXFx/Yrni87dV2HPn7YC7eL2lavx6feD0+8YDr+r6m15evx7bzWn0eiuuLz0N53vD1nb7/pueN\n",
       "f/+N87Z9L9n2PWz698n533fbuOnf76fP3/S88esRy/uhi8brn+cAAAAAAAAArKd5DgAAAAAAAMB6\n",
       "mucAAAAAAAAArKd5DgAAAAAAAMB6mucAAAAAAAAArKd5DgAAAAAAAMB6mucAAAAAAAAArKd5DgAA\n",
       "AAAAAMB6mucAAAAAAAAArKd5DgAAAAAAAMB6mucAAAAAAAAArKd5DgAAAAAAAMB6mucAAAAAAAAA\n",
       "rKd5DgAAAAAAAMB67+NpA884b7p8vE8c+JxpXD3ebXn55ZHvvzYun7/h452e98T3gzzvTuOOO67v\n",
       "ftrfm/X1tXmfY3h98XrUeV/D87aN9+t4tXlne8P6im+AV/wAvuLf217xA/3vI36AtLer/ADznPXz\n",
       "PK4vnsB4uMc1/cA23B2vb32+/7Rx+XnoKx7vV1zf38PPa1/x8yjPe+LzRn1+qesbfv7bdt6d/n60\n",
       "7X112/eI+nvO9O9X44+Tw/P6fsrwvNj0/sf0vH6/tIH6q98U5vnnOQAAAAAAAADraZ4DAAAAAAAA\n",
       "sJ7mOQAAAAAAAADraZ4DAAAAAAAAsJ7mOQAAAAAAAADraZ4DAAAAAAAAsJ7mOQAAAAAAAADraZ4D\n",
       "AAAAAAAAsJ7mOQAAAAAAAADraZ4DAAAAAAAAsJ7mOQAAAAAAAADraZ4DAAAAAAAAsJ7mOQAAAAAA\n",
       "AADrvfPE50njzjbuOJ+zDczra/Pq+uTNyuuvjzbvGX691ferIx9vm5cPN67vHp73yfPa369ty/uq\n",
       "8+4473y1eU+b93ec9yvOy8d73mne64nzjjbvyvPa9Tjjx2XtjNf3qI8H8QP9jgu84/Fe9ftlPN7h\n",
       "23n660y+/z5xgZ827vj8N/t2gCurjkRZFMhb8x9vvZvYPYFWS623v+RfsdYAjsJgjHFkxuP9xvvT\n",
       "b/z/it/4/VHvD+r9ZL2/yvOOvx9nX7/Tx5t/zxz+PTgv7+zzkjqvPm+qz8NOP//rN4Bnj/f08/Hj\n",
       "N+Ty/srp86V/PvIGQ5sX8s9zAAAAAAAAAMbTPAcAAAAAAABgPM1zAAAAAAAAAMbTPAcAAAAAAABg\n",
       "PM1zAAAAAAAAAMbTPAcAAAAAAABgPM1zAAAAAAAAAMbTPAcAAAAAAABgPM1zAAAAAAAAAMbTPAcA\n",
       "AAAAAABgPM1zAAAAAAAAAMbTPAcAAAAAAABgPM1zAAAAAAAAAMbTPAcAAAAAAABgvJ97x4nD8k6/\n",
       "fnV9p+dNmy/78PGef/3uOK8t8PjxrjTuWnF9a8V5cX3v6Xmr/X3de5+d970/ad673zTvu+Px7na8\n",
       "v3HeT5z3iResz3V23lPnxS+ku35fpmm9Hd+P+PV7xa/La8X394nv8H36hDlc/f1Rz+c3ni9vPN66\n",
       "vnx/cLXv376+Nq/ev8g7K6/e79bz+T18f59/D56ed/j3+bTzkvq8qT4Pq8876/3VHY932vn96efZ\n",
       "08Z7et7p1+/0+XLy9fPPcwAAAAAAAADG0zwHAAAAAAAAYDzNcwAAAAAAAADG0zwHAAAAAAAAYDzN\n",
       "cwAAAAAAAADG0zwHAAAAAAAAYDzNcwAAAAAAAADG0zwHAAAAAAAAYDzNcwAAAAAAAADG0zwHAAAA\n",
       "AAAAYDzNcwAAAAAAAADG0zwHAAAAAAAAYDzNcwAAAAAAAADG+7n2TgPvfcd5adx1HZ43bbynX786\n",
       "L37c/oHrVz+/bYHnX782b8f341ptXl3fiutbcX1vXV+c967293DvE9e34/rivG+c97s/ad5PnPef\n",
       "/aZ5p4/3s1ebd52d98QvpPp9fsWvt/p9Xr9+8/fl3c6XFd/fdnW5rvh11H8v5B9IrR0/cPVoVxy4\n",
       "4vG+dV69f4n/D5Hvh672ff4n3h/8Xj9tXl2fvL9y+v7+9PGe/v325t/7bX399/7Z5yX1eOv98z68\n",
       "vmn9gP78vv6Aa+POv35t3unX7/T7MW28/fXrAv3zHAAAAAAAAIDxNM8BAAAAAAAAGE/zHAAAAAAA\n",
       "AIDxNM8BAAAAAAAAGE/zHAAAAAAAAIDxNM8BAAAAAAAAGE/zHAAAAAAAAIDxNM8BAAAAAAAAGE/z\n",
       "HAAAAAAAAIDxNM8BAAAAAAAAGE/zHAAAAAAAAIDxNM8BAAAAAAAAGE/zHAAAAAAAAIDxfu4dJx6e\n",
       "V4/39Os3bbyn551+P/bp12+1eTvOu9bd5tU3ZLf17Xi8e7e/51qrvcErru+N8751fSuu7zl7vN/9\n",
       "afPW2+bdbX2/90+a94kX1J8d17fa9fTztHlP/EK/4/fHHb/Q47dlHrjr9+Xd5q24vnW1z289n598\n",
       "Pk8Tz+c07bpWXF/9fLzx/w3qvHw/FNf3G++vfuP9wZ+4vj9XW1893t91eH2Hz5fvqr8XDv+emfa9\n",
       "evj3fn0esQ4/z6nPm+rzsH5DFNcXn3fW57HO7//SsLxp92PaeE++fv55DgAAAAAAAMB4mucAAAAA\n",
       "AAAAjKd5DgAAAAAAAMB4mucAAAAAAAAAjKd5DgAAAAAAAMB4mucAAAAAAAAAjKd5DgAAAAAAAMB4\n",
       "mucAAAAAAAAAjKd5DgAAAAAAAMB4mucAAAAAAAAAjKd5DgAAAAAAAMB4mucAAAAAAAAAjKd5DgAA\n",
       "AAAAAMB4mucAAAAAAAAAjPdz7Tbw3nHgvuO8Nu6Kx3vn4z37ftz5/Ds7b682L39+4/rqvH34/Nv1\n",
       "87bi9WC19a34fjzxfFm7/X3YWm2B72rrq/O+T5w3rL7f+5Pm/cQvkE88nz9XO95P/AJ5rjgvvh93\n",
       "vD7fT5yXpvV2XOG+3jRvxfX9xHnvHb/P4/3QE2946/l85x+Yrf75aNXPR54X7ye/8f8X3ri+3/h9\n",
       "/rvbvD/75+y8VddXX7+z835XXF+cV8/nOi//3qrXv8PrO/37fMXnQ/X7rT7vrM+b4s/B/rwuP8+u\n",
       "64vPYw8/f/4HNryp0/sfdd75/bw07h/o57Vx5/eTuyj/PAcAAAAAAABgPM1zAAAAAAAAAMbTPAcA\n",
       "AAAAAABgPM1zAAAAAAAAAMbTPAcAAAAAAABgPM1zAAAAAAAAAMbTPAcAAAAAAABgPM1zAAAAAAAA\n",
       "AMbTPAcAAAAAAABgPM1zAAAAAAAAAMbTPAcAAAAAAABgPM1zAAAAAAAAAMbTPAcAAAAAAABgvJ9r\n",
       "7TZx32ncvdv67ni4dzzeK69vVt61zs47/frFj1s/n+P7sfP5Uq8H7QXc9XoVj3fF9a24vne1vzd7\n",
       "VzsB33i833i83yfOW582L15gfndb3088Xz7xeD/7p82L96fPE+fV+9P4hVnvn2v99i9+f8R5P9eb\n",
       "5q27re/Z7fr8iTfQ8e7luuMNdF1fLd/ex/u1ur43/n9AvR584+ftG+83fq84L67vT7zf6PNmjfd3\n",
       "HV5f/XzE3x91ffn6Un9v5fXV3+f1+cHZ5xH1eUl9nrPj+vLzsPyDpj6va+Pq89h+g9rGnX5+r/9x\n",
       "Vt758+/w86b8+egC/fMcAAAAAAAAgPE0zwEAAAAAAAAYT/McAAAAAAAAgPE0zwEAAAAAAAAYT/Mc\n",
       "AAAAAAAAgPE0zwEAAAAAAAAYT/McAAAAAAAAgPE0zwEAAAAAAAAYT/McAAAAAAAAgPE0zwEAAAAA\n",
       "AAAYT/McAAAAAAAAgPE0zwEAAAAAAAAYT/McAAAAAAAAgPE0zwEAAAAAAAAY7+febeC94ry4vqvO\n",
       "q8d7eF493vz61fM5ztvj5t+d5u34Aub3N38+2ut3rXrA8f2Nx7sOz3t3+/u1PG+1ed86767zPmne\n",
       "J15Qf+v6VltfPd5PvKDe8fvjidfTeDr3+7X4dbSfen8Qr/d3vN7Hv1d+95vm1c/vE4/3iTds9XoQ\n",
       "Px65/nM6ft7q5zeur95ffa/2ff6t69ttfX+unzTvd7X1/Xe39f3Z/2nzVl1fndfej986L54vdX35\n",
       "91E83r6+s79XT/8+P/18oz7Pqc+b+vPss+s7vZ9Snxcf3/84vF+Rz5fD78e4/tvh8+XkfrJ/ngMA\n",
       "AAAAAAAwnuY5AAAAAAAAAONpngMAAAAAAAAwnuY5AAAAAAAAAONpngMAAAAAAAAwnuY5AAAAAAAA\n",
       "AONpngMAAAAAAAAwnuY5AAAAAAAAAONpngMAAAAAAAAwnuY5AAAAAAAAAONpngMAAAAAAAAwnuY5\n",
       "AAAAAAAAAONpngMAAAAAAAAw3s+1d5tY5607jbvj8k7Puw6v7/i8dXje4Y9vPv/i67cPX1/2agP3\n",
       "bsd71fWt9vdc9fVb8fVb8fz7xtfvc8d5cX3fuL7fpx7vJ837jReY52oX1Cevr82LV7/rfur9bhvX\n",
       "/zz27PVv323eG1/A93rjvHi9qteDOi/eoMbT5brrDW9sx89v/rlfry/187vj/Utc33e3+40670+c\n",
       "97t/0rw/cd5/V5xXjzeu7/y8eP7Fed+6vnq9qr/fhuXV+936PKI+D+vPc9K4/DysP9+tz+vOHm++\n",
       "fdZf+Lu806/ftPlyeF5+fnVwf9o/zwEAAAAAAAAYT/McAAAAAAAAgPE0zwEAAAAAAAAYT/McAAAA\n",
       "AAAAgPE0zwEAAAAAAAAYT/McAAAAAAAAgPE0zwEAAAAAAAAYT/McAAAAAAAAgPE0zwEAAAAAAAAY\n",
       "T/McAAAAAAAAgPE0zwEAAAAAAAAYT/McAAAAAAAAgPE0zwEAAAAAAAAY7+debeC967w4cN1tXlze\n",
       "tdrAOx7vHdeX3494Puf3N58vbVz+/Mb17Xq8h9dXPx/1eOv6dry+rLi+9ba/N3ufdrxPfP3eux3v\n",
       "d33SvN94wfrE16+ur76/z+n1xS/MeLdx3XV99c9Z6/dbXN+K70id95/498VvfAG/8Qv9E0+YOq9+\n",
       "3p76+7JeYGr151s84B3nvYc/v/l6cMX7q7i+3/0T57Xj/bPa+v7E483rOz6vns/x/Mvra/Py7604\n",
       "r67vXfH6fHhefR5Rn5ecfx5Wnz+ffZ7dn/+1caf3o/QXzsqr+1H98xHfkMPvb92vPbkf5Z/nAAAA\n",
       "AAAAAIyneQ4AAAAAAADAeJrnAAAAAAAAAIyneQ4AAAAAAADAeJrnAAAAAAAAAIyneQ4AAAAAAADA\n",
       "eJrnAAAAAAAAAIyneQ4AAAAAAADAeJrnAAAAAAAAAIyneQ4AAAAAAADAeJrnAAAAAAAAAIyneQ4A\n",
       "AAAAAADAeJrnAAAAAAAAAIyneQ4AAAAAAADAeD/X3m3iivP2ncbd8XjvlcZddz7eNO664ry6vjyv\n",
       "vr/5fGnz9vHjbZ+PHa9X9Xj3asebr895ffX9bfNWnPe+bd7nbvO+d/v7uieef5+4vt8Vj7e+fvHv\n",
       "HZ/7k+bd8QYhXl2ufAOT57V2/PPYev1b8fOx4vXvvd807yce78/VbjieeAP4iTdE9fqS/3q8/p7O\n",
       "xc9vmnZdO67vjRfAFc+Yb1xfn9fuD373T5r3J6+vzfuz2vH+N89rx1vXV1+/33i89ffC6XnfYXkr\n",
       "/j6vv/fr/Xh/3nR6XhtX11efJ9bjzfsVx483zjv+vP3svHn9qPh8rf5ere9v3k/u8vzzHAAAAAAA\n",
       "AIDxNM8BAAAAAAAAGE/zHAAAAAAAAIDxNM8BAAAAAAAAGE/zHAAAAAAAAIDxNM8BAAAAAAAAGE/z\n",
       "HAAAAAAAAIDxNM8BAAAAAACGL3HEAAAgAElEQVQAGE/zHAAAAAAAAIDxNM8BAAAAAAAAGE/zHAAA\n",
       "AAAAAIDxNM8BAAAAAAAAGE/zHAAAAAAAAIDxfu7VBt47zqvrO328cd51+vU7PW/afI7z9rDrt9ed\n",
       "5t2rvYB1ffX60tfX5q38/ra/X3vj+fLEed8473N/0rznja9f/AJ5rjbvjh+3u67v8LzavtobUuet\n",
       "eMKsp8174/H+xL8v/tntC7P+gHvivE+8AbzjDUc8/a7r8PXlqteDeLg7ft7q9WDttr5vnRdfv+9u\n",
       "91e/dd6q6/tJ8/672rw/8Xj/HF5ffX9Pry/Pe9u8b1zfN//+PTtv5Xnx98LhefV5Tp1XnyeeXl8+\n",
       "3mHnxfoVZ+Xl/bLD+4On34+Tx+uf5wAAAAAAAACMp3kOAAAAAAAAwHia5wAAAAAAAACMp3kOAAAA\n",
       "AAAAwHia5wAAAAAAAACMp3kOAAAAAAAAwHia5wAAAAAAAACMp3kOAAAAAAAAwHia5wAAAAAAAACM\n",
       "p3kOAAAAAAAAwHia5wAAAAAAAACMp3kOAAAAAAAAwHia5wAAAAAAAACMp3kOAAAAAAAAwHg/195p\n",
       "4L3OzrviuGvfbd5q4+76/sbjze/vOvt+5Pc3ny9xXlzfzq/f6fO5jauvX/98tPdj53nt7812PF/e\n",
       "uL6nfp+/bd4TL1j3/Unznnq88Qbmjl+Xd77BOtu+4vXl8LwVT5gV/373vdu8/8R533hD9BO/0J+4\n",
       "vk++XtXfM3FemtbLP3/r9Sr+vnzr9W/H60G9/sX1/e52P/SN835Xm/dn/7R5dX1LfX+jni953nt4\n",
       "ffH35feN17+4vjrv/POI+vzUeexZeWffj2nn2afP5/7+1t9vaVz+PZjfj/wD7ux+bd//7fL88xwA\n",
       "AAAAAACA8TTPAQAAAAAAABhP8xwAAAAAAACA8TTPAQAAAAAAABhP8xwAAAAAAACA8TTPAQAAAAAA\n",
       "ABhP8xwAAAAAAACA8TTPAQAAAAAAABhP8xwAAAAAAACA8TTPAQAAAAAAABhP8xwAAAAAAACA8TTP\n",
       "AQAAAAAAABhP8xwAAAAAAACA8X7utdPAHeddu8271x3nxfXFl68fbxp3Xfl4D8+rH4/6fpx+/YaN\n",
       "dx/+/J4+/674+tXjXW/7+7U7XmC+9+H1vW3eE9f33J80r75+d/t4XHf9Qj/cvuL1JU3r61vxhHnj\n",
       "3+/+xOvVG+d94hdwnhd/bz1xfU/9PZimXVf/BNfOXq9WvV7teD2I63vr+uK8393uX75x3u+K8+L6\n",
       "/sT1/Vk/aV59/erx5vd32Hi/q10PvvH36nt4feuN30dxffX5UH1ecnpefT7e15fGjcvrzxPbuL7f\n",
       "c3bevH5P3b+s89K4vF975ePt8vzzHAAAAAAAAIDxNM8BAAAAAAAAGE/zHAAAAAAAAIDxNM8BAAAA\n",
       "AAAAGE/zHAAAAAAAAIDxNM8BAAAAAAAAGE/zHAAAAAAAAIDxNM8BAAAAAAAAGE/zHAAAAAAAAIDx\n",
       "NM8BAAAAAAAAGE/zHAAAAAAAAIDxNM8BAAAAAAAAGE/zHAAAAAAAAIDxfq6108C7jbvuJU+evH9r\n",
       "3h5X3x3nxQvq28btpx1v/T7a8f2or9+66/nS/h6uft7eN95vxBuOO76/9xXXd33iPP5GvDpfO74j\n",
       "a8d58Xr/xvX9PO36973b5+0nXmA+V7tAf+L19IlfIPV61a/PZzt9varrW7tdD+r16o3/v/Dd7Xr1\n",
       "ja/fN96f1uP9s9q83/3T5sXX77ceb5z3Z7XX788bjzfPi+9vXF/9/L7xeFdcX58Xvy/fOC8/v0rj\n",
       "rquur/7eP/w8Mf5c+Afubxt3+vm4PHny/h95/QdhFuWf5wAAAAAAAACMp3kOAAAAAAAAwHia5wAA\n",
       "AAAAAACMp3kOAAAAAAAAwHia5wAAAAAAAACMp3kOAAAAAAAAwHia5wAAAAAAAACMp3kOAAAAAAAA\n",
       "wHia5wAAAAAAAACMp3kOAAAAAAAAwHia5wAAAAAAAACMp3kOAAAAAAAAwHia5wAAAAAAAACMp3kO\n",
       "AAAAAAAAwHg/995p4F5t3n18Xhp3Xetu89rhXld+/drx1vM5ry+eL9PyrtPre9u4O/55067n8xu/\n",
       "P+64vng5ve54QY3vx3rr69fmfeMJXc+/fLrcnzgvjesHfLgdD7jPa18gK54wK/697U+8Hvxnty/0\n",
       "793ej3q8n/h99MQboif+AHni8d75B9Is9fq3dr1e1fW1z+8bj/eb19fuX37j+r51favNq+9HXd/p\n",
       "eX/eOO/w8ebz743Xgzjvu9q8+vu3zsvPd+vzsHq89XlEfL5W34/8/LQ+Tzz8/FTeYXl5PyWNy/tR\n",
       "fb+sjTu/H1qfj8f1hfPZP88BAAAAAAAAGE/zHAAAAAAAAIDxNM8BAAAAAAAAGE/zHAAAAAAAAIDx\n",
       "NM8BAAAAAAAAGE/zHAAAAAAAAIDxNM8BAAAAAAAAGE/zHAAAAAAAAIDxNM8BAAAAAAAAGE/zHAAA\n",
       "AAAAAIDxNM8BAAAAAAAAGE/zHAAAAAAAAIDxNM8BAAAAAAAAGO/nWjsNvOO8HefV473WncbV1+9e\n",
       "adx15+NN4+T9j+ftafW98fN2x+tf/fOreH2p70de35vGXdfd3pCV19fGfdu4647ru+PrF5fXi5eX\n",
       "2o7r6/PaO7yedgKuuL73aderN37gPvF6+hNvOJ74ff6p64sXhHr/Uq+n9+EL4I5HXI82X//i8b47\n",
       "3l/F4/3G9dXj/e5Pm7fq+uK81Y73Nx7vb15fm/fnPbu+37i+b5z31s9HXN966+/VNm/H12/H5zn1\n",
       "eUR/nn34eXH9fZ7f3zauvn6n1ydP3v9f3tn90Pp56/uhp1+/Ls8/zwEAAAAAAAAYT/McAAAAAAAA\n",
       "gPE0zwEAAAAAAAAYT/McAAAAAAAAgPE0zwEAAAAAAAAYT/McAAAAAAAAgPE0zwEAAAAAAAAYT/Mc\n",
       "AAAAAAAAgPE0zwEAAAAAAAAYT/McAAAAAAAAgPE0zwEAAAAAAAAYT/McAAAAAAAAgPE0zwEAAAAA\n",
       "AAAYT/McAAAAAAAAgPF+7rXTwB3n1fXdK437B+q747w07vzr98bX7xl2f984L/55Tj3e6/Dn4/j6\n",
       "4udt3+3zdrXlXdcdB8ZxO35+Vz3een2O6/u+p/+eMH4+DrfjB2TtOK+u72of4Dce7/u0L5B3t3nf\n",
       "eMPxicf7iV/An3g9eOL6nvh9/sTjrbcH56/P8X4tTfsH1tN6vd/t+vLG433r+lacF9f3rfPi8db1\n",
       "/a5Pm/fGeXF99f3Ixxt/L9TfH3Xeis+vVvw9WNe34/quuL76ezr+/Mjz8vPdw8/X5P1lXj3/Th9v\n",
       "3k9J4/4F/bzT806/fvEX4cH95NNPigEAAAAAAADgH6d5DgAAAAAAAMB4mucAAAAAAAAAjKd5DgAA\n",
       "AAAAAMB4mucAAAAAAAAAjKd5DgAAAAAAAMB4mucAAAAAAAAAjKd5DgAAAAAAAMB4mucAAAAAAAAA\n",
       "jKd5DgAAAAAAAMB4mucAAAAAAAAAjKd5DgAAAAAAAMB4mucAAAAAAAAAjPdzrZ0G3nHetdq4ur57\n",
       "3XFeXV8ad93x7e2vXxrX571xXvzzl+OvX5zXry9tXl9f+7z174+6vjZux8/vFQ+3zttvG7ji3+vd\n",
       "9fXjr8Tbg2vHgXl98QO3dpz3tAvgihfA92nH+xNviD67vX5PvEF44g35Ez8hdX13XF/9/qjrq9Xr\n",
       "Vb8+H76enl7fbte/N877xuN9V13fJ837retbh9f3tnm/8Xjr+r7v2fW9cd46PK/+Xr3q84i6vjiv\n",
       "P489/Xz39Prk/U/n1f2A08eb96PO7l8e388bVl/Zr/DPcwAAAAAAAADG0zwHAAAAAAAAYDzNcwAA\n",
       "AAAAAADG0zwHAAAAAAAAYDzNcwAAAAAAAADG0zwHAAAAAAAAYDzNcwAAAAAAAADG0zwHAAAAAAAA\n",
       "YDzNcwAAAAAAAADG0zwHAAAAAAAAYDzNcwAAAAAAAADG0zwHAAAAAAAAYDzNcwAAAAAAAADG+7nX\n",
       "TgN3nHfFefV4+7w7zkvj/gV5p9+P0+tL4677jfPa4eY/H6qv33X69YsD7zt+fxw+3h3f33y8dWAc\n",
       "t16//zvJrm9wvBzU9e3d5q08r11g3nj9++z2hfnGL+DP064vz9XW98TvyzwvfoDz/UtdX5rWi5fT\n",
       "qx7xro8P4vr69TnOiz9o3vj78rvr+tq8ur7v+sR5dX1xXrwf/42v3xvXV4+3rq/+Psq/t+L15Xpn\n",
       "5eXnf/V5U543bLynn7e7fn+ZV/cD0rh/QX3T8s7uX9b92pP7v06eAQAAAAAAABhP8xwAAAAAAACA\n",
       "8TTPAQAAAAAAABhP8xwAAAAAAACA8TTPAQAAAAAAABhP8xwAAAAAAACA8TTPAQAAAAAAABhP8xwA\n",
       "AAAAAACA8TTPAQAAAAAAABhP8xwAAAAAAACA8TTPAQAAAAAAABhP8xwAAAAAAACA8TTPAQAAAAAA\n",
       "ABhP8xwAAAAAAACA8X6utdLAe8X9+Li+ve4071778Lw07rqPv35xfW8ad93x43F8ffn8a/Ou+vq1\n",
       "0+/acd6065cH3u16tev63ra++vrteL7Ult8T/pUdT7/r08ateEFdnzgvru+t8+IXyGe3eXV9Tzyh\n",
       "P3V98fvoueL9eFxfvj3Ix5vG5er1ecd3pH597Hq9j8fbr/ft/mXF39PfuL43Pm86vr467z18vIfX\n",
       "98b1rcPz9lt/D8YvzHi9qs836vry87/4fvT1xXn1eVh93jns+h2fd/r1O72+4/tbp/fz4i+kvL66\n",
       "n1yPt6vPSTEAAAAAAAAA42meAwAAAAAAADCe5jkAAAAAAAAA42meAwAAAAAAADCe5jkAAAAAAAAA\n",
       "42meAwAAAAAAADCe5jkAAAAAAAAA42meAwAAAAAAADCe5jkAAAAAAAAA42meAwAAAAAAADCe5jkA\n",
       "AAAAAAAA42meAwAAAAAAADCe5jkAAAAAAAAA4/1ca7eJa8V5dxp3x+PdcV5d311fvzeu76nvbxp3\n",
       "/v2o63vj+tq4665/7pPPl7PzrjfOq+9vPP+uO17v4wl91/XlN6SNq8W7l9wa9vvEvdsJU8/nur5V\n",
       "58X7oU+ct552Pj+7fcF94xfmJ95ffeL6nvj9UefV77f6dVTXN02/3reOX+/jvHe36/N7eH1rtXnf\n",
       "+Pv8zes7/frF8++txxs/v3V9cd6Ov6frvGtY3l2fvxxeX36eWJ+v1eM9/Pzv+Lx8/sV5eT8gjfsX\n",
       "1Bfn1f2ow+9H3a89vb6+n9zVN+tkFwAAAAAAAAD+LzTPAQAAAAAAABhP8xwAAAAAAACA8TTPAQAA\n",
       "AAAAABhP8xwAAAAAAACA8TTPAQAAAAAAABhP8xwAAAAAAACA8TTPAQAAAAAAABhP8xwAAAAAAACA\n",
       "8TTPAQAAAAAAABhP8xwAAAAAAACA8TTPAQAAAAAAABhP8xwAAAAAAACA8TTPAQAAAAAAABjv51or\n",
       "DbxX3I9f++i8O87bb1zfU+elcde97jivvr9xfW8ad91tef/A/Y3z4ut31dfv8Lx6vNfh8/l64+f3\n",
       "jt9H+YBb++zycvHdzb27XaB3POD9ifdDeX1t3id+QHacV8+XtdsX+hPvrz5PO94nXu+feEPU11fn\n",
       "pXHXffgKfXp9O98Atur6+uODur46r17v4/dRvN7X4/3G51crHu8b11ffj/etr1+cF38Prni8V3w/\n",
       "djze+nv69Lz7+Lw0rq/v8PO/4+ubllffj2n3N79+dT8ljevri/tvV93PO7x/eXpe2e/2z3MAAAAA\n",
       "AAAAxtM8BwAAAAAAAGA8zXMAAAAAAAAAxtM8BwAAAAAAAGA8zXMAAAAAAAAAxtM8BwAAAAAAAGA8\n",
       "zXMAAAAAAAAAxtM8BwAAAAAAAGA8zXMAAAAAAAAAxtM8BwAAAAAAAGA8zXMAAAAAAAAAxtM8BwAA\n",
       "AAAAAGA8zXMAAAAAAAAAxvu5104D91pp3vXG/f2nre9+7jivvR9XfH/vFY/3jeur70c8nevn7fj7\n",
       "ccf1tXHXFefV9Z0+3vz6vW1e7YlvyLrj9T6/wa16tKfL7269Pah/P7njAj9t3N7t87E/7QZhxfV9\n",
       "dlxfvN94nnb+feLvjyfejz93O94nXhDueMXq90P1ePkb9fstX5/jAnc8Y+r1Ps+L1/t3t+tfXV99\n",
       "/d519njf+Hxt1/cjrq++ftcbr1eH13d63v2tz8PqvDTueg6vL8+rz2NPH6+8v8yrz9vTuH+gH5DG\n",
       "/QPP2+njreuL8+Lrd711v7Y+oIz7teH98M9zAAAAAAAAAMbTPAcAAAAAAABgPM1zAAAAAAAAAMbT\n",
       "PAcAAAAAAABgPM1zAAAAAAAAAMbTPAcAAAAAAABgPM1zAAAAAAAAAMbTPAcAAAAAAABgPM1zAAAA\n",
       "AAAAAMbTPAcAAAAAAABgPM1zAAAAAAAAAMbTPAcAAAAAAABgPM1zAAAAAAAAAMb7udZqE9+2H38/\n",
       "cX3rjvN2GnfHefuN63vqvDTuut/2/t53PN67ri+N6+9HPJ+f+Pmtl787zsuXv7fNu+r518b1gfH1\n",
       "q5/f3tk3uF1dzrcPH3C83F97ty+k5xPvr3Y7oZ94wV9PXV/9Pm/z3nq89f4l30/W9aVx/f45Tbuu\n",
       "+g1y+vu8f3+0A67Lq9fn/v1W13d43mrf5319p+e112/X9cXnL3V9dd4Vjzc/n6zrq8/Xjs9L487P\n",
       "q8/DTh9vnFef1+X34/Dzyfq8eN58jq9fvr7U9cUb8vr6Hd4f7PPqfnJ8f8P6/PMcAAAAAAAAgPE0\n",
       "zwEAAAAAAAAYT/McAAAAAAAAgPE0zwEAAAAAAAAYT/McAAAAAAAAgPE0zwEAAAAAAAAYT/McAAAA\n",
       "AAAAgPE0zwEAAAAAAAAYT/McAAAAAAAAgPE0zwEAAAAAAAAYT/McAAAAAAAAgPE0zwEAAAAAAAAY\n",
       "T/McAAAAAAAAgPE0zwEAAAAAAAAY7+d6Vxp4P23eXnead6349wL59WvHez87zbtWm3e/Z4/3juff\n",
       "3U6X64nvxxXfj6t+fOvyDs+rr19e39vGnV5f7Ylv8Lri9SAX3+B4uLu+fHXep35A2gJ3fQHjvDfO\n",
       "e+L9xo73fzvej694vPX1e+r92n32ePPtRjze/H0er1d9fbPk78t4Rvevo7i+NO26Vrz+1eNddV49\n",
       "3jhvxedNfX1nf6D3539xXn1eUn+v1udrx+elcXne85013vq8c1x9w/Ke0/Pq/kc9//K8ut+TxvX1\n",
       "5eOt+zPxDa77Ryvuh8Z55fXzz3MAAAAAAAAAxtM8BwAAAAAAAGA8zXMAAAAAAAAAxtM8BwAAAAAA\n",
       "AGA8zXMAAAAAAAAAxtM8BwAAAAAAAGA8zXMAAAAAAAAAxtM8BwAAAAAAAGA8zXMAAAAAAAAAxtM8\n",
       "BwAAAAAAAGA8zXMAAAAAAAAAxtM8BwAAAAAAAGA8zXMAAAAAAAAAxvu51m4T12rz3ra/fz9xfc/d\n",
       "5sX3437j+/vE9dV5bxp33fHPS+54+l1vO//uO74f96z68uUgzouHmzu9vtPV8/m64vdH7uwJc/rV\n",
       "qwvcnzYvv4D1dnfH77fdFrjr+uL96ar3f/X+IK7vqff3+f4gri9+4OwP/rfFy9+14/1BvZ7W463f\n",
       "Rzv+AMmv37T68rw0Lv9grcd7x+cl+Qd6fX5Vnw/leWncP5A3bbzyTsp7Dq+v7i+Mq6/+Hjy8f3R8\n",
       "faePN79+db/28H5yeP388xwAAAAAAACA8TTPAQAAAAAAABhP8xwAAAAAAACA8TTPAQAAAAAAABhP\n",
       "8xwAAAAAAACA8TTPAQAAAAAAABhP8xwAAAAAAACA8TTPAQAAAAAAABhP8xwAAAAAAACA8TTPAQAA\n",
       "AAAAABhP8xwAAAAAAACA8TTPAQAAAAAAABhP8xwAAAAAAACA8TTPAQAAAAAAABjv51qrTVx3GnfH\n",
       "9e24vuuNf3/wtOO9n3q8O427nzgvHm59/erbse74+uXPbxqX5z3xfF7xBKzncz7/2rjj67vi+uq8\n",
       "59vmrXzA7fPWi8dbDzfO2582L34dXVdc37Xb+7t3POB4wdr1z2Pr/dA6fD8Z11d/ftz1/q9e7uMF\n",
       "q6+Pk9TLaf0+r+vb8fso3x/U78t4AVz19as/GOLx5vOlfiHV3/vv2ePN63vbuPw8p64vz4v3p/H3\n",
       "9OnnYfX9eA6fL6fX14+3/j5K4/4Fee31O3/+xfPl9Lz4/l5vPAHj8db937pf2/enuzz/PAcAAAAA\n",
       "AABgPM1zAAAAAAAAAMbTPAcAAAAAAABgPM1zAAAAAAAAAMbTPAcAAAAAAABgPM1zAAAAAAAAAMbT\n",
       "PAcAAAAAAABgPM1zAAAAAAAAAMbTPAcAAAAAAABgPM1zAAAAAAAAAMbTPAcAAAAAAABgPM1zAAAA\n",
       "AAAAAMbTPAcAAAAAAABgvJ9rrTbxjfvxT13fncbdh9eXX78nvn7vbvPq6RfXt+Lbe9/x/ain391e\n",
       "v7rA/H68cV5c31WPt43LA+tfh9Xz5XTPt83bO35+4+Xl2nHgp54wcX3x/difNC6v73ri6xcvMDve\n",
       "X+XzOX7gVj3euL76/Xvn+6Gzx1vLrx9HqfcHtXo5zd+/eV4a1483Pt7I9xv1B0M93ry+s8d71+d/\n",
       "9f2o66vPI+L6nry+OC+ff2fnHX8/5P1dXt0OyOdf/D1z+v2Ix5tfv/p7+vj62gekH2/db4zz8vrq\n",
       "86uuPv88BwAAAAAAAGA8zXMAAAAAAAAAxtM8BwAAAAAAAGA8zXMAAAAAAAAAxtM8BwAAAAAAAGA8\n",
       "zXMAAAAAAAAAxtM8BwAAAAAAAGA8zXMAAAAAAAAAxtM8BwAAAAAAAGA8zXMAAAAAAAAAxtM8BwAA\n",
       "AAAAAGA8zXMAAAAAAAAAxtM8BwAAAAAAAGC8n2utNrHOe+807n7a3wvstx3v/bTj3fH1u554vHd9\n",
       "f9O467p3Gxffjnq8d/z45s9vfj/i+q62vieub9XLQRuX11c7vLxeO51z9fzb8R3eu72Ae9cPcHyD\n",
       "8/rauF1PmHF58fOx4vmXb7Di5/fw+k5/wdWX7/gX3PHq92Ua16vrq9+X9ev88Pry61d//9YfNIfX\n",
       "dx8+3vuN8+rrN62+0/NOn3/fOO/w+/GMqy8+75xWX/x9mefl129W3hX33656vHk/NO6/1ecv9f04\n",
       "uD/tn+cAAAAAAAAAjKd5DgAAAAAAAMB4mucAAAAAAAAAjKd5DgAAAAAAAMB4mucAAAAAAAAAjKd5\n",
       "DgAAAAAAAMB4mucAAAAAAAAAjKd5DgAAAAAAAMB4mucAAAAAAAAAjKd5DgAAAAAAAMB4mucAAAAA\n",
       "AAAAjKd5DgAAAAAAAMB4mucAAAAAAAAAjKd5DgAAAAAAAMB4P9f7tolP3I9fd5v3rjTuftr69tvm\n",
       "1fVdcX3XE9+PN55/927j6vLi+1FPl3XF1+8+e7y1Fc+/J75+7dP7T8y/Vv1rs7q++HG7rk+cd7r8\n",
       "+sUTescF5vW1cddz9nj3Pvz+nr4Axu+jXc+XuL56P5nXV6vHWzv9+p0uvr35bKnX51o94Hi89evo\n",
       "rs9z6utXvy/r+Rdfvzse7x0fJ04bb/189PXFeXV9w/Ie9f2Vvr74vO748dZ5Z1+/fj2Nz8fj65fn\n",
       "rbrfc3Z9eb/x8Pquur58vN0D7J/nAAAAAAAAAIyneQ4AAAAAAADAeJrnAAAAAAAAAIyneQ4AAAAA\n",
       "AADAeJrnAAAAAAAAAIyneQ4AAAAAAADAeJrnAAAAAAAAAIyneQ4AAAAAAADAeJrnAAAAAAAAAIyn\n",
       "eQ4AAAAAAADAeJrnAAAAAAAAAIyneQ4AAAAAAADAeJrnAAAAAAAAAIz3c63VJr5x3nO3efl44/ru\n",
       "Nu9+4t9H3Gff3/vead4V593x7Xji+lY+ndvA5z18vFc83nr5q+dzPN7a2dX1v16LV78rXu179YA/\n",
       "cV5eX/y+jOvbTxu44/HW9+Ouxxsv+Dt+/17xeOsFut5f5S+Q+n7ED/D+P+3bC27tOg5FQcm58x9x\n",
       "bPUYGlkPEMCqAWyQkvw5ZnL5+1BdH5epn0dtXP68zA/03T9/+x9cl9eXf46oX8jrfuP69hvn1efv\n",
       "+n7jvGH1PXW/0/J+47y83/YGff95qfuNvyfm94PL+5X3x7z2wNT15fPQOq+eh94+Tw7r85/nAAAA\n",
       "AAAAAIxneA4AAAAAAADAeIbnAAAAAAAAAIxneA4AAAAAAADAeIbnAAAAAAAAAIxneA4AAAAAAADA\n",
       "eIbnAAAAAAAAAIxneA4AAAAAAADAeIbnAAAAAAAAAIxneA4AAAAAAADAeIbnAAAAAAAAAIxneA4A\n",
       "AAAAAADAeIbnAAAAAAAAAIxneA4AAAAAAADAeP/O+6WB+3nTvPXuNm+3/a7d1refNq/e37rf9cTn\n",
       "Ly6v3980bq192rh6e+O8r96P+Hb1rHY/8n7TtP+g37jC+nKL76bXq9evPS1rfXFgfX2cuL48r97g\n",
       "n3gF64brfusHXFzfjt8PTt1vfVzy96vb8+L3g/i85Or14y6XP8/XqW9Ybdztefu7e/3qz0P1ecnr\n",
       "qz8P5Xl3/97v+707b9XfS+p+6/0dlvf8tnl5fW/8vXNav5ff//p+5f0tL97gPC9+Aaznod/t63d5\n",
       "3tfesMp5qP88BwAAAAAAAGA8w3MAAAAAAAAAxjM8BwAAAAAAAGA8w3MAAAAAAAAAxjM8BwAAAAAA\n",
       "AGA8w3MAAAAAAAAAxjM8BwAAAAAAAGA8w3MAAAAAAAAAxjM8BwAAAAAAAGA8w3MAAAAAAAAAxjM8\n",
       "BwAAAAAAAGA8w3MAAAAAAAAAxjM8BwAAAAAAAGC8f+t908Dz7DRvP/F8//vivLbf9cZ5u93fveP6\n",
       "6j/fqOvb7XnJz/M+aVx8+eaXx+3H71ttgU+8vyuur97fZ7X95vuRpq114u396uNyed7z0+bV+7Hi\n",
       "+m7fjzpvxw+kE1/A56kPdBt3/QMzfr7l5yVevvhxlOedOjB/f4nV+zHN5dtbX8D5cbn9+VvXF39+\n",
       "yfc3r6+Nq+vb8Q+4fMlF/2oAAAePSURBVP3yfofltZ//7q/v8rzn8vr6fuP3+8v34/5+6/ruzpvW\n",
       "737jecX19cUPpHgeuur68vnl3Xkn348uz3+eAwAAAAAAADCe4TkAAAAAAAAA4xmeAwAAAAAAADCe\n",
       "4TkAAAAAAAAA4xmeAwAAAAAAADCe4TkAAAAAAAAA4xmeAwAAAAAAADCe4TkAAAAAAAAA4xmeAwAA\n",
       "AAAAADCe4TkAAAAAAAAA4xmeAwAAAAAAADCe4TkAAAAAAAAA4xmeAwAAAAAAADDev/O9aeB+43n8\n",
       "09a39h6Vt+O8E+/Hfuv1++K8Nu6J9+PL+22v3/ryqP/aJ169vN8VXx97nTTviS+Qej+euN+vviHE\n",
       "6uujXb1+f/MCf+K8YfXtOO9cfgD3U79fpXHrPO0C1q8b5/IXhLq8Uz8+4gsuf7rVvz/StPUfNDxM\n",
       "/fxo4/6DAxOLbwj18/f2F8Db+91fvL/1C/Tl+3F9v3Ve/blzWH355+Jhec8bv0/W9f22efvyfvdX\n",
       "1xd///u9u74+r71h9evX1tfnxS8I+fwyfiBdnxffsPK8tt9y3u0/zwEAAAAAAAAYz/AcAAAAAAAA\n",
       "gPEMzwEAAAAAAAAYz/AcAAAAAAAAgPEMzwEAAAAAAAAYz/AcAAAAAAAAgPEMzwEAAAAAAAAYz/Ac\n",
       "AAAAAAAAgPEMzwEAAAAAAAAYz/AcAAAAAAAAgPEMzwEAAAAAAAAYz/AcAAAAAAAAgPEMzwEAAAAA\n",
       "AAAYz/AcAAAAAAAAgPH+rfdrE/ebxp1np3n7if9e4IvX72v7rfP22+ad+LysePnWjgN3e172rv/+\n",
       "5aRp9XbUifX2xrer9cX78cTrd319bXnrifs9l/cbt7ueOO/8xHnT6osfH3Ve/eed9eOy3o9Vv47H\n",
       "D6RTvw7Feae+wdzebx1Yq9evjfsvXlBnqe9/tcvr25e/r9V5u/6+Udd3+/M83482L+9X3t/y6s9r\n",
       "t9d3ed6Tr1/8ve43jVtPvh/x96Zx9V2e91uf57vz8vlbfP76+toDs+v68nnerLwT7299Xsrz7D/P\n",
       "AQAAAAAAABjP8BwAAAAAAACA8QzPAQAAAAAAABjP8BwAAAAAAACA8QzPAQAAAAAAABjP8BwAAAAA\n",
       "AACA8QzPAQAAAAAAABjP8BwAAAAAAACA8QzPAQAAAAAAABjP8BwAAAAAAACA8QzPAQAAAAAAABjP\n",
       "8BwAAAAAAACA8QzPAQAAAAAAABjv33nfNvHZadx+4/n+E/e7237l/TXu7vpWHHd73rPb6/fbX5qX\n",
       "15emrfXEG/Ktk+bV9Z24vvpA19V9J96Pn8v7jfPyAn/ivLq++s8d43533G98eeR59YGOH0fr1PXF\n",
       "7wenfr2Kf3/U9dXvV3V5deCpbwi3yzckNm076gv49vWL68sv3/p5VNdn/f6WV9dX/2Co66s/J16+\n",
       "frf3m3/ezfPi3/uX9/vE/Y7bj9+6vno/4u+xl9cn74/k/TEvvsHkeW2/52vrK+fd/vMcAAAAAAAA\n",
       "gPEMzwEAAAAAAAAYz/AcAAAAAAAAgPEMzwEAAAAAAAAYz/AcAAAAAAAAgPEMzwEAAAAAAAAYz/Ac\n",
       "AAAAAAAAgPEMzwEAAAAAAAAYz/AcAAAAAAAAgPEMzwEAAAAAAAAYz/AcAAAAAAAAgPEMzwEAAAAA\n",
       "AAAYz/AcAAAAAAAAgPEMzwEAAAAAAAAY79963zbx2W3ebuf7J65v77rfWXn1+p3L61txXL+/5+q8\n",
       "evnWauur/xrpi/OeeAW/eP3qHX7i+r68vtZ34v04cb91efEC5stX1/cT513eb32BxK+T9eWRr1/9\n",
       "enB9ffEDs66vfoGpn751ffn7M/w/6guk/nnUxt3f7+311T+4Lq8v34+6vml58edY9f01L/4+dHm/\n",
       "T9zv9ftR1/db1xfvR1xfnpefv9vz2htCnbeG1dfnxTeYOO9cXt/Nef7zHAAAAAAAAIDxDM8BAAAA\n",
       "AAAAGM/wHAAAAAAAAIDxDM8BAAAAAAAAGM/wHAAAAAAAAIDxDM8BAAAAAAAAGM/wHAAAAAAAAIDx\n",
       "DM8BAAAAAAAAGM/wHAAAAAAAAIDxDM8BAAAAAAAAGM/wHAAAAAAAAIDxDM8BAAAAAAAAGM/wHAAA\n",
       "AAAAAIDx/p33bROf3ebtdr6/4/pOXd/+0rz1xPv71vvb5u047+T1pXH/QeDdnvjvfb76eovrq/+6\n",
       "qe+2PX/fOmneOm19z2nrO3F966eNO/F+xMu3zk98/uL66v2oL4/6BhO/Dq1zeV6+fvENuu43r+/u\n",
       "18m8vvhx2ffbxuX9Xu/2fvMNvlzcb7699X7U/arvT/Kfl5fXd3te/QP49n53/Xk3r6890NevX5yX\n",
       "r19dX/yDOl+/37q+eD/i+vbbXiB9v219eV68fnXeGlZfnvfV87K2vpOvX9tvPU++Oc9/ngMAAAAA\n",
       "AAAwnuE5AAAAAAAAAOMZngMAAAAAAAAwnuE5AAAAAAAAAOMZngMAAAAAAAAwnuE5AAAAAAAAAOMZ\n",
       "ngMAAAAAAAAwnuE5AAAAAAAAAOMZngMAAAAAAAAwnuE5AAAAAAAAAOMZngMAAAAAAAAwnuE5AAAA\n",
       "AAAAAOMZngMAAAAAAAAw3v8AuSaijIT41DsAAAAASUVORK5CYII=\n",
       "\" transform=\"translate(114, 47)\"/>\n",
       "</g>\n",
       "<defs>\n",
       "  <clipPath id=\"clip6603\">\n",
       "    <rect x=\"2160\" y=\"47\" width=\"73\" height=\"1441\"/>\n",
       "  </clipPath>\n",
       "</defs>\n",
       "<g clip-path=\"url(#clip6603)\">\n",
       "<image width=\"72\" height=\"1440\" xlink:href=\"data:image/png;base64,\n",
       "iVBORw0KGgoAAAANSUhEUgAAAEgAAAWgCAYAAAD9wgUPAAAMMElEQVR4nO3dwa3cSBAFQVIoU9Z/\n",
       "t2QFm7JgK4+cQ4QFQuJhiG7OfN3P3//ei//15+t/wK8TKAgUBAoChXleD7GNBQWBgkBBoCBQmHN5\n",
       "im0sKAgUBAoChXmu8/W/4adZUBAoCBQECgKFOS7MVhYUBAoCBYGCQGEeF2YrCwoCBYGCQGGOC7OV\n",
       "BQWBgkBBoCBQ8A2zYEFBoCBQECj4AlWwoCBQECgIFAQK3moECwoCBYGCQEGgMI+H2MqCgkBBoCBQ\n",
       "GG/mdxYUBAoCBYGCQGGe6/763/DTLCgIFAQKAgWBgguzYEFBoCBQECi4MAsWFAQKAgWBgkDBhVmw\n",
       "oCBQECgIFNwHBQsKAgWBgkBBoODCLFhQECgIFAQKAgUXZsGCgkBBoCBQmPNqtFEnCBQECgIFgYKj\n",
       "RrCgIFAQKAgUBApzPMVWFhQECgIFgcKc14f0xoKCQEGgIFAQKMyj0UqdIFAQKAgU3AcFCwoCBYGC\n",
       "QEGgMI8Ls5UFBYGCQEGgIFCYo9FKnSBQECgIFHwNOFhQECgIFAQKAoV5/CRzpU4QKAgUBAoCBRdm\n",
       "QZ0gUBAoCBQcNYI6QaAgUBAoCBS89gkWFAQKAgWBgj80GdQJAgWBgkBBoOB380GdIFAQKAgUBApe\n",
       "+wR1gkBBoCBQ8FYjWFAQKAgUBAoCBa99gjpBoCBQECgIFLz2CeoEgYJAQaDgrUZQJwgUBAoCBYGC\n",
       "P/ofLCgIFAQKAgVHjaBOECgIFAQKAgVvNYI6QaAgUBAoCBTm+P/FVhYUBAoCBYGCo0ZQJwgUBAoC\n",
       "BYGCH7MEdYJAQaAgUBAo+MMCwYKCQEGgIFDwDbOgThAoCBQECgIFF2ZBnSBQECgIFNwHBQsKAgWB\n",
       "gkBBoOCoEdQJAgWBgkBBoDCPH7OsLCgIFAQKAoU5Gq3UCQIFgYJAQaDgqBEsKAgUBAoCBYGCs1hQ\n",
       "JwgUBAoCBX+iK1hQECgIFAQKAgU/yQzqBIGCQEGg4KgRLCgIFAQKAgWBgrcaQZ0gUBAoCBQECr5h\n",
       "FiwoCBQECgIFF2bBgoJAQaAgUBAo+P/FgjpBoCBQECgIFJzFggUFgYJAQaDgQzpYUBAoCBQECgIF\n",
       "T7FgQUGgIFAQKPgacFAnCBQECgIFgYKjRrCgIFAQKAgUBAqeYsGCgkBBoCBQmOO/Ml5ZUBAoCBQE\n",
       "CgKFeR01VhYUBAoCBYGCQMGFWbCgIFAQKAgUXJgFCwoCBYGCQEGg4KgRLCgIFAQKAgUf0sGCgkBB\n",
       "oCBQECh4igULCgIFgYJAQaDgKRYsKAgUBAoCBR/SwYKCQEGgIFAQKPiGWbCgIFAQKAgUBApzXo02\n",
       "6gSBgkBBoODCLFhQECgIFAQKAgV//SVYUBAoCBQECo4awYKCQEGgIFAQKMx5v/4n/DYLCgIFgYJA\n",
       "QaDgwixYUBAoCBQECr4GHCwoCBQECgIFgYLXPsGCgkBBoCBQECi4MAsWFAQKAgWBgqNGsKAgUBAo\n",
       "CBQECo4awYKCQEGgIFBw1AgWFAQKAgWBgkBhXj9mWVlQECgIFAQKAgUXZsGCgkBBoCBQ8CEdLCgI\n",
       "FAQKAgWBgr/+EiwoCBQECgIFgYKzWLCgIFAQKAgU5vXXX1YWFAQKAgWBgkDBN8yCBQWBgkBBoOA+\n",
       "KFhQECgIFAQKAgVPsWBBQaAgUBAoCBRcmAULCgIFgYJAwVEjWFAQKAgUBAoChbkcNVYWFAQKAgWB\n",
       "gkDBWSxYUBAoCBQECj6kgwUFgYJAQaAgUPBuPlhQECgIFAQKczlqrCwoCBQECgIFgYKjRrCgIFAQ\n",
       "KAgUBArOYsGCgkBBoCBQcNQIFhQECgIFgYJAQaAgUBAoCBQECgIFF2bBgoJAQaAgUPC7+WBBQaAg\n",
       "UBAoCBQ8xYIFBYGCQEGg4HfzwYKCQEGgIFAQKDhqBAsKAgWBgkBBoDDX5Sy2saAgUBAoCBQcNYIF\n",
       "BYGCQEGgIFDwFAsWFAQKAgWBgkDBUyxYUBAoCBQECn5xGCwoCBQECgIFgcLcjhorCwoCBYGCQMF9\n",
       "ULCgIFAQKAgUBAouzIIFBYGCQEGgIFBwFgsWFAQKAgWBgg/pYEFBoCBQECgIFDzFggUFgYJAQaAg\n",
       "UPANs2BBQaAgUBAoeDcfLCgIFAQKAgWBgguzYEFBoCBQECj4kA4WFAQKAgWBgkDBW41gQUGgIFAQ\n",
       "KAgUnMWCBQWBgkBBoOBDOlhQECgIFAQKAoW5fcNsZUFBoCBQECgIFJzFggUFgYJAQaDgQzpYUBAo\n",
       "CBQECgIF3zALFhQECgIFgYKjRrCgIFAQKAgUBAqeYsGCgkBBoCBQECiM75ftLCgIFAQKAgVHjWBB\n",
       "QaAgUBAoCBS8mw8WFAQKAgWBgkDBH/0PFhQECgIFgYILs2BBQaAgUBAoCBRcmAULCgIFgYJAwVEj\n",
       "WFAQKAgUBAoCBU+xYEFBoCBQECgIFFyYBQsKAgWBgkBBoCBQECgIFAQKAgUXZsGCgkBBoCBQECi4\n",
       "MAsWFAQKAgWBgqNGsKAgUBAoCBQECp5iwYKCQEGgIFBwHxQsKAgUBAoCBYGCo0awoCBQECgIFAQK\n",
       "nmLBgoJAQaAgUHBhFiwoCBQECgIFgYKjRrCgIFAQKAgUBArOYsGCgkBBoCBQcNQIFhQECgIFgYJA\n",
       "wVMsWFAQKAgUBArug4IFBYGCQEGgIFBw1AgWFAQKAgWBgkDBWSxYUBAoCBQECo4awYKCQEGgIFAQ\n",
       "KDhqBAsKAgWBgkBBoOAsFiwoCBQECgIFH9LBgoJAQaAgUBAozP16jG0sKAgUBAoCBUeNYEFBoCBQ\n",
       "ECgIFLybDxYUBAoCBYGCQMFZLFhQECgIFAQKjhrBgoJAQaAgUBAoOGoECwoCBYGCQEGg4CwWLCgI\n",
       "FAQKAgVHjWBBQaAgUBAoCBQ8xYIFBYGCQEGg4D4oWFAQKAgUBAoCBUeNYEFBoCBQECgIFJzFggUF\n",
       "gYJAQaAwlz/RtbKgIFAQKAgUBAqOGsGCgkBBoCBQECh47RMsKAgUBAoCBUeNYEFBoCBQECgIFBw1\n",
       "ggUFgYJAQaDgqBEsKAgUBAoCBYGCo0awoCBQECgIFAQKzmLBgoJAQaAgUPBjlmBBQaAgUBAoCBQc\n",
       "NYIFBYGCQEGgIFDw2idYUBAoCBQECo4awYKCQEGgIFAQKDhqBAsKAgWBgkDBu/lgQUGgIFAQKAgU\n",
       "XJgFCwoCBYGCQEGg4MIsWFAQKAgUBAqOGsGCgkBBoCBQECh47RMsKAgUBAoCBYHC3Ofrf8Jvs6Ag\n",
       "UBAoCBS81QgWFAQKAgWBgkBhbhdmKwsKAgWBgkDBUSNYUBAoCBQECgIF3zALFhQECgIFgYJAwVks\n",
       "WFAQKAgUBAreagQLCgIFgYJAQaAwl68BrywoCBQECgIFgYKzWLCgIFAQKAgUvNUIFhQECgIFgYJA\n",
       "wV9/CRYUBAoCBYGCrwEHCwoCBYGCQEGgMNfxGNtYUBAoCBQECgIFZ7FgQUGgIFAQKHirESwoCBQE\n",
       "CgIFgYJvmAULCgIFgYJAQaAwt9c+KwsKAgWBgkDBhVmwoCBQECgIFAQKLsyCBQWBgkBBoOCPmwQL\n",
       "CgIFgYJAQaDgxyzBgoJAQaAgUBAoeO0TLCgIFAQKAgW/OAwWFAQKAgWBgkDBUSNYUBAoCBQECgIF\n",
       "r32CBQWBgkBBoOCoESwoCBQECgIFgYKnWLCgIFAQKAgU/JglWFAQKAgUBAoCBW81ggUFgYJAQaAg\n",
       "UPDXX4IFBYGCQEGg4K1GsKAgUBAoCBQECp5iwYKCQEGgIFAQKHjtEywoCBQECgIF3zALFhQECgIF\n",
       "gYJAwYVZsKAgUBAoCBR8SAcLCgIFgYJAQaDgKRYsKAgUBAoCBYGCd/PBgoJAQaAgUHDUCBYUBAoC\n",
       "BYGCQMFTLFhQECgIFAQKAgVPsWBBQaAgUBAo+JAOFhQECgIFgYJAYd5zvv43/DQLCgIFgYJAwVEj\n",
       "WFAQKAgUBAoCBV8DDhYUBAoCBYGCQGGu14XZxoKCQEGgIFBw1AgWFAQKAgWBgkDBa59gQUGgIFAQ\n",
       "KAgUXJgFCwoCBYGCQGFeF2YrCwoCBYGCQEGg4MIsWFAQKAgUBApz+cXhyoKCQEGgIFAQKMzrqLGy\n",
       "oCBQECgIFAQKzmLBgoJAQaAgUPBWI1hQECgIFAQKAgVHjWBBQaAgUBAoCBS89gkWFAQKAgWBgqNG\n",
       "sKAgUBAoCBQECl77BAsKAgWBgkDhH8AJjOEi8oOfAAAAAElFTkSuQmCC\n",
       "\" transform=\"translate(2161, 47)\"/>\n",
       "</g>\n",
       "<g clip-path=\"url(#clip6600)\">\n",
       "<text style=\"fill:#000000; fill-opacity:1; font-family:Arial,Helvetica Neue,Helvetica,sans-serif; font-size:48px; text-anchor:start;\" transform=\"rotate(0, 2268.76, 1359.23)\" x=\"2268.76\" y=\"1359.23\">20</text>\n",
       "</g>\n",
       "<g clip-path=\"url(#clip6600)\">\n",
       "<text style=\"fill:#000000; fill-opacity:1; font-family:Arial,Helvetica Neue,Helvetica,sans-serif; font-size:48px; text-anchor:start;\" transform=\"rotate(0, 2268.76, 1100.16)\" x=\"2268.76\" y=\"1100.16\">25</text>\n",
       "</g>\n",
       "<g clip-path=\"url(#clip6600)\">\n",
       "<text style=\"fill:#000000; fill-opacity:1; font-family:Arial,Helvetica Neue,Helvetica,sans-serif; font-size:48px; text-anchor:start;\" transform=\"rotate(0, 2268.76, 841.081)\" x=\"2268.76\" y=\"841.081\">30</text>\n",
       "</g>\n",
       "<g clip-path=\"url(#clip6600)\">\n",
       "<text style=\"fill:#000000; fill-opacity:1; font-family:Arial,Helvetica Neue,Helvetica,sans-serif; font-size:48px; text-anchor:start;\" transform=\"rotate(0, 2268.76, 582.006)\" x=\"2268.76\" y=\"582.006\">35</text>\n",
       "</g>\n",
       "<g clip-path=\"url(#clip6600)\">\n",
       "<text style=\"fill:#000000; fill-opacity:1; font-family:Arial,Helvetica Neue,Helvetica,sans-serif; font-size:48px; text-anchor:start;\" transform=\"rotate(0, 2268.76, 322.931)\" x=\"2268.76\" y=\"322.931\">40</text>\n",
       "</g>\n",
       "<g clip-path=\"url(#clip6600)\">\n",
       "<text style=\"fill:#000000; fill-opacity:1; font-family:Arial,Helvetica Neue,Helvetica,sans-serif; font-size:48px; text-anchor:start;\" transform=\"rotate(0, 2268.76, 63.8568)\" x=\"2268.76\" y=\"63.8568\">45</text>\n",
       "</g>\n",
       "<polyline clip-path=\"url(#clip6600)\" style=\"stroke:#000000; stroke-width:4; stroke-opacity:1; fill:none\" points=\"\n",
       "  2232.76,1487.47 2232.76,1345.58 2256.76,1345.58 2232.76,1345.58 2232.76,1086.5 2256.76,1086.5 2232.76,1086.5 2232.76,827.43 2256.76,827.43 2232.76,827.43 \n",
       "  2232.76,568.355 2256.76,568.355 2232.76,568.355 2232.76,309.28 2256.76,309.28 2232.76,309.28 2232.76,50.2056 2256.76,50.2056 2232.76,50.2056 2232.76,47.2441 \n",
       "  \n",
       "  \"/>\n",
       "</svg>\n"
      ]
     },
     "execution_count": 8,
     "metadata": {},
     "output_type": "execute_result"
    }
   ],
   "source": [
    "# example of standard setup\n",
    "standard_setup = (\n",
    "    a = 5.0, \n",
    "    b = 4.0,\n",
    "    h = 3,\n",
    "    R = 1.0, # meters\n",
    "    N = 5, # amount\n",
    "    I = 95.0,\n",
    ")\n",
    "\n",
    "# tests\n",
    "@test r1(0, 0, 0, 0, standard_setup) ≈ standard_setup.h\n",
    "@test r1(0, 0, standard_setup.a, standard_setup.b, standard_setup) ≈\n",
    "    sqrt(standard_setup.h^2 + standard_setup.a^2 + standard_setup.b^2)\n",
    "\n",
    "# static\n",
    "let\n",
    "    xv = range(0, standard_setup.a, length = 100)\n",
    "    yv = range(0, standard_setup.b, length = 100)\n",
    "    Ov = [Otot(x, y, standard_setup) for y in yv, x in xv]\n",
    "    heatmap(xv, yv, Ov, c = :viridis)\n",
    "end"
   ]
  },
  {
   "cell_type": "markdown",
   "metadata": {},
   "source": [
    "## Динамический рисунок\n",
    " * управляй интенсивностью света\n",
    " * Количеством лам\n",
    " * растоянием между лампами\n",
    " * высотой комнаты"
   ]
  },
  {
   "cell_type": "code",
   "execution_count": 22,
   "metadata": {},
   "outputs": [
    {
     "data": {
      "application/vnd.webio.node+json": {
       "children": [
        {
         "children": [
          {
           "children": [
            {
             "children": [
              {
               "children": [
                {
                 "children": [
                  "I"
                 ],
                 "instanceArgs": {
                  "namespace": "html",
                  "tag": "label"
                 },
                 "nodeType": "DOM",
                 "props": {
                  "className": "interact ",
                  "style": {
                   "padding": "5px 10px 0px 10px"
                  }
                 },
                 "type": "node"
                }
               ],
               "instanceArgs": {
                "namespace": "html",
                "tag": "div"
               },
               "nodeType": "DOM",
               "props": {
                "className": "interact-flex-row-left"
               },
               "type": "node"
              },
              {
               "children": [
                {
                 "children": [],
                 "instanceArgs": {
                  "namespace": "html",
                  "tag": "input"
                 },
                 "nodeType": "DOM",
                 "props": {
                  "attributes": {
                   "data-bind": "numericValue: index, valueUpdate: 'input', event: {change: function (){this.changes(this.changes()+1)}}",
                   "orient": "horizontal",
                   "type": "range"
                  },
                  "className": "slider slider is-fullwidth",
                  "max": 451,
                  "min": 1,
                  "step": 1,
                  "style": {}
                 },
                 "type": "node"
                }
               ],
               "instanceArgs": {
                "namespace": "html",
                "tag": "div"
               },
               "nodeType": "DOM",
               "props": {
                "className": "interact-flex-row-center"
               },
               "type": "node"
              },
              {
               "children": [
                {
                 "children": [],
                 "instanceArgs": {
                  "namespace": "html",
                  "tag": "p"
                 },
                 "nodeType": "DOM",
                 "props": {
                  "attributes": {
                   "data-bind": "text: formatted_val"
                  }
                 },
                 "type": "node"
                }
               ],
               "instanceArgs": {
                "namespace": "html",
                "tag": "div"
               },
               "nodeType": "DOM",
               "props": {
                "className": "interact-flex-row-right"
               },
               "type": "node"
              }
             ],
             "instanceArgs": {
              "namespace": "html",
              "tag": "div"
             },
             "nodeType": "DOM",
             "props": {
              "className": "interact-flex-row interact-widget"
             },
             "type": "node"
            }
           ],
           "instanceArgs": {
            "handlers": {
             "changes": [
              "(function (val){return (val!=this.model[\"changes\"]()) ? (this.valueFromJulia[\"changes\"]=true, this.model[\"changes\"](val)) : undefined})"
             ],
             "index": [
              "(function (val){return (val!=this.model[\"index\"]()) ? (this.valueFromJulia[\"index\"]=true, this.model[\"index\"](val)) : undefined})"
             ]
            },
            "id": "8191578213627217283",
            "imports": {
             "data": [
              {
               "name": "knockout",
               "type": "js",
               "url": "/assetserver/400851c8b8cf7fc10948b385af7e3ef99cb76dbc-knockout.js"
              },
              {
               "name": "knockout_punches",
               "type": "js",
               "url": "/assetserver/318f1c0cec30819eed901ca48cd0d6e3c354c074-knockout_punches.js"
              },
              {
               "name": null,
               "type": "js",
               "url": "/assetserver/3ede64c070d9473f4fbd4bd89ae110585a997999-all.js"
              },
              {
               "name": null,
               "type": "css",
               "url": "/assetserver/7adb4c99d077b34000e3990dbe3711ac0c7e6395-style.css"
              },
              {
               "name": null,
               "type": "css",
               "url": "/assetserver/ea4a1c5a9bdd100ceaaac765ebb6256ddc8b7c71-bulma_confined.min.css"
              }
             ],
             "type": "async_block"
            },
            "mount_callbacks": [
             "function () {\n    var handler = (function (ko, koPunches) {\n    ko.punches.enableAll();\n    ko.bindingHandlers.numericValue = {\n        init: function(element, valueAccessor, allBindings, data, context) {\n            var stringified = ko.observable(ko.unwrap(valueAccessor()));\n            stringified.subscribe(function(value) {\n                var val = parseFloat(value);\n                if (!isNaN(val)) {\n                    valueAccessor()(val);\n                }\n            });\n            valueAccessor().subscribe(function(value) {\n                var str = JSON.stringify(value);\n                if ((str == \"0\") && ([\"-0\", \"-0.\"].indexOf(stringified()) >= 0))\n                     return;\n                 if ([\"null\", \"\"].indexOf(str) >= 0)\n                     return;\n                stringified(str);\n            });\n            ko.applyBindingsToNode(\n                element,\n                {\n                    value: stringified,\n                    valueUpdate: allBindings.get('valueUpdate'),\n                },\n                context,\n            );\n        }\n    };\n    var json_data = {\"formatted_vals\":[\"50.0\",\"51.0\",\"52.0\",\"53.0\",\"54.0\",\"55.0\",\"56.0\",\"57.0\",\"58.0\",\"59.0\",\"60.0\",\"61.0\",\"62.0\",\"63.0\",\"64.0\",\"65.0\",\"66.0\",\"67.0\",\"68.0\",\"69.0\",\"70.0\",\"71.0\",\"72.0\",\"73.0\",\"74.0\",\"75.0\",\"76.0\",\"77.0\",\"78.0\",\"79.0\",\"80.0\",\"81.0\",\"82.0\",\"83.0\",\"84.0\",\"85.0\",\"86.0\",\"87.0\",\"88.0\",\"89.0\",\"90.0\",\"91.0\",\"92.0\",\"93.0\",\"94.0\",\"95.0\",\"96.0\",\"97.0\",\"98.0\",\"99.0\",\"100.0\",\"101.0\",\"102.0\",\"103.0\",\"104.0\",\"105.0\",\"106.0\",\"107.0\",\"108.0\",\"109.0\",\"110.0\",\"111.0\",\"112.0\",\"113.0\",\"114.0\",\"115.0\",\"116.0\",\"117.0\",\"118.0\",\"119.0\",\"120.0\",\"121.0\",\"122.0\",\"123.0\",\"124.0\",\"125.0\",\"126.0\",\"127.0\",\"128.0\",\"129.0\",\"130.0\",\"131.0\",\"132.0\",\"133.0\",\"134.0\",\"135.0\",\"136.0\",\"137.0\",\"138.0\",\"139.0\",\"140.0\",\"141.0\",\"142.0\",\"143.0\",\"144.0\",\"145.0\",\"146.0\",\"147.0\",\"148.0\",\"149.0\",\"150.0\",\"151.0\",\"152.0\",\"153.0\",\"154.0\",\"155.0\",\"156.0\",\"157.0\",\"158.0\",\"159.0\",\"160.0\",\"161.0\",\"162.0\",\"163.0\",\"164.0\",\"165.0\",\"166.0\",\"167.0\",\"168.0\",\"169.0\",\"170.0\",\"171.0\",\"172.0\",\"173.0\",\"174.0\",\"175.0\",\"176.0\",\"177.0\",\"178.0\",\"179.0\",\"180.0\",\"181.0\",\"182.0\",\"183.0\",\"184.0\",\"185.0\",\"186.0\",\"187.0\",\"188.0\",\"189.0\",\"190.0\",\"191.0\",\"192.0\",\"193.0\",\"194.0\",\"195.0\",\"196.0\",\"197.0\",\"198.0\",\"199.0\",\"200.0\",\"201.0\",\"202.0\",\"203.0\",\"204.0\",\"205.0\",\"206.0\",\"207.0\",\"208.0\",\"209.0\",\"210.0\",\"211.0\",\"212.0\",\"213.0\",\"214.0\",\"215.0\",\"216.0\",\"217.0\",\"218.0\",\"219.0\",\"220.0\",\"221.0\",\"222.0\",\"223.0\",\"224.0\",\"225.0\",\"226.0\",\"227.0\",\"228.0\",\"229.0\",\"230.0\",\"231.0\",\"232.0\",\"233.0\",\"234.0\",\"235.0\",\"236.0\",\"237.0\",\"238.0\",\"239.0\",\"240.0\",\"241.0\",\"242.0\",\"243.0\",\"244.0\",\"245.0\",\"246.0\",\"247.0\",\"248.0\",\"249.0\",\"250.0\",\"251.0\",\"252.0\",\"253.0\",\"254.0\",\"255.0\",\"256.0\",\"257.0\",\"258.0\",\"259.0\",\"260.0\",\"261.0\",\"262.0\",\"263.0\",\"264.0\",\"265.0\",\"266.0\",\"267.0\",\"268.0\",\"269.0\",\"270.0\",\"271.0\",\"272.0\",\"273.0\",\"274.0\",\"275.0\",\"276.0\",\"277.0\",\"278.0\",\"279.0\",\"280.0\",\"281.0\",\"282.0\",\"283.0\",\"284.0\",\"285.0\",\"286.0\",\"287.0\",\"288.0\",\"289.0\",\"290.0\",\"291.0\",\"292.0\",\"293.0\",\"294.0\",\"295.0\",\"296.0\",\"297.0\",\"298.0\",\"299.0\",\"300.0\",\"301.0\",\"302.0\",\"303.0\",\"304.0\",\"305.0\",\"306.0\",\"307.0\",\"308.0\",\"309.0\",\"310.0\",\"311.0\",\"312.0\",\"313.0\",\"314.0\",\"315.0\",\"316.0\",\"317.0\",\"318.0\",\"319.0\",\"320.0\",\"321.0\",\"322.0\",\"323.0\",\"324.0\",\"325.0\",\"326.0\",\"327.0\",\"328.0\",\"329.0\",\"330.0\",\"331.0\",\"332.0\",\"333.0\",\"334.0\",\"335.0\",\"336.0\",\"337.0\",\"338.0\",\"339.0\",\"340.0\",\"341.0\",\"342.0\",\"343.0\",\"344.0\",\"345.0\",\"346.0\",\"347.0\",\"348.0\",\"349.0\",\"350.0\",\"351.0\",\"352.0\",\"353.0\",\"354.0\",\"355.0\",\"356.0\",\"357.0\",\"358.0\",\"359.0\",\"360.0\",\"361.0\",\"362.0\",\"363.0\",\"364.0\",\"365.0\",\"366.0\",\"367.0\",\"368.0\",\"369.0\",\"370.0\",\"371.0\",\"372.0\",\"373.0\",\"374.0\",\"375.0\",\"376.0\",\"377.0\",\"378.0\",\"379.0\",\"380.0\",\"381.0\",\"382.0\",\"383.0\",\"384.0\",\"385.0\",\"386.0\",\"387.0\",\"388.0\",\"389.0\",\"390.0\",\"391.0\",\"392.0\",\"393.0\",\"394.0\",\"395.0\",\"396.0\",\"397.0\",\"398.0\",\"399.0\",\"400.0\",\"401.0\",\"402.0\",\"403.0\",\"404.0\",\"405.0\",\"406.0\",\"407.0\",\"408.0\",\"409.0\",\"410.0\",\"411.0\",\"412.0\",\"413.0\",\"414.0\",\"415.0\",\"416.0\",\"417.0\",\"418.0\",\"419.0\",\"420.0\",\"421.0\",\"422.0\",\"423.0\",\"424.0\",\"425.0\",\"426.0\",\"427.0\",\"428.0\",\"429.0\",\"430.0\",\"431.0\",\"432.0\",\"433.0\",\"434.0\",\"435.0\",\"436.0\",\"437.0\",\"438.0\",\"439.0\",\"440.0\",\"441.0\",\"442.0\",\"443.0\",\"444.0\",\"445.0\",\"446.0\",\"447.0\",\"448.0\",\"449.0\",\"450.0\",\"451.0\",\"452.0\",\"453.0\",\"454.0\",\"455.0\",\"456.0\",\"457.0\",\"458.0\",\"459.0\",\"460.0\",\"461.0\",\"462.0\",\"463.0\",\"464.0\",\"465.0\",\"466.0\",\"467.0\",\"468.0\",\"469.0\",\"470.0\",\"471.0\",\"472.0\",\"473.0\",\"474.0\",\"475.0\",\"476.0\",\"477.0\",\"478.0\",\"479.0\",\"480.0\",\"481.0\",\"482.0\",\"483.0\",\"484.0\",\"485.0\",\"486.0\",\"487.0\",\"488.0\",\"489.0\",\"490.0\",\"491.0\",\"492.0\",\"493.0\",\"494.0\",\"495.0\",\"496.0\",\"497.0\",\"498.0\",\"499.0\",\"500.0\"],\"changes\":WebIO.getval({\"name\":\"changes\",\"scope\":\"8191578213627217283\",\"id\":\"ob_204\",\"type\":\"observable\"}),\"index\":WebIO.getval({\"name\":\"index\",\"scope\":\"8191578213627217283\",\"id\":\"ob_203\",\"type\":\"observable\"})};\n    var self = this;\n    function AppViewModel() {\n        for (var key in json_data) {\n            var el = json_data[key];\n            this[key] = Array.isArray(el) ? ko.observableArray(el) : ko.observable(el);\n        }\n        \n        [this[\"formatted_val\"]=ko.computed(    function(){\n        return this.formatted_vals()[parseInt(this.index())-(1)];\n    }\n,this)]\n        [this[\"changes\"].subscribe((function (val){!(this.valueFromJulia[\"changes\"]) ? (WebIO.setval({\"name\":\"changes\",\"scope\":\"8191578213627217283\",\"id\":\"ob_204\",\"type\":\"observable\"},val)) : undefined; return this.valueFromJulia[\"changes\"]=false}),self),this[\"index\"].subscribe((function (val){!(this.valueFromJulia[\"index\"]) ? (WebIO.setval({\"name\":\"index\",\"scope\":\"8191578213627217283\",\"id\":\"ob_203\",\"type\":\"observable\"},val)) : undefined; return this.valueFromJulia[\"index\"]=false}),self)]\n        \n    }\n    self.model = new AppViewModel();\n    self.valueFromJulia = {};\n    for (var key in json_data) {\n        self.valueFromJulia[key] = false;\n    }\n    ko.applyBindings(self.model, self.dom);\n}\n);\n    (WebIO.importBlock({\"data\":[{\"name\":\"knockout\",\"type\":\"js\",\"url\":\"/assetserver/400851c8b8cf7fc10948b385af7e3ef99cb76dbc-knockout.js\"},{\"name\":\"knockout_punches\",\"type\":\"js\",\"url\":\"/assetserver/318f1c0cec30819eed901ca48cd0d6e3c354c074-knockout_punches.js\"}],\"type\":\"async_block\"})).then((imports) => handler.apply(this, imports));\n}\n"
            ],
            "observables": {
             "changes": {
              "id": "ob_204",
              "sync": false,
              "value": 0
             },
             "index": {
              "id": "ob_203",
              "sync": true,
              "value": 6
             }
            },
            "systemjs_options": null
           },
           "nodeType": "Scope",
           "props": {},
           "type": "node"
          }
         ],
         "instanceArgs": {
          "namespace": "html",
          "tag": "div"
         },
         "nodeType": "DOM",
         "props": {
          "className": "field interact-widget"
         },
         "type": "node"
        },
        {
         "children": [
          {
           "children": [
            {
             "children": [
              {
               "children": [
                {
                 "children": [
                  "N"
                 ],
                 "instanceArgs": {
                  "namespace": "html",
                  "tag": "label"
                 },
                 "nodeType": "DOM",
                 "props": {
                  "className": "interact ",
                  "style": {
                   "padding": "5px 10px 0px 10px"
                  }
                 },
                 "type": "node"
                }
               ],
               "instanceArgs": {
                "namespace": "html",
                "tag": "div"
               },
               "nodeType": "DOM",
               "props": {
                "className": "interact-flex-row-left"
               },
               "type": "node"
              },
              {
               "children": [
                {
                 "children": [],
                 "instanceArgs": {
                  "namespace": "html",
                  "tag": "input"
                 },
                 "nodeType": "DOM",
                 "props": {
                  "attributes": {
                   "data-bind": "numericValue: index, valueUpdate: 'input', event: {change: function (){this.changes(this.changes()+1)}}",
                   "orient": "horizontal",
                   "type": "range"
                  },
                  "className": "slider slider is-fullwidth",
                  "max": 8,
                  "min": 2,
                  "step": 1,
                  "style": {}
                 },
                 "type": "node"
                }
               ],
               "instanceArgs": {
                "namespace": "html",
                "tag": "div"
               },
               "nodeType": "DOM",
               "props": {
                "className": "interact-flex-row-center"
               },
               "type": "node"
              },
              {
               "children": [
                {
                 "children": [],
                 "instanceArgs": {
                  "namespace": "html",
                  "tag": "p"
                 },
                 "nodeType": "DOM",
                 "props": {
                  "attributes": {
                   "data-bind": "text: formatted_val"
                  }
                 },
                 "type": "node"
                }
               ],
               "instanceArgs": {
                "namespace": "html",
                "tag": "div"
               },
               "nodeType": "DOM",
               "props": {
                "className": "interact-flex-row-right"
               },
               "type": "node"
              }
             ],
             "instanceArgs": {
              "namespace": "html",
              "tag": "div"
             },
             "nodeType": "DOM",
             "props": {
              "className": "interact-flex-row interact-widget"
             },
             "type": "node"
            }
           ],
           "instanceArgs": {
            "handlers": {
             "changes": [
              "(function (val){return (val!=this.model[\"changes\"]()) ? (this.valueFromJulia[\"changes\"]=true, this.model[\"changes\"](val)) : undefined})"
             ],
             "index": [
              "(function (val){return (val!=this.model[\"index\"]()) ? (this.valueFromJulia[\"index\"]=true, this.model[\"index\"](val)) : undefined})"
             ]
            },
            "id": "11457976151711697943",
            "imports": {
             "data": [
              {
               "name": "knockout",
               "type": "js",
               "url": "/assetserver/400851c8b8cf7fc10948b385af7e3ef99cb76dbc-knockout.js"
              },
              {
               "name": "knockout_punches",
               "type": "js",
               "url": "/assetserver/318f1c0cec30819eed901ca48cd0d6e3c354c074-knockout_punches.js"
              },
              {
               "name": null,
               "type": "js",
               "url": "/assetserver/3ede64c070d9473f4fbd4bd89ae110585a997999-all.js"
              },
              {
               "name": null,
               "type": "css",
               "url": "/assetserver/7adb4c99d077b34000e3990dbe3711ac0c7e6395-style.css"
              },
              {
               "name": null,
               "type": "css",
               "url": "/assetserver/ea4a1c5a9bdd100ceaaac765ebb6256ddc8b7c71-bulma_confined.min.css"
              }
             ],
             "type": "async_block"
            },
            "mount_callbacks": [
             "function () {\n    var handler = (function (ko, koPunches) {\n    ko.punches.enableAll();\n    ko.bindingHandlers.numericValue = {\n        init: function(element, valueAccessor, allBindings, data, context) {\n            var stringified = ko.observable(ko.unwrap(valueAccessor()));\n            stringified.subscribe(function(value) {\n                var val = parseFloat(value);\n                if (!isNaN(val)) {\n                    valueAccessor()(val);\n                }\n            });\n            valueAccessor().subscribe(function(value) {\n                var str = JSON.stringify(value);\n                if ((str == \"0\") && ([\"-0\", \"-0.\"].indexOf(stringified()) >= 0))\n                     return;\n                 if ([\"null\", \"\"].indexOf(str) >= 0)\n                     return;\n                stringified(str);\n            });\n            ko.applyBindingsToNode(\n                element,\n                {\n                    value: stringified,\n                    valueUpdate: allBindings.get('valueUpdate'),\n                },\n                context,\n            );\n        }\n    };\n    var json_data = {\"formatted_vals\":[\"2\",\"3\",\"4\",\"5\",\"6\",\"7\",\"8\"],\"changes\":WebIO.getval({\"name\":\"changes\",\"scope\":\"11457976151711697943\",\"id\":\"ob_206\",\"type\":\"observable\"}),\"index\":WebIO.getval({\"name\":\"index\",\"scope\":\"11457976151711697943\",\"id\":\"ob_205\",\"type\":\"observable\"})};\n    var self = this;\n    function AppViewModel() {\n        for (var key in json_data) {\n            var el = json_data[key];\n            this[key] = Array.isArray(el) ? ko.observableArray(el) : ko.observable(el);\n        }\n        \n        [this[\"formatted_val\"]=ko.computed(    function(){\n        return this.formatted_vals()[parseInt(this.index())-(2)];\n    }\n,this)]\n        [this[\"changes\"].subscribe((function (val){!(this.valueFromJulia[\"changes\"]) ? (WebIO.setval({\"name\":\"changes\",\"scope\":\"11457976151711697943\",\"id\":\"ob_206\",\"type\":\"observable\"},val)) : undefined; return this.valueFromJulia[\"changes\"]=false}),self),this[\"index\"].subscribe((function (val){!(this.valueFromJulia[\"index\"]) ? (WebIO.setval({\"name\":\"index\",\"scope\":\"11457976151711697943\",\"id\":\"ob_205\",\"type\":\"observable\"},val)) : undefined; return this.valueFromJulia[\"index\"]=false}),self)]\n        \n    }\n    self.model = new AppViewModel();\n    self.valueFromJulia = {};\n    for (var key in json_data) {\n        self.valueFromJulia[key] = false;\n    }\n    ko.applyBindings(self.model, self.dom);\n}\n);\n    (WebIO.importBlock({\"data\":[{\"name\":\"knockout\",\"type\":\"js\",\"url\":\"/assetserver/400851c8b8cf7fc10948b385af7e3ef99cb76dbc-knockout.js\"},{\"name\":\"knockout_punches\",\"type\":\"js\",\"url\":\"/assetserver/318f1c0cec30819eed901ca48cd0d6e3c354c074-knockout_punches.js\"}],\"type\":\"async_block\"})).then((imports) => handler.apply(this, imports));\n}\n"
            ],
            "observables": {
             "changes": {
              "id": "ob_206",
              "sync": false,
              "value": 0
             },
             "index": {
              "id": "ob_205",
              "sync": true,
              "value": 5
             }
            },
            "systemjs_options": null
           },
           "nodeType": "Scope",
           "props": {},
           "type": "node"
          }
         ],
         "instanceArgs": {
          "namespace": "html",
          "tag": "div"
         },
         "nodeType": "DOM",
         "props": {
          "className": "field interact-widget"
         },
         "type": "node"
        },
        {
         "children": [
          {
           "children": [
            {
             "children": [
              {
               "children": [
                {
                 "children": [
                  "R"
                 ],
                 "instanceArgs": {
                  "namespace": "html",
                  "tag": "label"
                 },
                 "nodeType": "DOM",
                 "props": {
                  "className": "interact ",
                  "style": {
                   "padding": "5px 10px 0px 10px"
                  }
                 },
                 "type": "node"
                }
               ],
               "instanceArgs": {
                "namespace": "html",
                "tag": "div"
               },
               "nodeType": "DOM",
               "props": {
                "className": "interact-flex-row-left"
               },
               "type": "node"
              },
              {
               "children": [
                {
                 "children": [],
                 "instanceArgs": {
                  "namespace": "html",
                  "tag": "input"
                 },
                 "nodeType": "DOM",
                 "props": {
                  "attributes": {
                   "data-bind": "numericValue: index, valueUpdate: 'input', event: {change: function (){this.changes(this.changes()+1)}}",
                   "orient": "horizontal",
                   "type": "range"
                  },
                  "className": "slider slider is-fullwidth",
                  "max": 200,
                  "min": 1,
                  "step": 1,
                  "style": {}
                 },
                 "type": "node"
                }
               ],
               "instanceArgs": {
                "namespace": "html",
                "tag": "div"
               },
               "nodeType": "DOM",
               "props": {
                "className": "interact-flex-row-center"
               },
               "type": "node"
              },
              {
               "children": [
                {
                 "children": [],
                 "instanceArgs": {
                  "namespace": "html",
                  "tag": "p"
                 },
                 "nodeType": "DOM",
                 "props": {
                  "attributes": {
                   "data-bind": "text: formatted_val"
                  }
                 },
                 "type": "node"
                }
               ],
               "instanceArgs": {
                "namespace": "html",
                "tag": "div"
               },
               "nodeType": "DOM",
               "props": {
                "className": "interact-flex-row-right"
               },
               "type": "node"
              }
             ],
             "instanceArgs": {
              "namespace": "html",
              "tag": "div"
             },
             "nodeType": "DOM",
             "props": {
              "className": "interact-flex-row interact-widget"
             },
             "type": "node"
            }
           ],
           "instanceArgs": {
            "handlers": {
             "changes": [
              "(function (val){return (val!=this.model[\"changes\"]()) ? (this.valueFromJulia[\"changes\"]=true, this.model[\"changes\"](val)) : undefined})"
             ],
             "index": [
              "(function (val){return (val!=this.model[\"index\"]()) ? (this.valueFromJulia[\"index\"]=true, this.model[\"index\"](val)) : undefined})"
             ]
            },
            "id": "9293882678758188599",
            "imports": {
             "data": [
              {
               "name": "knockout",
               "type": "js",
               "url": "/assetserver/400851c8b8cf7fc10948b385af7e3ef99cb76dbc-knockout.js"
              },
              {
               "name": "knockout_punches",
               "type": "js",
               "url": "/assetserver/318f1c0cec30819eed901ca48cd0d6e3c354c074-knockout_punches.js"
              },
              {
               "name": null,
               "type": "js",
               "url": "/assetserver/3ede64c070d9473f4fbd4bd89ae110585a997999-all.js"
              },
              {
               "name": null,
               "type": "css",
               "url": "/assetserver/7adb4c99d077b34000e3990dbe3711ac0c7e6395-style.css"
              },
              {
               "name": null,
               "type": "css",
               "url": "/assetserver/ea4a1c5a9bdd100ceaaac765ebb6256ddc8b7c71-bulma_confined.min.css"
              }
             ],
             "type": "async_block"
            },
            "mount_callbacks": [
             "function () {\n    var handler = (function (ko, koPunches) {\n    ko.punches.enableAll();\n    ko.bindingHandlers.numericValue = {\n        init: function(element, valueAccessor, allBindings, data, context) {\n            var stringified = ko.observable(ko.unwrap(valueAccessor()));\n            stringified.subscribe(function(value) {\n                var val = parseFloat(value);\n                if (!isNaN(val)) {\n                    valueAccessor()(val);\n                }\n            });\n            valueAccessor().subscribe(function(value) {\n                var str = JSON.stringify(value);\n                if ((str == \"0\") && ([\"-0\", \"-0.\"].indexOf(stringified()) >= 0))\n                     return;\n                 if ([\"null\", \"\"].indexOf(str) >= 0)\n                     return;\n                stringified(str);\n            });\n            ko.applyBindingsToNode(\n                element,\n                {\n                    value: stringified,\n                    valueUpdate: allBindings.get('valueUpdate'),\n                },\n                context,\n            );\n        }\n    };\n    var json_data = {\"formatted_vals\":[\"0.01\",\"0.02\",\"0.03\",\"0.04\",\"0.05\",\"0.06\",\"0.07\",\"0.08\",\"0.09\",\"0.1\",\"0.11\",\"0.12\",\"0.13\",\"0.14\",\"0.15\",\"0.16\",\"0.17\",\"0.18\",\"0.19\",\"0.2\",\"0.21\",\"0.22\",\"0.23\",\"0.24\",\"0.25\",\"0.26\",\"0.27\",\"0.28\",\"0.29\",\"0.3\",\"0.31\",\"0.32\",\"0.33\",\"0.34\",\"0.35\",\"0.36\",\"0.37\",\"0.38\",\"0.39\",\"0.4\",\"0.41\",\"0.42\",\"0.43\",\"0.44\",\"0.45\",\"0.46\",\"0.47\",\"0.48\",\"0.49\",\"0.5\",\"0.51\",\"0.52\",\"0.53\",\"0.54\",\"0.55\",\"0.56\",\"0.57\",\"0.58\",\"0.59\",\"0.6\",\"0.61\",\"0.62\",\"0.63\",\"0.64\",\"0.65\",\"0.66\",\"0.67\",\"0.68\",\"0.69\",\"0.7\",\"0.71\",\"0.72\",\"0.73\",\"0.74\",\"0.75\",\"0.76\",\"0.77\",\"0.78\",\"0.79\",\"0.8\",\"0.81\",\"0.82\",\"0.83\",\"0.84\",\"0.85\",\"0.86\",\"0.87\",\"0.88\",\"0.89\",\"0.9\",\"0.91\",\"0.92\",\"0.93\",\"0.94\",\"0.95\",\"0.96\",\"0.97\",\"0.98\",\"0.99\",\"1.0\",\"1.01\",\"1.02\",\"1.03\",\"1.04\",\"1.05\",\"1.06\",\"1.07\",\"1.08\",\"1.09\",\"1.1\",\"1.11\",\"1.12\",\"1.13\",\"1.14\",\"1.15\",\"1.16\",\"1.17\",\"1.18\",\"1.19\",\"1.2\",\"1.21\",\"1.22\",\"1.23\",\"1.24\",\"1.25\",\"1.26\",\"1.27\",\"1.28\",\"1.29\",\"1.3\",\"1.31\",\"1.32\",\"1.33\",\"1.34\",\"1.35\",\"1.36\",\"1.37\",\"1.38\",\"1.39\",\"1.4\",\"1.41\",\"1.42\",\"1.43\",\"1.44\",\"1.45\",\"1.46\",\"1.47\",\"1.48\",\"1.49\",\"1.5\",\"1.51\",\"1.52\",\"1.53\",\"1.54\",\"1.55\",\"1.56\",\"1.57\",\"1.58\",\"1.59\",\"1.6\",\"1.61\",\"1.62\",\"1.63\",\"1.64\",\"1.65\",\"1.66\",\"1.67\",\"1.68\",\"1.69\",\"1.7\",\"1.71\",\"1.72\",\"1.73\",\"1.74\",\"1.75\",\"1.76\",\"1.77\",\"1.78\",\"1.79\",\"1.8\",\"1.81\",\"1.82\",\"1.83\",\"1.84\",\"1.85\",\"1.86\",\"1.87\",\"1.88\",\"1.89\",\"1.9\",\"1.91\",\"1.92\",\"1.93\",\"1.94\",\"1.95\",\"1.96\",\"1.97\",\"1.98\",\"1.99\",\"2.0\"],\"changes\":WebIO.getval({\"name\":\"changes\",\"scope\":\"9293882678758188599\",\"id\":\"ob_209\",\"type\":\"observable\"}),\"index\":WebIO.getval({\"name\":\"index\",\"scope\":\"9293882678758188599\",\"id\":\"ob_208\",\"type\":\"observable\"})};\n    var self = this;\n    function AppViewModel() {\n        for (var key in json_data) {\n            var el = json_data[key];\n            this[key] = Array.isArray(el) ? ko.observableArray(el) : ko.observable(el);\n        }\n        \n        [this[\"formatted_val\"]=ko.computed(    function(){\n        return this.formatted_vals()[parseInt(this.index())-(1)];\n    }\n,this)]\n        [this[\"changes\"].subscribe((function (val){!(this.valueFromJulia[\"changes\"]) ? (WebIO.setval({\"name\":\"changes\",\"scope\":\"9293882678758188599\",\"id\":\"ob_209\",\"type\":\"observable\"},val)) : undefined; return this.valueFromJulia[\"changes\"]=false}),self),this[\"index\"].subscribe((function (val){!(this.valueFromJulia[\"index\"]) ? (WebIO.setval({\"name\":\"index\",\"scope\":\"9293882678758188599\",\"id\":\"ob_208\",\"type\":\"observable\"},val)) : undefined; return this.valueFromJulia[\"index\"]=false}),self)]\n        \n    }\n    self.model = new AppViewModel();\n    self.valueFromJulia = {};\n    for (var key in json_data) {\n        self.valueFromJulia[key] = false;\n    }\n    ko.applyBindings(self.model, self.dom);\n}\n);\n    (WebIO.importBlock({\"data\":[{\"name\":\"knockout\",\"type\":\"js\",\"url\":\"/assetserver/400851c8b8cf7fc10948b385af7e3ef99cb76dbc-knockout.js\"},{\"name\":\"knockout_punches\",\"type\":\"js\",\"url\":\"/assetserver/318f1c0cec30819eed901ca48cd0d6e3c354c074-knockout_punches.js\"}],\"type\":\"async_block\"})).then((imports) => handler.apply(this, imports));\n}\n"
            ],
            "observables": {
             "changes": {
              "id": "ob_209",
              "sync": false,
              "value": 0
             },
             "index": {
              "id": "ob_208",
              "sync": true,
              "value": 100
             }
            },
            "systemjs_options": null
           },
           "nodeType": "Scope",
           "props": {},
           "type": "node"
          }
         ],
         "instanceArgs": {
          "namespace": "html",
          "tag": "div"
         },
         "nodeType": "DOM",
         "props": {
          "className": "field interact-widget"
         },
         "type": "node"
        },
        {
         "children": [
          {
           "children": [
            {
             "children": [
              {
               "children": [
                {
                 "children": [
                  "h"
                 ],
                 "instanceArgs": {
                  "namespace": "html",
                  "tag": "label"
                 },
                 "nodeType": "DOM",
                 "props": {
                  "className": "interact ",
                  "style": {
                   "padding": "5px 10px 0px 10px"
                  }
                 },
                 "type": "node"
                }
               ],
               "instanceArgs": {
                "namespace": "html",
                "tag": "div"
               },
               "nodeType": "DOM",
               "props": {
                "className": "interact-flex-row-left"
               },
               "type": "node"
              },
              {
               "children": [
                {
                 "children": [],
                 "instanceArgs": {
                  "namespace": "html",
                  "tag": "input"
                 },
                 "nodeType": "DOM",
                 "props": {
                  "attributes": {
                   "data-bind": "numericValue: index, valueUpdate: 'input', event: {change: function (){this.changes(this.changes()+1)}}",
                   "orient": "horizontal",
                   "type": "range"
                  },
                  "className": "slider slider is-fullwidth",
                  "max": 30,
                  "min": 1,
                  "step": 1,
                  "style": {}
                 },
                 "type": "node"
                }
               ],
               "instanceArgs": {
                "namespace": "html",
                "tag": "div"
               },
               "nodeType": "DOM",
               "props": {
                "className": "interact-flex-row-center"
               },
               "type": "node"
              },
              {
               "children": [
                {
                 "children": [],
                 "instanceArgs": {
                  "namespace": "html",
                  "tag": "p"
                 },
                 "nodeType": "DOM",
                 "props": {
                  "attributes": {
                   "data-bind": "text: formatted_val"
                  }
                 },
                 "type": "node"
                }
               ],
               "instanceArgs": {
                "namespace": "html",
                "tag": "div"
               },
               "nodeType": "DOM",
               "props": {
                "className": "interact-flex-row-right"
               },
               "type": "node"
              }
             ],
             "instanceArgs": {
              "namespace": "html",
              "tag": "div"
             },
             "nodeType": "DOM",
             "props": {
              "className": "interact-flex-row interact-widget"
             },
             "type": "node"
            }
           ],
           "instanceArgs": {
            "handlers": {
             "changes": [
              "(function (val){return (val!=this.model[\"changes\"]()) ? (this.valueFromJulia[\"changes\"]=true, this.model[\"changes\"](val)) : undefined})"
             ],
             "index": [
              "(function (val){return (val!=this.model[\"index\"]()) ? (this.valueFromJulia[\"index\"]=true, this.model[\"index\"](val)) : undefined})"
             ]
            },
            "id": "11320081085531026953",
            "imports": {
             "data": [
              {
               "name": "knockout",
               "type": "js",
               "url": "/assetserver/400851c8b8cf7fc10948b385af7e3ef99cb76dbc-knockout.js"
              },
              {
               "name": "knockout_punches",
               "type": "js",
               "url": "/assetserver/318f1c0cec30819eed901ca48cd0d6e3c354c074-knockout_punches.js"
              },
              {
               "name": null,
               "type": "js",
               "url": "/assetserver/3ede64c070d9473f4fbd4bd89ae110585a997999-all.js"
              },
              {
               "name": null,
               "type": "css",
               "url": "/assetserver/7adb4c99d077b34000e3990dbe3711ac0c7e6395-style.css"
              },
              {
               "name": null,
               "type": "css",
               "url": "/assetserver/ea4a1c5a9bdd100ceaaac765ebb6256ddc8b7c71-bulma_confined.min.css"
              }
             ],
             "type": "async_block"
            },
            "mount_callbacks": [
             "function () {\n    var handler = (function (ko, koPunches) {\n    ko.punches.enableAll();\n    ko.bindingHandlers.numericValue = {\n        init: function(element, valueAccessor, allBindings, data, context) {\n            var stringified = ko.observable(ko.unwrap(valueAccessor()));\n            stringified.subscribe(function(value) {\n                var val = parseFloat(value);\n                if (!isNaN(val)) {\n                    valueAccessor()(val);\n                }\n            });\n            valueAccessor().subscribe(function(value) {\n                var str = JSON.stringify(value);\n                if ((str == \"0\") && ([\"-0\", \"-0.\"].indexOf(stringified()) >= 0))\n                     return;\n                 if ([\"null\", \"\"].indexOf(str) >= 0)\n                     return;\n                stringified(str);\n            });\n            ko.applyBindingsToNode(\n                element,\n                {\n                    value: stringified,\n                    valueUpdate: allBindings.get('valueUpdate'),\n                },\n                context,\n            );\n        }\n    };\n    var json_data = {\"formatted_vals\":[\"0.1\",\"0.2\",\"0.3\",\"0.4\",\"0.5\",\"0.6\",\"0.7\",\"0.8\",\"0.9\",\"1.0\",\"1.1\",\"1.2\",\"1.3\",\"1.4\",\"1.5\",\"1.6\",\"1.7\",\"1.8\",\"1.9\",\"2.0\",\"2.1\",\"2.2\",\"2.3\",\"2.4\",\"2.5\",\"2.6\",\"2.7\",\"2.8\",\"2.9\",\"3.0\"],\"changes\":WebIO.getval({\"name\":\"changes\",\"scope\":\"11320081085531026953\",\"id\":\"ob_212\",\"type\":\"observable\"}),\"index\":WebIO.getval({\"name\":\"index\",\"scope\":\"11320081085531026953\",\"id\":\"ob_211\",\"type\":\"observable\"})};\n    var self = this;\n    function AppViewModel() {\n        for (var key in json_data) {\n            var el = json_data[key];\n            this[key] = Array.isArray(el) ? ko.observableArray(el) : ko.observable(el);\n        }\n        \n        [this[\"formatted_val\"]=ko.computed(    function(){\n        return this.formatted_vals()[parseInt(this.index())-(1)];\n    }\n,this)]\n        [this[\"changes\"].subscribe((function (val){!(this.valueFromJulia[\"changes\"]) ? (WebIO.setval({\"name\":\"changes\",\"scope\":\"11320081085531026953\",\"id\":\"ob_212\",\"type\":\"observable\"},val)) : undefined; return this.valueFromJulia[\"changes\"]=false}),self),this[\"index\"].subscribe((function (val){!(this.valueFromJulia[\"index\"]) ? (WebIO.setval({\"name\":\"index\",\"scope\":\"11320081085531026953\",\"id\":\"ob_211\",\"type\":\"observable\"},val)) : undefined; return this.valueFromJulia[\"index\"]=false}),self)]\n        \n    }\n    self.model = new AppViewModel();\n    self.valueFromJulia = {};\n    for (var key in json_data) {\n        self.valueFromJulia[key] = false;\n    }\n    ko.applyBindings(self.model, self.dom);\n}\n);\n    (WebIO.importBlock({\"data\":[{\"name\":\"knockout\",\"type\":\"js\",\"url\":\"/assetserver/400851c8b8cf7fc10948b385af7e3ef99cb76dbc-knockout.js\"},{\"name\":\"knockout_punches\",\"type\":\"js\",\"url\":\"/assetserver/318f1c0cec30819eed901ca48cd0d6e3c354c074-knockout_punches.js\"}],\"type\":\"async_block\"})).then((imports) => handler.apply(this, imports));\n}\n"
            ],
            "observables": {
             "changes": {
              "id": "ob_212",
              "sync": false,
              "value": 0
             },
             "index": {
              "id": "ob_211",
              "sync": true,
              "value": 9
             }
            },
            "systemjs_options": null
           },
           "nodeType": "Scope",
           "props": {},
           "type": "node"
          }
         ],
         "instanceArgs": {
          "namespace": "html",
          "tag": "div"
         },
         "nodeType": "DOM",
         "props": {
          "className": "field interact-widget"
         },
         "type": "node"
        },
        {
         "children": [
          {
           "children": [],
           "instanceArgs": {
            "id": "ob_218",
            "name": "obs-node"
           },
           "nodeType": "ObservableNode",
           "props": {},
           "type": "node"
          }
         ],
         "instanceArgs": {
          "handlers": {},
          "id": "2543507517276003093",
          "imports": {
           "data": [],
           "type": "async_block"
          },
          "mount_callbacks": [],
          "observables": {
           "obs-node": {
            "id": "ob_218",
            "sync": false,
            "value": {
             "children": [
              {
               "children": [],
               "instanceArgs": {
                "namespace": "html",
                "tag": "div"
               },
               "nodeType": "DOM",
               "props": {
                "setInnerHtml": "<?xml version=\"1.0\" encoding=\"utf-8\"?>\n<svg xmlns=\"http://www.w3.org/2000/svg\" xmlns:xlink=\"http://www.w3.org/1999/xlink\" width=\"600\" height=\"400\" viewBox=\"0 0 2400 1600\">\n<defs>\n  <clipPath id=\"clip5400\">\n    <rect x=\"0\" y=\"0\" width=\"2400\" height=\"1600\"/>\n  </clipPath>\n</defs>\n<path clip-path=\"url(#clip5400)\" d=\"\nM0 1600 L2400 1600 L2400 0 L0 0  Z\n  \" fill=\"#ffffff\" fill-rule=\"evenodd\" fill-opacity=\"1\"/>\n<defs>\n  <clipPath id=\"clip5401\">\n    <rect x=\"480\" y=\"0\" width=\"1681\" height=\"1600\"/>\n  </clipPath>\n</defs>\n<path clip-path=\"url(#clip5400)\" d=\"\nM113.754 1487.47 L2112.76 1487.47 L2112.76 47.2441 L113.754 47.2441  Z\n  \" fill=\"#ffffff\" fill-rule=\"evenodd\" fill-opacity=\"1\"/>\n<defs>\n  <clipPath id=\"clip5402\">\n    <rect x=\"113\" y=\"47\" width=\"2000\" height=\"1441\"/>\n  </clipPath>\n</defs>\n<polyline clip-path=\"url(#clip5402)\" style=\"stroke:#000000; stroke-width:2; stroke-opacity:0.1; fill:none\" points=\"\n  123.749,1487.47 123.749,47.2441 \n  \"/>\n<polyline clip-path=\"url(#clip5402)\" style=\"stroke:#000000; stroke-width:2; stroke-opacity:0.1; fill:none\" points=\"\n  519.552,1487.47 519.552,47.2441 \n  \"/>\n<polyline clip-path=\"url(#clip5402)\" style=\"stroke:#000000; stroke-width:2; stroke-opacity:0.1; fill:none\" points=\"\n  915.354,1487.47 915.354,47.2441 \n  \"/>\n<polyline clip-path=\"url(#clip5402)\" style=\"stroke:#000000; stroke-width:2; stroke-opacity:0.1; fill:none\" points=\"\n  1311.16,1487.47 1311.16,47.2441 \n  \"/>\n<polyline clip-path=\"url(#clip5402)\" style=\"stroke:#000000; stroke-width:2; stroke-opacity:0.1; fill:none\" points=\"\n  1706.96,1487.47 1706.96,47.2441 \n  \"/>\n<polyline clip-path=\"url(#clip5402)\" style=\"stroke:#000000; stroke-width:2; stroke-opacity:0.1; fill:none\" points=\"\n  2102.76,1487.47 2102.76,47.2441 \n  \"/>\n<polyline clip-path=\"url(#clip5402)\" style=\"stroke:#000000; stroke-width:2; stroke-opacity:0.1; fill:none\" points=\"\n  113.754,1480.27 2112.76,1480.27 \n  \"/>\n<polyline clip-path=\"url(#clip5402)\" style=\"stroke:#000000; stroke-width:2; stroke-opacity:0.1; fill:none\" points=\"\n  113.754,1123.82 2112.76,1123.82 \n  \"/>\n<polyline clip-path=\"url(#clip5402)\" style=\"stroke:#000000; stroke-width:2; stroke-opacity:0.1; fill:none\" points=\"\n  113.754,767.359 2112.76,767.359 \n  \"/>\n<polyline clip-path=\"url(#clip5402)\" style=\"stroke:#000000; stroke-width:2; stroke-opacity:0.1; fill:none\" points=\"\n  113.754,410.902 2112.76,410.902 \n  \"/>\n<polyline clip-path=\"url(#clip5402)\" style=\"stroke:#000000; stroke-width:2; stroke-opacity:0.1; fill:none\" points=\"\n  113.754,54.4452 2112.76,54.4452 \n  \"/>\n<polyline clip-path=\"url(#clip5400)\" style=\"stroke:#000000; stroke-width:4; stroke-opacity:1; fill:none\" points=\"\n  113.754,1487.47 2112.76,1487.47 \n  \"/>\n<polyline clip-path=\"url(#clip5400)\" style=\"stroke:#000000; stroke-width:4; stroke-opacity:1; fill:none\" points=\"\n  113.754,1487.47 113.754,47.2441 \n  \"/>\n<polyline clip-path=\"url(#clip5400)\" style=\"stroke:#000000; stroke-width:4; stroke-opacity:1; fill:none\" points=\"\n  123.749,1487.47 123.749,1470.19 \n  \"/>\n<polyline clip-path=\"url(#clip5400)\" style=\"stroke:#000000; stroke-width:4; stroke-opacity:1; fill:none\" points=\"\n  519.552,1487.47 519.552,1470.19 \n  \"/>\n<polyline clip-path=\"url(#clip5400)\" style=\"stroke:#000000; stroke-width:4; stroke-opacity:1; fill:none\" points=\"\n  915.354,1487.47 915.354,1470.19 \n  \"/>\n<polyline clip-path=\"url(#clip5400)\" style=\"stroke:#000000; stroke-width:4; stroke-opacity:1; fill:none\" points=\"\n  1311.16,1487.47 1311.16,1470.19 \n  \"/>\n<polyline clip-path=\"url(#clip5400)\" style=\"stroke:#000000; stroke-width:4; stroke-opacity:1; fill:none\" points=\"\n  1706.96,1487.47 1706.96,1470.19 \n  \"/>\n<polyline clip-path=\"url(#clip5400)\" style=\"stroke:#000000; stroke-width:4; stroke-opacity:1; fill:none\" points=\"\n  2102.76,1487.47 2102.76,1470.19 \n  \"/>\n<polyline clip-path=\"url(#clip5400)\" style=\"stroke:#000000; stroke-width:4; stroke-opacity:1; fill:none\" points=\"\n  113.754,1480.27 137.742,1480.27 \n  \"/>\n<polyline clip-path=\"url(#clip5400)\" style=\"stroke:#000000; stroke-width:4; stroke-opacity:1; fill:none\" points=\"\n  113.754,1123.82 137.742,1123.82 \n  \"/>\n<polyline clip-path=\"url(#clip5400)\" style=\"stroke:#000000; stroke-width:4; stroke-opacity:1; fill:none\" points=\"\n  113.754,767.359 137.742,767.359 \n  \"/>\n<polyline clip-path=\"url(#clip5400)\" style=\"stroke:#000000; stroke-width:4; stroke-opacity:1; fill:none\" points=\"\n  113.754,410.902 137.742,410.902 \n  \"/>\n<polyline clip-path=\"url(#clip5400)\" style=\"stroke:#000000; stroke-width:4; stroke-opacity:1; fill:none\" points=\"\n  113.754,54.4452 137.742,54.4452 \n  \"/>\n<g clip-path=\"url(#clip5400)\">\n<text style=\"fill:#000000; fill-opacity:1; font-family:Arial,Helvetica Neue,Helvetica,sans-serif; font-size:48px; text-anchor:middle;\" transform=\"rotate(0, 123.749, 1541.47)\" x=\"123.749\" y=\"1541.47\">0</text>\n</g>\n<g clip-path=\"url(#clip5400)\">\n<text style=\"fill:#000000; fill-opacity:1; font-family:Arial,Helvetica Neue,Helvetica,sans-serif; font-size:48px; text-anchor:middle;\" transform=\"rotate(0, 519.552, 1541.47)\" x=\"519.552\" y=\"1541.47\">1</text>\n</g>\n<g clip-path=\"url(#clip5400)\">\n<text style=\"fill:#000000; fill-opacity:1; font-family:Arial,Helvetica Neue,Helvetica,sans-serif; font-size:48px; text-anchor:middle;\" transform=\"rotate(0, 915.354, 1541.47)\" x=\"915.354\" y=\"1541.47\">2</text>\n</g>\n<g clip-path=\"url(#clip5400)\">\n<text style=\"fill:#000000; fill-opacity:1; font-family:Arial,Helvetica Neue,Helvetica,sans-serif; font-size:48px; text-anchor:middle;\" transform=\"rotate(0, 1311.16, 1541.47)\" x=\"1311.16\" y=\"1541.47\">3</text>\n</g>\n<g clip-path=\"url(#clip5400)\">\n<text style=\"fill:#000000; fill-opacity:1; font-family:Arial,Helvetica Neue,Helvetica,sans-serif; font-size:48px; text-anchor:middle;\" transform=\"rotate(0, 1706.96, 1541.47)\" x=\"1706.96\" y=\"1541.47\">4</text>\n</g>\n<g clip-path=\"url(#clip5400)\">\n<text style=\"fill:#000000; fill-opacity:1; font-family:Arial,Helvetica Neue,Helvetica,sans-serif; font-size:48px; text-anchor:middle;\" transform=\"rotate(0, 2102.76, 1541.47)\" x=\"2102.76\" y=\"1541.47\">5</text>\n</g>\n<g clip-path=\"url(#clip5400)\">\n<text style=\"fill:#000000; fill-opacity:1; font-family:Arial,Helvetica Neue,Helvetica,sans-serif; font-size:48px; text-anchor:end;\" transform=\"rotate(0, 89.7545, 1497.77)\" x=\"89.7545\" y=\"1497.77\">0</text>\n</g>\n<g clip-path=\"url(#clip5400)\">\n<text style=\"fill:#000000; fill-opacity:1; font-family:Arial,Helvetica Neue,Helvetica,sans-serif; font-size:48px; text-anchor:end;\" transform=\"rotate(0, 89.7545, 1141.32)\" x=\"89.7545\" y=\"1141.32\">1</text>\n</g>\n<g clip-path=\"url(#clip5400)\">\n<text style=\"fill:#000000; fill-opacity:1; font-family:Arial,Helvetica Neue,Helvetica,sans-serif; font-size:48px; text-anchor:end;\" transform=\"rotate(0, 89.7545, 784.859)\" x=\"89.7545\" y=\"784.859\">2</text>\n</g>\n<g clip-path=\"url(#clip5400)\">\n<text style=\"fill:#000000; fill-opacity:1; font-family:Arial,Helvetica Neue,Helvetica,sans-serif; font-size:48px; text-anchor:end;\" transform=\"rotate(0, 89.7545, 428.402)\" x=\"89.7545\" y=\"428.402\">3</text>\n</g>\n<g clip-path=\"url(#clip5400)\">\n<text style=\"fill:#000000; fill-opacity:1; font-family:Arial,Helvetica Neue,Helvetica,sans-serif; font-size:48px; text-anchor:end;\" transform=\"rotate(0, 89.7545, 71.9452)\" x=\"89.7545\" y=\"71.9452\">4</text>\n</g>\n<g clip-path=\"url(#clip5402)\">\n<image width=\"1999\" height=\"1440\" xlink:href=\"data:image/png;base64,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\nRK5CYII=\n\" transform=\"translate(114, 47)\"/>\n</g>\n<defs>\n  <clipPath id=\"clip5403\">\n    <rect x=\"2160\" y=\"47\" width=\"73\" height=\"1441\"/>\n  </clipPath>\n</defs>\n<g clip-path=\"url(#clip5403)\">\n<image width=\"72\" height=\"1440\" xlink:href=\"data:image/png;base64,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\nsKAgUBAoCBQECl77BAsKAgWBgkDhH8AJjOEi8oOfAAAAAElFTkSuQmCC\n\" transform=\"translate(2161, 47)\"/>\n</g>\n<g clip-path=\"url(#clip5400)\">\n<text style=\"fill:#000000; fill-opacity:1; font-family:Arial,Helvetica Neue,Helvetica,sans-serif; font-size:48px; text-anchor:start;\" transform=\"rotate(0, 2268.76, 1501.13)\" x=\"2268.76\" y=\"1501.13\">0</text>\n</g>\n<g clip-path=\"url(#clip5400)\">\n<text style=\"fill:#000000; fill-opacity:1; font-family:Arial,Helvetica Neue,Helvetica,sans-serif; font-size:48px; text-anchor:start;\" transform=\"rotate(0, 2268.76, 1261.09)\" x=\"2268.76\" y=\"1261.09\">25</text>\n</g>\n<g clip-path=\"url(#clip5400)\">\n<text style=\"fill:#000000; fill-opacity:1; font-family:Arial,Helvetica Neue,Helvetica,sans-serif; font-size:48px; text-anchor:start;\" transform=\"rotate(0, 2268.76, 1021.05)\" x=\"2268.76\" y=\"1021.05\">50</text>\n</g>\n<g clip-path=\"url(#clip5400)\">\n<text style=\"fill:#000000; fill-opacity:1; font-family:Arial,Helvetica Neue,Helvetica,sans-serif; font-size:48px; text-anchor:start;\" transform=\"rotate(0, 2268.76, 781.011)\" x=\"2268.76\" y=\"781.011\">75</text>\n</g>\n<g clip-path=\"url(#clip5400)\">\n<text style=\"fill:#000000; fill-opacity:1; font-family:Arial,Helvetica Neue,Helvetica,sans-serif; font-size:48px; text-anchor:start;\" transform=\"rotate(0, 2268.76, 540.972)\" x=\"2268.76\" y=\"540.972\">100</text>\n</g>\n<g clip-path=\"url(#clip5400)\">\n<text style=\"fill:#000000; fill-opacity:1; font-family:Arial,Helvetica Neue,Helvetica,sans-serif; font-size:48px; text-anchor:start;\" transform=\"rotate(0, 2268.76, 300.934)\" x=\"2268.76\" y=\"300.934\">125</text>\n</g>\n<g clip-path=\"url(#clip5400)\">\n<text style=\"fill:#000000; fill-opacity:1; font-family:Arial,Helvetica Neue,Helvetica,sans-serif; font-size:48px; text-anchor:start;\" transform=\"rotate(0, 2268.76, 60.8953)\" x=\"2268.76\" y=\"60.8953\">150</text>\n</g>\n<polyline clip-path=\"url(#clip5400)\" style=\"stroke:#000000; stroke-width:4; stroke-opacity:1; fill:none\" points=\"\n  2232.76,1487.47 2232.76,1487.47 2256.76,1487.47 2232.76,1487.47 2232.76,1247.44 2256.76,1247.44 2232.76,1247.44 2232.76,1007.4 2256.76,1007.4 2232.76,1007.4 \n  2232.76,767.359 2256.76,767.359 2232.76,767.359 2232.76,527.321 2256.76,527.321 2232.76,527.321 2232.76,287.283 2256.76,287.283 2232.76,287.283 2232.76,47.2441 \n  2256.76,47.2441 2232.76,47.2441 \n  \"/>\n</svg>\n"
               },
               "type": "node"
              }
             ],
             "instanceArgs": {
              "namespace": "html",
              "tag": "div"
             },
             "nodeType": "DOM",
             "props": {
              "className": "interact-flex-row interact-widget"
             },
             "type": "node"
            }
           }
          },
          "systemjs_options": null
         },
         "nodeType": "Scope",
         "props": {},
         "type": "node"
        }
       ],
       "instanceArgs": {
        "namespace": "html",
        "tag": "div"
       },
       "nodeType": "DOM",
       "props": {},
       "type": "node"
      },
      "text/html": [
       "<div\n",
       "    class=\"webio-mountpoint\"\n",
       "    data-webio-mountpoint=\"7107230226588219598\"\n",
       ">\n",
       "    <script>\n",
       "    if (window.require && require.defined && require.defined(\"nbextensions/webio-jupyter-notebook\")) {\n",
       "        console.log(\"Jupyter WebIO extension detected, not mounting.\");\n",
       "    } else if (window.WebIO) {\n",
       "        WebIO.mount(\n",
       "            document.querySelector('[data-webio-mountpoint=\"7107230226588219598\"]'),\n",
       "            {\"props\":{},\"nodeType\":\"DOM\",\"type\":\"node\",\"instanceArgs\":{\"namespace\":\"html\",\"tag\":\"div\"},\"children\":[{\"props\":{\"className\":\"field interact-widget\"},\"nodeType\":\"DOM\",\"type\":\"node\",\"instanceArgs\":{\"namespace\":\"html\",\"tag\":\"div\"},\"children\":[{\"props\":{},\"nodeType\":\"Scope\",\"type\":\"node\",\"instanceArgs\":{\"imports\":{\"data\":[{\"name\":\"knockout\",\"type\":\"js\",\"url\":\"\\/assetserver\\/400851c8b8cf7fc10948b385af7e3ef99cb76dbc-knockout.js\"},{\"name\":\"knockout_punches\",\"type\":\"js\",\"url\":\"\\/assetserver\\/318f1c0cec30819eed901ca48cd0d6e3c354c074-knockout_punches.js\"},{\"name\":null,\"type\":\"js\",\"url\":\"\\/assetserver\\/3ede64c070d9473f4fbd4bd89ae110585a997999-all.js\"},{\"name\":null,\"type\":\"css\",\"url\":\"\\/assetserver\\/7adb4c99d077b34000e3990dbe3711ac0c7e6395-style.css\"},{\"name\":null,\"type\":\"css\",\"url\":\"\\/assetserver\\/ea4a1c5a9bdd100ceaaac765ebb6256ddc8b7c71-bulma_confined.min.css\"}],\"type\":\"async_block\"},\"id\":\"8191578213627217283\",\"handlers\":{\"changes\":[\"(function (val){return (val!=this.model[\\\"changes\\\"]()) ? (this.valueFromJulia[\\\"changes\\\"]=true, this.model[\\\"changes\\\"](val)) : undefined})\"],\"index\":[\"(function (val){return (val!=this.model[\\\"index\\\"]()) ? (this.valueFromJulia[\\\"index\\\"]=true, this.model[\\\"index\\\"](val)) : undefined})\"]},\"systemjs_options\":null,\"mount_callbacks\":[\"function () {\\n    var handler = (function (ko, koPunches) {\\n    ko.punches.enableAll();\\n    ko.bindingHandlers.numericValue = {\\n        init: function(element, valueAccessor, allBindings, data, context) {\\n            var stringified = ko.observable(ko.unwrap(valueAccessor()));\\n            stringified.subscribe(function(value) {\\n                var val = parseFloat(value);\\n                if (!isNaN(val)) {\\n                    valueAccessor()(val);\\n                }\\n            });\\n            valueAccessor().subscribe(function(value) {\\n                var str = JSON.stringify(value);\\n                if ((str == \\\"0\\\") && ([\\\"-0\\\", \\\"-0.\\\"].indexOf(stringified()) >= 0))\\n                     return;\\n                 if ([\\\"null\\\", \\\"\\\"].indexOf(str) >= 0)\\n                     return;\\n                stringified(str);\\n            });\\n            ko.applyBindingsToNode(\\n                element,\\n                {\\n                    value: stringified,\\n                    valueUpdate: allBindings.get('valueUpdate'),\\n                },\\n                context,\\n            );\\n        }\\n    };\\n    var json_data = {\\\"formatted_vals\\\":[\\\"50.0\\\",\\\"51.0\\\",\\\"52.0\\\",\\\"53.0\\\",\\\"54.0\\\",\\\"55.0\\\",\\\"56.0\\\",\\\"57.0\\\",\\\"58.0\\\",\\\"59.0\\\",\\\"60.0\\\",\\\"61.0\\\",\\\"62.0\\\",\\\"63.0\\\",\\\"64.0\\\",\\\"65.0\\\",\\\"66.0\\\",\\\"67.0\\\",\\\"68.0\\\",\\\"69.0\\\",\\\"70.0\\\",\\\"71.0\\\",\\\"72.0\\\",\\\"73.0\\\",\\\"74.0\\\",\\\"75.0\\\",\\\"76.0\\\",\\\"77.0\\\",\\\"78.0\\\",\\\"79.0\\\",\\\"80.0\\\",\\\"81.0\\\",\\\"82.0\\\",\\\"83.0\\\",\\\"84.0\\\",\\\"85.0\\\",\\\"86.0\\\",\\\"87.0\\\",\\\"88.0\\\",\\\"89.0\\\",\\\"90.0\\\",\\\"91.0\\\",\\\"92.0\\\",\\\"93.0\\\",\\\"94.0\\\",\\\"95.0\\\",\\\"96.0\\\",\\\"97.0\\\",\\\"98.0\\\",\\\"99.0\\\",\\\"100.0\\\",\\\"101.0\\\",\\\"102.0\\\",\\\"103.0\\\",\\\"104.0\\\",\\\"105.0\\\",\\\"106.0\\\",\\\"107.0\\\",\\\"108.0\\\",\\\"109.0\\\",\\\"110.0\\\",\\\"111.0\\\",\\\"112.0\\\",\\\"113.0\\\",\\\"114.0\\\",\\\"115.0\\\",\\\"116.0\\\",\\\"117.0\\\",\\\"118.0\\\",\\\"119.0\\\",\\\"120.0\\\",\\\"121.0\\\",\\\"122.0\\\",\\\"123.0\\\",\\\"124.0\\\",\\\"125.0\\\",\\\"126.0\\\",\\\"127.0\\\",\\\"128.0\\\",\\\"129.0\\\",\\\"130.0\\\",\\\"131.0\\\",\\\"132.0\\\",\\\"133.0\\\",\\\"134.0\\\",\\\"135.0\\\",\\\"136.0\\\",\\\"137.0\\\",\\\"138.0\\\",\\\"139.0\\\",\\\"140.0\\\",\\\"141.0\\\",\\\"142.0\\\",\\\"143.0\\\",\\\"144.0\\\",\\\"145.0\\\",\\\"146.0\\\",\\\"147.0\\\",\\\"148.0\\\",\\\"149.0\\\",\\\"150.0\\\",\\\"151.0\\\",\\\"152.0\\\",\\\"153.0\\\",\\\"154.0\\\",\\\"155.0\\\",\\\"156.0\\\",\\\"157.0\\\",\\\"158.0\\\",\\\"159.0\\\",\\\"160.0\\\",\\\"161.0\\\",\\\"162.0\\\",\\\"163.0\\\",\\\"164.0\\\",\\\"165.0\\\",\\\"166.0\\\",\\\"167.0\\\",\\\"168.0\\\",\\\"169.0\\\",\\\"170.0\\\",\\\"171.0\\\",\\\"172.0\\\",\\\"173.0\\\",\\\"174.0\\\",\\\"175.0\\\",\\\"176.0\\\",\\\"177.0\\\",\\\"178.0\\\",\\\"179.0\\\",\\\"180.0\\\",\\\"181.0\\\",\\\"182.0\\\",\\\"183.0\\\",\\\"184.0\\\",\\\"185.0\\\",\\\"186.0\\\",\\\"187.0\\\",\\\"188.0\\\",\\\"189.0\\\",\\\"190.0\\\",\\\"191.0\\\",\\\"192.0\\\",\\\"193.0\\\",\\\"194.0\\\",\\\"195.0\\\",\\\"196.0\\\",\\\"197.0\\\",\\\"198.0\\\",\\\"199.0\\\",\\\"200.0\\\",\\\"201.0\\\",\\\"202.0\\\",\\\"203.0\\\",\\\"204.0\\\",\\\"205.0\\\",\\\"206.0\\\",\\\"207.0\\\",\\\"208.0\\\",\\\"209.0\\\",\\\"210.0\\\",\\\"211.0\\\",\\\"212.0\\\",\\\"213.0\\\",\\\"214.0\\\",\\\"215.0\\\",\\\"216.0\\\",\\\"217.0\\\",\\\"218.0\\\",\\\"219.0\\\",\\\"220.0\\\",\\\"221.0\\\",\\\"222.0\\\",\\\"223.0\\\",\\\"224.0\\\",\\\"225.0\\\",\\\"226.0\\\",\\\"227.0\\\",\\\"228.0\\\",\\\"229.0\\\",\\\"230.0\\\",\\\"231.0\\\",\\\"232.0\\\",\\\"233.0\\\",\\\"234.0\\\",\\\"235.0\\\",\\\"236.0\\\",\\\"237.0\\\",\\\"238.0\\\",\\\"239.0\\\",\\\"240.0\\\",\\\"241.0\\\",\\\"242.0\\\",\\\"243.0\\\",\\\"244.0\\\",\\\"245.0\\\",\\\"246.0\\\",\\\"247.0\\\",\\\"248.0\\\",\\\"249.0\\\",\\\"250.0\\\",\\\"251.0\\\",\\\"252.0\\\",\\\"253.0\\\",\\\"254.0\\\",\\\"255.0\\\",\\\"256.0\\\",\\\"257.0\\\",\\\"258.0\\\",\\\"259.0\\\",\\\"260.0\\\",\\\"261.0\\\",\\\"262.0\\\",\\\"263.0\\\",\\\"264.0\\\",\\\"265.0\\\",\\\"266.0\\\",\\\"267.0\\\",\\\"268.0\\\",\\\"269.0\\\",\\\"270.0\\\",\\\"271.0\\\",\\\"272.0\\\",\\\"273.0\\\",\\\"274.0\\\",\\\"275.0\\\",\\\"276.0\\\",\\\"277.0\\\",\\\"278.0\\\",\\\"279.0\\\",\\\"280.0\\\",\\\"281.0\\\",\\\"282.0\\\",\\\"283.0\\\",\\\"284.0\\\",\\\"285.0\\\",\\\"286.0\\\",\\\"287.0\\\",\\\"288.0\\\",\\\"289.0\\\",\\\"290.0\\\",\\\"291.0\\\",\\\"292.0\\\",\\\"293.0\\\",\\\"294.0\\\",\\\"295.0\\\",\\\"296.0\\\",\\\"297.0\\\",\\\"298.0\\\",\\\"299.0\\\",\\\"300.0\\\",\\\"301.0\\\",\\\"302.0\\\",\\\"303.0\\\",\\\"304.0\\\",\\\"305.0\\\",\\\"306.0\\\",\\\"307.0\\\",\\\"308.0\\\",\\\"309.0\\\",\\\"310.0\\\",\\\"311.0\\\",\\\"312.0\\\",\\\"313.0\\\",\\\"314.0\\\",\\\"315.0\\\",\\\"316.0\\\",\\\"317.0\\\",\\\"318.0\\\",\\\"319.0\\\",\\\"320.0\\\",\\\"321.0\\\",\\\"322.0\\\",\\\"323.0\\\",\\\"324.0\\\",\\\"325.0\\\",\\\"326.0\\\",\\\"327.0\\\",\\\"328.0\\\",\\\"329.0\\\",\\\"330.0\\\",\\\"331.0\\\",\\\"332.0\\\",\\\"333.0\\\",\\\"334.0\\\",\\\"335.0\\\",\\\"336.0\\\",\\\"337.0\\\",\\\"338.0\\\",\\\"339.0\\\",\\\"340.0\\\",\\\"341.0\\\",\\\"342.0\\\",\\\"343.0\\\",\\\"344.0\\\",\\\"345.0\\\",\\\"346.0\\\",\\\"347.0\\\",\\\"348.0\\\",\\\"349.0\\\",\\\"350.0\\\",\\\"351.0\\\",\\\"352.0\\\",\\\"353.0\\\",\\\"354.0\\\",\\\"355.0\\\",\\\"356.0\\\",\\\"357.0\\\",\\\"358.0\\\",\\\"359.0\\\",\\\"360.0\\\",\\\"361.0\\\",\\\"362.0\\\",\\\"363.0\\\",\\\"364.0\\\",\\\"365.0\\\",\\\"366.0\\\",\\\"367.0\\\",\\\"368.0\\\",\\\"369.0\\\",\\\"370.0\\\",\\\"371.0\\\",\\\"372.0\\\",\\\"373.0\\\",\\\"374.0\\\",\\\"375.0\\\",\\\"376.0\\\",\\\"377.0\\\",\\\"378.0\\\",\\\"379.0\\\",\\\"380.0\\\",\\\"381.0\\\",\\\"382.0\\\",\\\"383.0\\\",\\\"384.0\\\",\\\"385.0\\\",\\\"386.0\\\",\\\"387.0\\\",\\\"388.0\\\",\\\"389.0\\\",\\\"390.0\\\",\\\"391.0\\\",\\\"392.0\\\",\\\"393.0\\\",\\\"394.0\\\",\\\"395.0\\\",\\\"396.0\\\",\\\"397.0\\\",\\\"398.0\\\",\\\"399.0\\\",\\\"400.0\\\",\\\"401.0\\\",\\\"402.0\\\",\\\"403.0\\\",\\\"404.0\\\",\\\"405.0\\\",\\\"406.0\\\",\\\"407.0\\\",\\\"408.0\\\",\\\"409.0\\\",\\\"410.0\\\",\\\"411.0\\\",\\\"412.0\\\",\\\"413.0\\\",\\\"414.0\\\",\\\"415.0\\\",\\\"416.0\\\",\\\"417.0\\\",\\\"418.0\\\",\\\"419.0\\\",\\\"420.0\\\",\\\"421.0\\\",\\\"422.0\\\",\\\"423.0\\\",\\\"424.0\\\",\\\"425.0\\\",\\\"426.0\\\",\\\"427.0\\\",\\\"428.0\\\",\\\"429.0\\\",\\\"430.0\\\",\\\"431.0\\\",\\\"432.0\\\",\\\"433.0\\\",\\\"434.0\\\",\\\"435.0\\\",\\\"436.0\\\",\\\"437.0\\\",\\\"438.0\\\",\\\"439.0\\\",\\\"440.0\\\",\\\"441.0\\\",\\\"442.0\\\",\\\"443.0\\\",\\\"444.0\\\",\\\"445.0\\\",\\\"446.0\\\",\\\"447.0\\\",\\\"448.0\\\",\\\"449.0\\\",\\\"450.0\\\",\\\"451.0\\\",\\\"452.0\\\",\\\"453.0\\\",\\\"454.0\\\",\\\"455.0\\\",\\\"456.0\\\",\\\"457.0\\\",\\\"458.0\\\",\\\"459.0\\\",\\\"460.0\\\",\\\"461.0\\\",\\\"462.0\\\",\\\"463.0\\\",\\\"464.0\\\",\\\"465.0\\\",\\\"466.0\\\",\\\"467.0\\\",\\\"468.0\\\",\\\"469.0\\\",\\\"470.0\\\",\\\"471.0\\\",\\\"472.0\\\",\\\"473.0\\\",\\\"474.0\\\",\\\"475.0\\\",\\\"476.0\\\",\\\"477.0\\\",\\\"478.0\\\",\\\"479.0\\\",\\\"480.0\\\",\\\"481.0\\\",\\\"482.0\\\",\\\"483.0\\\",\\\"484.0\\\",\\\"485.0\\\",\\\"486.0\\\",\\\"487.0\\\",\\\"488.0\\\",\\\"489.0\\\",\\\"490.0\\\",\\\"491.0\\\",\\\"492.0\\\",\\\"493.0\\\",\\\"494.0\\\",\\\"495.0\\\",\\\"496.0\\\",\\\"497.0\\\",\\\"498.0\\\",\\\"499.0\\\",\\\"500.0\\\"],\\\"changes\\\":WebIO.getval({\\\"name\\\":\\\"changes\\\",\\\"scope\\\":\\\"8191578213627217283\\\",\\\"id\\\":\\\"ob_204\\\",\\\"type\\\":\\\"observable\\\"}),\\\"index\\\":WebIO.getval({\\\"name\\\":\\\"index\\\",\\\"scope\\\":\\\"8191578213627217283\\\",\\\"id\\\":\\\"ob_203\\\",\\\"type\\\":\\\"observable\\\"})};\\n    var self = this;\\n    function AppViewModel() {\\n        for (var key in json_data) {\\n            var el = json_data[key];\\n            this[key] = Array.isArray(el) ? ko.observableArray(el) : ko.observable(el);\\n        }\\n        \\n        [this[\\\"formatted_val\\\"]=ko.computed(    function(){\\n        return this.formatted_vals()[parseInt(this.index())-(1)];\\n    }\\n,this)]\\n        [this[\\\"changes\\\"].subscribe((function (val){!(this.valueFromJulia[\\\"changes\\\"]) ? (WebIO.setval({\\\"name\\\":\\\"changes\\\",\\\"scope\\\":\\\"8191578213627217283\\\",\\\"id\\\":\\\"ob_204\\\",\\\"type\\\":\\\"observable\\\"},val)) : undefined; return this.valueFromJulia[\\\"changes\\\"]=false}),self),this[\\\"index\\\"].subscribe((function (val){!(this.valueFromJulia[\\\"index\\\"]) ? (WebIO.setval({\\\"name\\\":\\\"index\\\",\\\"scope\\\":\\\"8191578213627217283\\\",\\\"id\\\":\\\"ob_203\\\",\\\"type\\\":\\\"observable\\\"},val)) : undefined; return this.valueFromJulia[\\\"index\\\"]=false}),self)]\\n        \\n    }\\n    self.model = new AppViewModel();\\n    self.valueFromJulia = {};\\n    for (var key in json_data) {\\n        self.valueFromJulia[key] = false;\\n    }\\n    ko.applyBindings(self.model, self.dom);\\n}\\n);\\n    (WebIO.importBlock({\\\"data\\\":[{\\\"name\\\":\\\"knockout\\\",\\\"type\\\":\\\"js\\\",\\\"url\\\":\\\"\\/assetserver\\/400851c8b8cf7fc10948b385af7e3ef99cb76dbc-knockout.js\\\"},{\\\"name\\\":\\\"knockout_punches\\\",\\\"type\\\":\\\"js\\\",\\\"url\\\":\\\"\\/assetserver\\/318f1c0cec30819eed901ca48cd0d6e3c354c074-knockout_punches.js\\\"}],\\\"type\\\":\\\"async_block\\\"})).then((imports) => handler.apply(this, imports));\\n}\\n\"],\"observables\":{\"changes\":{\"sync\":false,\"id\":\"ob_204\",\"value\":0},\"index\":{\"sync\":true,\"id\":\"ob_203\",\"value\":6}}},\"children\":[{\"props\":{\"className\":\"interact-flex-row interact-widget\"},\"nodeType\":\"DOM\",\"type\":\"node\",\"instanceArgs\":{\"namespace\":\"html\",\"tag\":\"div\"},\"children\":[{\"props\":{\"className\":\"interact-flex-row-left\"},\"nodeType\":\"DOM\",\"type\":\"node\",\"instanceArgs\":{\"namespace\":\"html\",\"tag\":\"div\"},\"children\":[{\"props\":{\"className\":\"interact \",\"style\":{\"padding\":\"5px 10px 0px 10px\"}},\"nodeType\":\"DOM\",\"type\":\"node\",\"instanceArgs\":{\"namespace\":\"html\",\"tag\":\"label\"},\"children\":[\"I\"]}]},{\"props\":{\"className\":\"interact-flex-row-center\"},\"nodeType\":\"DOM\",\"type\":\"node\",\"instanceArgs\":{\"namespace\":\"html\",\"tag\":\"div\"},\"children\":[{\"props\":{\"max\":451,\"min\":1,\"attributes\":{\"type\":\"range\",\"data-bind\":\"numericValue: index, valueUpdate: 'input', event: {change: function (){this.changes(this.changes()+1)}}\",\"orient\":\"horizontal\"},\"step\":1,\"className\":\"slider slider is-fullwidth\",\"style\":{}},\"nodeType\":\"DOM\",\"type\":\"node\",\"instanceArgs\":{\"namespace\":\"html\",\"tag\":\"input\"},\"children\":[]}]},{\"props\":{\"className\":\"interact-flex-row-right\"},\"nodeType\":\"DOM\",\"type\":\"node\",\"instanceArgs\":{\"namespace\":\"html\",\"tag\":\"div\"},\"children\":[{\"props\":{\"attributes\":{\"data-bind\":\"text: formatted_val\"}},\"nodeType\":\"DOM\",\"type\":\"node\",\"instanceArgs\":{\"namespace\":\"html\",\"tag\":\"p\"},\"children\":[]}]}]}]}]},{\"props\":{\"className\":\"field interact-widget\"},\"nodeType\":\"DOM\",\"type\":\"node\",\"instanceArgs\":{\"namespace\":\"html\",\"tag\":\"div\"},\"children\":[{\"props\":{},\"nodeType\":\"Scope\",\"type\":\"node\",\"instanceArgs\":{\"imports\":{\"data\":[{\"name\":\"knockout\",\"type\":\"js\",\"url\":\"\\/assetserver\\/400851c8b8cf7fc10948b385af7e3ef99cb76dbc-knockout.js\"},{\"name\":\"knockout_punches\",\"type\":\"js\",\"url\":\"\\/assetserver\\/318f1c0cec30819eed901ca48cd0d6e3c354c074-knockout_punches.js\"},{\"name\":null,\"type\":\"js\",\"url\":\"\\/assetserver\\/3ede64c070d9473f4fbd4bd89ae110585a997999-all.js\"},{\"name\":null,\"type\":\"css\",\"url\":\"\\/assetserver\\/7adb4c99d077b34000e3990dbe3711ac0c7e6395-style.css\"},{\"name\":null,\"type\":\"css\",\"url\":\"\\/assetserver\\/ea4a1c5a9bdd100ceaaac765ebb6256ddc8b7c71-bulma_confined.min.css\"}],\"type\":\"async_block\"},\"id\":\"11457976151711697943\",\"handlers\":{\"changes\":[\"(function (val){return (val!=this.model[\\\"changes\\\"]()) ? (this.valueFromJulia[\\\"changes\\\"]=true, this.model[\\\"changes\\\"](val)) : undefined})\"],\"index\":[\"(function (val){return (val!=this.model[\\\"index\\\"]()) ? (this.valueFromJulia[\\\"index\\\"]=true, this.model[\\\"index\\\"](val)) : undefined})\"]},\"systemjs_options\":null,\"mount_callbacks\":[\"function () {\\n    var handler = (function (ko, koPunches) {\\n    ko.punches.enableAll();\\n    ko.bindingHandlers.numericValue = {\\n        init: function(element, valueAccessor, allBindings, data, context) {\\n            var stringified = ko.observable(ko.unwrap(valueAccessor()));\\n            stringified.subscribe(function(value) {\\n                var val = parseFloat(value);\\n                if (!isNaN(val)) {\\n                    valueAccessor()(val);\\n                }\\n            });\\n            valueAccessor().subscribe(function(value) {\\n                var str = JSON.stringify(value);\\n                if ((str == \\\"0\\\") && ([\\\"-0\\\", \\\"-0.\\\"].indexOf(stringified()) >= 0))\\n                     return;\\n                 if ([\\\"null\\\", \\\"\\\"].indexOf(str) >= 0)\\n                     return;\\n                stringified(str);\\n            });\\n            ko.applyBindingsToNode(\\n                element,\\n                {\\n                    value: stringified,\\n                    valueUpdate: allBindings.get('valueUpdate'),\\n                },\\n                context,\\n            );\\n        }\\n    };\\n    var json_data = {\\\"formatted_vals\\\":[\\\"2\\\",\\\"3\\\",\\\"4\\\",\\\"5\\\",\\\"6\\\",\\\"7\\\",\\\"8\\\"],\\\"changes\\\":WebIO.getval({\\\"name\\\":\\\"changes\\\",\\\"scope\\\":\\\"11457976151711697943\\\",\\\"id\\\":\\\"ob_206\\\",\\\"type\\\":\\\"observable\\\"}),\\\"index\\\":WebIO.getval({\\\"name\\\":\\\"index\\\",\\\"scope\\\":\\\"11457976151711697943\\\",\\\"id\\\":\\\"ob_205\\\",\\\"type\\\":\\\"observable\\\"})};\\n    var self = this;\\n    function AppViewModel() {\\n        for (var key in json_data) {\\n            var el = json_data[key];\\n            this[key] = Array.isArray(el) ? ko.observableArray(el) : ko.observable(el);\\n        }\\n        \\n        [this[\\\"formatted_val\\\"]=ko.computed(    function(){\\n        return this.formatted_vals()[parseInt(this.index())-(2)];\\n    }\\n,this)]\\n        [this[\\\"changes\\\"].subscribe((function (val){!(this.valueFromJulia[\\\"changes\\\"]) ? (WebIO.setval({\\\"name\\\":\\\"changes\\\",\\\"scope\\\":\\\"11457976151711697943\\\",\\\"id\\\":\\\"ob_206\\\",\\\"type\\\":\\\"observable\\\"},val)) : undefined; return this.valueFromJulia[\\\"changes\\\"]=false}),self),this[\\\"index\\\"].subscribe((function (val){!(this.valueFromJulia[\\\"index\\\"]) ? (WebIO.setval({\\\"name\\\":\\\"index\\\",\\\"scope\\\":\\\"11457976151711697943\\\",\\\"id\\\":\\\"ob_205\\\",\\\"type\\\":\\\"observable\\\"},val)) : undefined; return this.valueFromJulia[\\\"index\\\"]=false}),self)]\\n        \\n    }\\n    self.model = new AppViewModel();\\n    self.valueFromJulia = {};\\n    for (var key in json_data) {\\n        self.valueFromJulia[key] = false;\\n    }\\n    ko.applyBindings(self.model, self.dom);\\n}\\n);\\n    (WebIO.importBlock({\\\"data\\\":[{\\\"name\\\":\\\"knockout\\\",\\\"type\\\":\\\"js\\\",\\\"url\\\":\\\"\\/assetserver\\/400851c8b8cf7fc10948b385af7e3ef99cb76dbc-knockout.js\\\"},{\\\"name\\\":\\\"knockout_punches\\\",\\\"type\\\":\\\"js\\\",\\\"url\\\":\\\"\\/assetserver\\/318f1c0cec30819eed901ca48cd0d6e3c354c074-knockout_punches.js\\\"}],\\\"type\\\":\\\"async_block\\\"})).then((imports) => handler.apply(this, imports));\\n}\\n\"],\"observables\":{\"changes\":{\"sync\":false,\"id\":\"ob_206\",\"value\":0},\"index\":{\"sync\":true,\"id\":\"ob_205\",\"value\":5}}},\"children\":[{\"props\":{\"className\":\"interact-flex-row interact-widget\"},\"nodeType\":\"DOM\",\"type\":\"node\",\"instanceArgs\":{\"namespace\":\"html\",\"tag\":\"div\"},\"children\":[{\"props\":{\"className\":\"interact-flex-row-left\"},\"nodeType\":\"DOM\",\"type\":\"node\",\"instanceArgs\":{\"namespace\":\"html\",\"tag\":\"div\"},\"children\":[{\"props\":{\"className\":\"interact \",\"style\":{\"padding\":\"5px 10px 0px 10px\"}},\"nodeType\":\"DOM\",\"type\":\"node\",\"instanceArgs\":{\"namespace\":\"html\",\"tag\":\"label\"},\"children\":[\"N\"]}]},{\"props\":{\"className\":\"interact-flex-row-center\"},\"nodeType\":\"DOM\",\"type\":\"node\",\"instanceArgs\":{\"namespace\":\"html\",\"tag\":\"div\"},\"children\":[{\"props\":{\"max\":8,\"min\":2,\"attributes\":{\"type\":\"range\",\"data-bind\":\"numericValue: index, valueUpdate: 'input', event: {change: function (){this.changes(this.changes()+1)}}\",\"orient\":\"horizontal\"},\"step\":1,\"className\":\"slider slider is-fullwidth\",\"style\":{}},\"nodeType\":\"DOM\",\"type\":\"node\",\"instanceArgs\":{\"namespace\":\"html\",\"tag\":\"input\"},\"children\":[]}]},{\"props\":{\"className\":\"interact-flex-row-right\"},\"nodeType\":\"DOM\",\"type\":\"node\",\"instanceArgs\":{\"namespace\":\"html\",\"tag\":\"div\"},\"children\":[{\"props\":{\"attributes\":{\"data-bind\":\"text: formatted_val\"}},\"nodeType\":\"DOM\",\"type\":\"node\",\"instanceArgs\":{\"namespace\":\"html\",\"tag\":\"p\"},\"children\":[]}]}]}]}]},{\"props\":{\"className\":\"field interact-widget\"},\"nodeType\":\"DOM\",\"type\":\"node\",\"instanceArgs\":{\"namespace\":\"html\",\"tag\":\"div\"},\"children\":[{\"props\":{},\"nodeType\":\"Scope\",\"type\":\"node\",\"instanceArgs\":{\"imports\":{\"data\":[{\"name\":\"knockout\",\"type\":\"js\",\"url\":\"\\/assetserver\\/400851c8b8cf7fc10948b385af7e3ef99cb76dbc-knockout.js\"},{\"name\":\"knockout_punches\",\"type\":\"js\",\"url\":\"\\/assetserver\\/318f1c0cec30819eed901ca48cd0d6e3c354c074-knockout_punches.js\"},{\"name\":null,\"type\":\"js\",\"url\":\"\\/assetserver\\/3ede64c070d9473f4fbd4bd89ae110585a997999-all.js\"},{\"name\":null,\"type\":\"css\",\"url\":\"\\/assetserver\\/7adb4c99d077b34000e3990dbe3711ac0c7e6395-style.css\"},{\"name\":null,\"type\":\"css\",\"url\":\"\\/assetserver\\/ea4a1c5a9bdd100ceaaac765ebb6256ddc8b7c71-bulma_confined.min.css\"}],\"type\":\"async_block\"},\"id\":\"9293882678758188599\",\"handlers\":{\"changes\":[\"(function (val){return (val!=this.model[\\\"changes\\\"]()) ? (this.valueFromJulia[\\\"changes\\\"]=true, this.model[\\\"changes\\\"](val)) : undefined})\"],\"index\":[\"(function (val){return (val!=this.model[\\\"index\\\"]()) ? (this.valueFromJulia[\\\"index\\\"]=true, this.model[\\\"index\\\"](val)) : undefined})\"]},\"systemjs_options\":null,\"mount_callbacks\":[\"function () {\\n    var handler = (function (ko, koPunches) {\\n    ko.punches.enableAll();\\n    ko.bindingHandlers.numericValue = {\\n        init: function(element, valueAccessor, allBindings, data, context) {\\n            var stringified = ko.observable(ko.unwrap(valueAccessor()));\\n            stringified.subscribe(function(value) {\\n                var val = parseFloat(value);\\n                if (!isNaN(val)) {\\n                    valueAccessor()(val);\\n                }\\n            });\\n            valueAccessor().subscribe(function(value) {\\n                var str = JSON.stringify(value);\\n                if ((str == \\\"0\\\") && ([\\\"-0\\\", \\\"-0.\\\"].indexOf(stringified()) >= 0))\\n                     return;\\n                 if ([\\\"null\\\", \\\"\\\"].indexOf(str) >= 0)\\n                     return;\\n                stringified(str);\\n            });\\n            ko.applyBindingsToNode(\\n                element,\\n                {\\n                    value: stringified,\\n                    valueUpdate: allBindings.get('valueUpdate'),\\n                },\\n                context,\\n            );\\n        }\\n    };\\n    var json_data = {\\\"formatted_vals\\\":[\\\"0.01\\\",\\\"0.02\\\",\\\"0.03\\\",\\\"0.04\\\",\\\"0.05\\\",\\\"0.06\\\",\\\"0.07\\\",\\\"0.08\\\",\\\"0.09\\\",\\\"0.1\\\",\\\"0.11\\\",\\\"0.12\\\",\\\"0.13\\\",\\\"0.14\\\",\\\"0.15\\\",\\\"0.16\\\",\\\"0.17\\\",\\\"0.18\\\",\\\"0.19\\\",\\\"0.2\\\",\\\"0.21\\\",\\\"0.22\\\",\\\"0.23\\\",\\\"0.24\\\",\\\"0.25\\\",\\\"0.26\\\",\\\"0.27\\\",\\\"0.28\\\",\\\"0.29\\\",\\\"0.3\\\",\\\"0.31\\\",\\\"0.32\\\",\\\"0.33\\\",\\\"0.34\\\",\\\"0.35\\\",\\\"0.36\\\",\\\"0.37\\\",\\\"0.38\\\",\\\"0.39\\\",\\\"0.4\\\",\\\"0.41\\\",\\\"0.42\\\",\\\"0.43\\\",\\\"0.44\\\",\\\"0.45\\\",\\\"0.46\\\",\\\"0.47\\\",\\\"0.48\\\",\\\"0.49\\\",\\\"0.5\\\",\\\"0.51\\\",\\\"0.52\\\",\\\"0.53\\\",\\\"0.54\\\",\\\"0.55\\\",\\\"0.56\\\",\\\"0.57\\\",\\\"0.58\\\",\\\"0.59\\\",\\\"0.6\\\",\\\"0.61\\\",\\\"0.62\\\",\\\"0.63\\\",\\\"0.64\\\",\\\"0.65\\\",\\\"0.66\\\",\\\"0.67\\\",\\\"0.68\\\",\\\"0.69\\\",\\\"0.7\\\",\\\"0.71\\\",\\\"0.72\\\",\\\"0.73\\\",\\\"0.74\\\",\\\"0.75\\\",\\\"0.76\\\",\\\"0.77\\\",\\\"0.78\\\",\\\"0.79\\\",\\\"0.8\\\",\\\"0.81\\\",\\\"0.82\\\",\\\"0.83\\\",\\\"0.84\\\",\\\"0.85\\\",\\\"0.86\\\",\\\"0.87\\\",\\\"0.88\\\",\\\"0.89\\\",\\\"0.9\\\",\\\"0.91\\\",\\\"0.92\\\",\\\"0.93\\\",\\\"0.94\\\",\\\"0.95\\\",\\\"0.96\\\",\\\"0.97\\\",\\\"0.98\\\",\\\"0.99\\\",\\\"1.0\\\",\\\"1.01\\\",\\\"1.02\\\",\\\"1.03\\\",\\\"1.04\\\",\\\"1.05\\\",\\\"1.06\\\",\\\"1.07\\\",\\\"1.08\\\",\\\"1.09\\\",\\\"1.1\\\",\\\"1.11\\\",\\\"1.12\\\",\\\"1.13\\\",\\\"1.14\\\",\\\"1.15\\\",\\\"1.16\\\",\\\"1.17\\\",\\\"1.18\\\",\\\"1.19\\\",\\\"1.2\\\",\\\"1.21\\\",\\\"1.22\\\",\\\"1.23\\\",\\\"1.24\\\",\\\"1.25\\\",\\\"1.26\\\",\\\"1.27\\\",\\\"1.28\\\",\\\"1.29\\\",\\\"1.3\\\",\\\"1.31\\\",\\\"1.32\\\",\\\"1.33\\\",\\\"1.34\\\",\\\"1.35\\\",\\\"1.36\\\",\\\"1.37\\\",\\\"1.38\\\",\\\"1.39\\\",\\\"1.4\\\",\\\"1.41\\\",\\\"1.42\\\",\\\"1.43\\\",\\\"1.44\\\",\\\"1.45\\\",\\\"1.46\\\",\\\"1.47\\\",\\\"1.48\\\",\\\"1.49\\\",\\\"1.5\\\",\\\"1.51\\\",\\\"1.52\\\",\\\"1.53\\\",\\\"1.54\\\",\\\"1.55\\\",\\\"1.56\\\",\\\"1.57\\\",\\\"1.58\\\",\\\"1.59\\\",\\\"1.6\\\",\\\"1.61\\\",\\\"1.62\\\",\\\"1.63\\\",\\\"1.64\\\",\\\"1.65\\\",\\\"1.66\\\",\\\"1.67\\\",\\\"1.68\\\",\\\"1.69\\\",\\\"1.7\\\",\\\"1.71\\\",\\\"1.72\\\",\\\"1.73\\\",\\\"1.74\\\",\\\"1.75\\\",\\\"1.76\\\",\\\"1.77\\\",\\\"1.78\\\",\\\"1.79\\\",\\\"1.8\\\",\\\"1.81\\\",\\\"1.82\\\",\\\"1.83\\\",\\\"1.84\\\",\\\"1.85\\\",\\\"1.86\\\",\\\"1.87\\\",\\\"1.88\\\",\\\"1.89\\\",\\\"1.9\\\",\\\"1.91\\\",\\\"1.92\\\",\\\"1.93\\\",\\\"1.94\\\",\\\"1.95\\\",\\\"1.96\\\",\\\"1.97\\\",\\\"1.98\\\",\\\"1.99\\\",\\\"2.0\\\"],\\\"changes\\\":WebIO.getval({\\\"name\\\":\\\"changes\\\",\\\"scope\\\":\\\"9293882678758188599\\\",\\\"id\\\":\\\"ob_209\\\",\\\"type\\\":\\\"observable\\\"}),\\\"index\\\":WebIO.getval({\\\"name\\\":\\\"index\\\",\\\"scope\\\":\\\"9293882678758188599\\\",\\\"id\\\":\\\"ob_208\\\",\\\"type\\\":\\\"observable\\\"})};\\n    var self = this;\\n    function AppViewModel() {\\n        for (var key in json_data) {\\n            var el = json_data[key];\\n            this[key] = Array.isArray(el) ? ko.observableArray(el) : ko.observable(el);\\n        }\\n        \\n        [this[\\\"formatted_val\\\"]=ko.computed(    function(){\\n        return this.formatted_vals()[parseInt(this.index())-(1)];\\n    }\\n,this)]\\n        [this[\\\"changes\\\"].subscribe((function (val){!(this.valueFromJulia[\\\"changes\\\"]) ? (WebIO.setval({\\\"name\\\":\\\"changes\\\",\\\"scope\\\":\\\"9293882678758188599\\\",\\\"id\\\":\\\"ob_209\\\",\\\"type\\\":\\\"observable\\\"},val)) : undefined; return this.valueFromJulia[\\\"changes\\\"]=false}),self),this[\\\"index\\\"].subscribe((function (val){!(this.valueFromJulia[\\\"index\\\"]) ? (WebIO.setval({\\\"name\\\":\\\"index\\\",\\\"scope\\\":\\\"9293882678758188599\\\",\\\"id\\\":\\\"ob_208\\\",\\\"type\\\":\\\"observable\\\"},val)) : undefined; return this.valueFromJulia[\\\"index\\\"]=false}),self)]\\n        \\n    }\\n    self.model = new AppViewModel();\\n    self.valueFromJulia = {};\\n    for (var key in json_data) {\\n        self.valueFromJulia[key] = false;\\n    }\\n    ko.applyBindings(self.model, self.dom);\\n}\\n);\\n    (WebIO.importBlock({\\\"data\\\":[{\\\"name\\\":\\\"knockout\\\",\\\"type\\\":\\\"js\\\",\\\"url\\\":\\\"\\/assetserver\\/400851c8b8cf7fc10948b385af7e3ef99cb76dbc-knockout.js\\\"},{\\\"name\\\":\\\"knockout_punches\\\",\\\"type\\\":\\\"js\\\",\\\"url\\\":\\\"\\/assetserver\\/318f1c0cec30819eed901ca48cd0d6e3c354c074-knockout_punches.js\\\"}],\\\"type\\\":\\\"async_block\\\"})).then((imports) => handler.apply(this, imports));\\n}\\n\"],\"observables\":{\"changes\":{\"sync\":false,\"id\":\"ob_209\",\"value\":0},\"index\":{\"sync\":true,\"id\":\"ob_208\",\"value\":100}}},\"children\":[{\"props\":{\"className\":\"interact-flex-row interact-widget\"},\"nodeType\":\"DOM\",\"type\":\"node\",\"instanceArgs\":{\"namespace\":\"html\",\"tag\":\"div\"},\"children\":[{\"props\":{\"className\":\"interact-flex-row-left\"},\"nodeType\":\"DOM\",\"type\":\"node\",\"instanceArgs\":{\"namespace\":\"html\",\"tag\":\"div\"},\"children\":[{\"props\":{\"className\":\"interact \",\"style\":{\"padding\":\"5px 10px 0px 10px\"}},\"nodeType\":\"DOM\",\"type\":\"node\",\"instanceArgs\":{\"namespace\":\"html\",\"tag\":\"label\"},\"children\":[\"R\"]}]},{\"props\":{\"className\":\"interact-flex-row-center\"},\"nodeType\":\"DOM\",\"type\":\"node\",\"instanceArgs\":{\"namespace\":\"html\",\"tag\":\"div\"},\"children\":[{\"props\":{\"max\":200,\"min\":1,\"attributes\":{\"type\":\"range\",\"data-bind\":\"numericValue: index, valueUpdate: 'input', event: {change: function (){this.changes(this.changes()+1)}}\",\"orient\":\"horizontal\"},\"step\":1,\"className\":\"slider slider is-fullwidth\",\"style\":{}},\"nodeType\":\"DOM\",\"type\":\"node\",\"instanceArgs\":{\"namespace\":\"html\",\"tag\":\"input\"},\"children\":[]}]},{\"props\":{\"className\":\"interact-flex-row-right\"},\"nodeType\":\"DOM\",\"type\":\"node\",\"instanceArgs\":{\"namespace\":\"html\",\"tag\":\"div\"},\"children\":[{\"props\":{\"attributes\":{\"data-bind\":\"text: formatted_val\"}},\"nodeType\":\"DOM\",\"type\":\"node\",\"instanceArgs\":{\"namespace\":\"html\",\"tag\":\"p\"},\"children\":[]}]}]}]}]},{\"props\":{\"className\":\"field interact-widget\"},\"nodeType\":\"DOM\",\"type\":\"node\",\"instanceArgs\":{\"namespace\":\"html\",\"tag\":\"div\"},\"children\":[{\"props\":{},\"nodeType\":\"Scope\",\"type\":\"node\",\"instanceArgs\":{\"imports\":{\"data\":[{\"name\":\"knockout\",\"type\":\"js\",\"url\":\"\\/assetserver\\/400851c8b8cf7fc10948b385af7e3ef99cb76dbc-knockout.js\"},{\"name\":\"knockout_punches\",\"type\":\"js\",\"url\":\"\\/assetserver\\/318f1c0cec30819eed901ca48cd0d6e3c354c074-knockout_punches.js\"},{\"name\":null,\"type\":\"js\",\"url\":\"\\/assetserver\\/3ede64c070d9473f4fbd4bd89ae110585a997999-all.js\"},{\"name\":null,\"type\":\"css\",\"url\":\"\\/assetserver\\/7adb4c99d077b34000e3990dbe3711ac0c7e6395-style.css\"},{\"name\":null,\"type\":\"css\",\"url\":\"\\/assetserver\\/ea4a1c5a9bdd100ceaaac765ebb6256ddc8b7c71-bulma_confined.min.css\"}],\"type\":\"async_block\"},\"id\":\"11320081085531026953\",\"handlers\":{\"changes\":[\"(function (val){return (val!=this.model[\\\"changes\\\"]()) ? (this.valueFromJulia[\\\"changes\\\"]=true, this.model[\\\"changes\\\"](val)) : undefined})\"],\"index\":[\"(function (val){return (val!=this.model[\\\"index\\\"]()) ? (this.valueFromJulia[\\\"index\\\"]=true, this.model[\\\"index\\\"](val)) : undefined})\"]},\"systemjs_options\":null,\"mount_callbacks\":[\"function () {\\n    var handler = (function (ko, koPunches) {\\n    ko.punches.enableAll();\\n    ko.bindingHandlers.numericValue = {\\n        init: function(element, valueAccessor, allBindings, data, context) {\\n            var stringified = ko.observable(ko.unwrap(valueAccessor()));\\n            stringified.subscribe(function(value) {\\n                var val = parseFloat(value);\\n                if (!isNaN(val)) {\\n                    valueAccessor()(val);\\n                }\\n            });\\n            valueAccessor().subscribe(function(value) {\\n                var str = JSON.stringify(value);\\n                if ((str == \\\"0\\\") && ([\\\"-0\\\", \\\"-0.\\\"].indexOf(stringified()) >= 0))\\n                     return;\\n                 if ([\\\"null\\\", \\\"\\\"].indexOf(str) >= 0)\\n                     return;\\n                stringified(str);\\n            });\\n            ko.applyBindingsToNode(\\n                element,\\n                {\\n                    value: stringified,\\n                    valueUpdate: allBindings.get('valueUpdate'),\\n                },\\n                context,\\n            );\\n        }\\n    };\\n    var json_data = {\\\"formatted_vals\\\":[\\\"0.1\\\",\\\"0.2\\\",\\\"0.3\\\",\\\"0.4\\\",\\\"0.5\\\",\\\"0.6\\\",\\\"0.7\\\",\\\"0.8\\\",\\\"0.9\\\",\\\"1.0\\\",\\\"1.1\\\",\\\"1.2\\\",\\\"1.3\\\",\\\"1.4\\\",\\\"1.5\\\",\\\"1.6\\\",\\\"1.7\\\",\\\"1.8\\\",\\\"1.9\\\",\\\"2.0\\\",\\\"2.1\\\",\\\"2.2\\\",\\\"2.3\\\",\\\"2.4\\\",\\\"2.5\\\",\\\"2.6\\\",\\\"2.7\\\",\\\"2.8\\\",\\\"2.9\\\",\\\"3.0\\\"],\\\"changes\\\":WebIO.getval({\\\"name\\\":\\\"changes\\\",\\\"scope\\\":\\\"11320081085531026953\\\",\\\"id\\\":\\\"ob_212\\\",\\\"type\\\":\\\"observable\\\"}),\\\"index\\\":WebIO.getval({\\\"name\\\":\\\"index\\\",\\\"scope\\\":\\\"11320081085531026953\\\",\\\"id\\\":\\\"ob_211\\\",\\\"type\\\":\\\"observable\\\"})};\\n    var self = this;\\n    function AppViewModel() {\\n        for (var key in json_data) {\\n            var el = json_data[key];\\n            this[key] = Array.isArray(el) ? ko.observableArray(el) : ko.observable(el);\\n        }\\n        \\n        [this[\\\"formatted_val\\\"]=ko.computed(    function(){\\n        return this.formatted_vals()[parseInt(this.index())-(1)];\\n    }\\n,this)]\\n        [this[\\\"changes\\\"].subscribe((function (val){!(this.valueFromJulia[\\\"changes\\\"]) ? (WebIO.setval({\\\"name\\\":\\\"changes\\\",\\\"scope\\\":\\\"11320081085531026953\\\",\\\"id\\\":\\\"ob_212\\\",\\\"type\\\":\\\"observable\\\"},val)) : undefined; return this.valueFromJulia[\\\"changes\\\"]=false}),self),this[\\\"index\\\"].subscribe((function (val){!(this.valueFromJulia[\\\"index\\\"]) ? (WebIO.setval({\\\"name\\\":\\\"index\\\",\\\"scope\\\":\\\"11320081085531026953\\\",\\\"id\\\":\\\"ob_211\\\",\\\"type\\\":\\\"observable\\\"},val)) : undefined; return this.valueFromJulia[\\\"index\\\"]=false}),self)]\\n        \\n    }\\n    self.model = new AppViewModel();\\n    self.valueFromJulia = {};\\n    for (var key in json_data) {\\n        self.valueFromJulia[key] = false;\\n    }\\n    ko.applyBindings(self.model, self.dom);\\n}\\n);\\n    (WebIO.importBlock({\\\"data\\\":[{\\\"name\\\":\\\"knockout\\\",\\\"type\\\":\\\"js\\\",\\\"url\\\":\\\"\\/assetserver\\/400851c8b8cf7fc10948b385af7e3ef99cb76dbc-knockout.js\\\"},{\\\"name\\\":\\\"knockout_punches\\\",\\\"type\\\":\\\"js\\\",\\\"url\\\":\\\"\\/assetserver\\/318f1c0cec30819eed901ca48cd0d6e3c354c074-knockout_punches.js\\\"}],\\\"type\\\":\\\"async_block\\\"})).then((imports) => handler.apply(this, imports));\\n}\\n\"],\"observables\":{\"changes\":{\"sync\":false,\"id\":\"ob_212\",\"value\":0},\"index\":{\"sync\":true,\"id\":\"ob_211\",\"value\":9}}},\"children\":[{\"props\":{\"className\":\"interact-flex-row interact-widget\"},\"nodeType\":\"DOM\",\"type\":\"node\",\"instanceArgs\":{\"namespace\":\"html\",\"tag\":\"div\"},\"children\":[{\"props\":{\"className\":\"interact-flex-row-left\"},\"nodeType\":\"DOM\",\"type\":\"node\",\"instanceArgs\":{\"namespace\":\"html\",\"tag\":\"div\"},\"children\":[{\"props\":{\"className\":\"interact \",\"style\":{\"padding\":\"5px 10px 0px 10px\"}},\"nodeType\":\"DOM\",\"type\":\"node\",\"instanceArgs\":{\"namespace\":\"html\",\"tag\":\"label\"},\"children\":[\"h\"]}]},{\"props\":{\"className\":\"interact-flex-row-center\"},\"nodeType\":\"DOM\",\"type\":\"node\",\"instanceArgs\":{\"namespace\":\"html\",\"tag\":\"div\"},\"children\":[{\"props\":{\"max\":30,\"min\":1,\"attributes\":{\"type\":\"range\",\"data-bind\":\"numericValue: index, valueUpdate: 'input', event: {change: function (){this.changes(this.changes()+1)}}\",\"orient\":\"horizontal\"},\"step\":1,\"className\":\"slider slider is-fullwidth\",\"style\":{}},\"nodeType\":\"DOM\",\"type\":\"node\",\"instanceArgs\":{\"namespace\":\"html\",\"tag\":\"input\"},\"children\":[]}]},{\"props\":{\"className\":\"interact-flex-row-right\"},\"nodeType\":\"DOM\",\"type\":\"node\",\"instanceArgs\":{\"namespace\":\"html\",\"tag\":\"div\"},\"children\":[{\"props\":{\"attributes\":{\"data-bind\":\"text: formatted_val\"}},\"nodeType\":\"DOM\",\"type\":\"node\",\"instanceArgs\":{\"namespace\":\"html\",\"tag\":\"p\"},\"children\":[]}]}]}]}]},{\"props\":{},\"nodeType\":\"Scope\",\"type\":\"node\",\"instanceArgs\":{\"imports\":{\"data\":[],\"type\":\"async_block\"},\"id\":\"15050157755234612164\",\"handlers\":{},\"systemjs_options\":null,\"mount_callbacks\":[],\"observables\":{\"obs-node\":{\"sync\":false,\"id\":\"ob_216\",\"value\":{\"props\":{\"className\":\"interact-flex-row interact-widget\"},\"nodeType\":\"DOM\",\"type\":\"node\",\"instanceArgs\":{\"namespace\":\"html\",\"tag\":\"div\"},\"children\":[{\"props\":{\"setInnerHtml\":\"<?xml version=\\\"1.0\\\" encoding=\\\"utf-8\\\"?>\\n<svg xmlns=\\\"http:\\/\\/www.w3.org\\/2000\\/svg\\\" xmlns:xlink=\\\"http:\\/\\/www.w3.org\\/1999\\/xlink\\\" width=\\\"600\\\" height=\\\"400\\\" viewBox=\\\"0 0 2400 1600\\\">\\n<defs>\\n  <clipPath id=\\\"clip5000\\\">\\n    <rect x=\\\"0\\\" y=\\\"0\\\" width=\\\"2400\\\" height=\\\"1600\\\"\\/>\\n  <\\/clipPath>\\n<\\/defs>\\n<path clip-path=\\\"url(#clip5000)\\\" d=\\\"\\nM0 1600 L2400 1600 L2400 0 L0 0  Z\\n  \\\" fill=\\\"#ffffff\\\" fill-rule=\\\"evenodd\\\" fill-opacity=\\\"1\\\"\\/>\\n<defs>\\n  <clipPath id=\\\"clip5001\\\">\\n    <rect x=\\\"480\\\" y=\\\"0\\\" width=\\\"1681\\\" height=\\\"1600\\\"\\/>\\n  <\\/clipPath>\\n<\\/defs>\\n<path clip-path=\\\"url(#clip5000)\\\" d=\\\"\\nM113.754 1487.47 L2112.76 1487.47 L2112.76 47.2441 L113.754 47.2441  Z\\n  \\\" fill=\\\"#ffffff\\\" fill-rule=\\\"evenodd\\\" fill-opacity=\\\"1\\\"\\/>\\n<defs>\\n  <clipPath id=\\\"clip5002\\\">\\n    <rect x=\\\"113\\\" y=\\\"47\\\" width=\\\"2000\\\" height=\\\"1441\\\"\\/>\\n  <\\/clipPath>\\n<\\/defs>\\n<polyline clip-path=\\\"url(#clip5002)\\\" style=\\\"stroke:#000000; stroke-width:2; stroke-opacity:0.1; fill:none\\\" points=\\\"\\n  123.749,1487.47 123.749,47.2441 \\n  \\\"\\/>\\n<polyline clip-path=\\\"url(#clip5002)\\\" style=\\\"stroke:#000000; stroke-width:2; stroke-opacity:0.1; fill:none\\\" points=\\\"\\n  519.552,1487.47 519.552,47.2441 \\n  \\\"\\/>\\n<polyline clip-path=\\\"url(#clip5002)\\\" style=\\\"stroke:#000000; stroke-width:2; stroke-opacity:0.1; fill:none\\\" points=\\\"\\n  915.354,1487.47 915.354,47.2441 \\n  \\\"\\/>\\n<polyline clip-path=\\\"url(#clip5002)\\\" style=\\\"stroke:#000000; stroke-width:2; stroke-opacity:0.1; fill:none\\\" points=\\\"\\n  1311.16,1487.47 1311.16,47.2441 \\n  \\\"\\/>\\n<polyline clip-path=\\\"url(#clip5002)\\\" style=\\\"stroke:#000000; stroke-width:2; stroke-opacity:0.1; fill:none\\\" points=\\\"\\n  1706.96,1487.47 1706.96,47.2441 \\n  \\\"\\/>\\n<polyline clip-path=\\\"url(#clip5002)\\\" style=\\\"stroke:#000000; stroke-width:2; stroke-opacity:0.1; fill:none\\\" points=\\\"\\n  2102.76,1487.47 2102.76,47.2441 \\n  \\\"\\/>\\n<polyline clip-path=\\\"url(#clip5002)\\\" style=\\\"stroke:#000000; stroke-width:2; stroke-opacity:0.1; fill:none\\\" points=\\\"\\n  113.754,1480.27 2112.76,1480.27 \\n  \\\"\\/>\\n<polyline clip-path=\\\"url(#clip5002)\\\" style=\\\"stroke:#000000; stroke-width:2; stroke-opacity:0.1; fill:none\\\" points=\\\"\\n  113.754,1123.82 2112.76,1123.82 \\n  \\\"\\/>\\n<polyline clip-path=\\\"url(#clip5002)\\\" style=\\\"stroke:#000000; stroke-width:2; stroke-opacity:0.1; fill:none\\\" points=\\\"\\n  113.754,767.359 2112.76,767.359 \\n  \\\"\\/>\\n<polyline clip-path=\\\"url(#clip5002)\\\" style=\\\"stroke:#000000; stroke-width:2; stroke-opacity:0.1; fill:none\\\" points=\\\"\\n  113.754,410.902 2112.76,410.902 \\n  \\\"\\/>\\n<polyline clip-path=\\\"url(#clip5002)\\\" style=\\\"stroke:#000000; stroke-width:2; stroke-opacity:0.1; fill:none\\\" points=\\\"\\n  113.754,54.4452 2112.76,54.4452 \\n  \\\"\\/>\\n<polyline clip-path=\\\"url(#clip5000)\\\" style=\\\"stroke:#000000; stroke-width:4; stroke-opacity:1; fill:none\\\" points=\\\"\\n  113.754,1487.47 2112.76,1487.47 \\n  \\\"\\/>\\n<polyline clip-path=\\\"url(#clip5000)\\\" style=\\\"stroke:#000000; stroke-width:4; stroke-opacity:1; fill:none\\\" points=\\\"\\n  113.754,1487.47 113.754,47.2441 \\n  \\\"\\/>\\n<polyline clip-path=\\\"url(#clip5000)\\\" style=\\\"stroke:#000000; stroke-width:4; stroke-opacity:1; fill:none\\\" points=\\\"\\n  123.749,1487.47 123.749,1470.19 \\n  \\\"\\/>\\n<polyline clip-path=\\\"url(#clip5000)\\\" style=\\\"stroke:#000000; stroke-width:4; stroke-opacity:1; fill:none\\\" points=\\\"\\n  519.552,1487.47 519.552,1470.19 \\n  \\\"\\/>\\n<polyline clip-path=\\\"url(#clip5000)\\\" style=\\\"stroke:#000000; stroke-width:4; stroke-opacity:1; fill:none\\\" points=\\\"\\n  915.354,1487.47 915.354,1470.19 \\n  \\\"\\/>\\n<polyline clip-path=\\\"url(#clip5000)\\\" style=\\\"stroke:#000000; stroke-width:4; stroke-opacity:1; fill:none\\\" points=\\\"\\n  1311.16,1487.47 1311.16,1470.19 \\n  \\\"\\/>\\n<polyline clip-path=\\\"url(#clip5000)\\\" style=\\\"stroke:#000000; stroke-width:4; stroke-opacity:1; fill:none\\\" points=\\\"\\n  1706.96,1487.47 1706.96,1470.19 \\n  \\\"\\/>\\n<polyline clip-path=\\\"url(#clip5000)\\\" style=\\\"stroke:#000000; stroke-width:4; stroke-opacity:1; fill:none\\\" points=\\\"\\n  2102.76,1487.47 2102.76,1470.19 \\n  \\\"\\/>\\n<polyline clip-path=\\\"url(#clip5000)\\\" style=\\\"stroke:#000000; stroke-width:4; stroke-opacity:1; fill:none\\\" points=\\\"\\n  113.754,1480.27 137.742,1480.27 \\n  \\\"\\/>\\n<polyline clip-path=\\\"url(#clip5000)\\\" style=\\\"stroke:#000000; stroke-width:4; stroke-opacity:1; fill:none\\\" points=\\\"\\n  113.754,1123.82 137.742,1123.82 \\n  \\\"\\/>\\n<polyline clip-path=\\\"url(#clip5000)\\\" style=\\\"stroke:#000000; stroke-width:4; stroke-opacity:1; fill:none\\\" points=\\\"\\n  113.754,767.359 137.742,767.359 \\n  \\\"\\/>\\n<polyline clip-path=\\\"url(#clip5000)\\\" style=\\\"stroke:#000000; stroke-width:4; stroke-opacity:1; fill:none\\\" points=\\\"\\n  113.754,410.902 137.742,410.902 \\n  \\\"\\/>\\n<polyline clip-path=\\\"url(#clip5000)\\\" style=\\\"stroke:#000000; stroke-width:4; stroke-opacity:1; fill:none\\\" points=\\\"\\n  113.754,54.4452 137.742,54.4452 \\n  \\\"\\/>\\n<g clip-path=\\\"url(#clip5000)\\\">\\n<text style=\\\"fill:#000000; fill-opacity:1; font-family:Arial,Helvetica Neue,Helvetica,sans-serif; font-size:48px; text-anchor:middle;\\\" transform=\\\"rotate(0, 123.749, 1541.47)\\\" x=\\\"123.749\\\" y=\\\"1541.47\\\">0<\\/text>\\n<\\/g>\\n<g clip-path=\\\"url(#clip5000)\\\">\\n<text style=\\\"fill:#000000; fill-opacity:1; font-family:Arial,Helvetica Neue,Helvetica,sans-serif; font-size:48px; text-anchor:middle;\\\" transform=\\\"rotate(0, 519.552, 1541.47)\\\" x=\\\"519.552\\\" y=\\\"1541.47\\\">1<\\/text>\\n<\\/g>\\n<g clip-path=\\\"url(#clip5000)\\\">\\n<text style=\\\"fill:#000000; fill-opacity:1; font-family:Arial,Helvetica Neue,Helvetica,sans-serif; font-size:48px; text-anchor:middle;\\\" transform=\\\"rotate(0, 915.354, 1541.47)\\\" x=\\\"915.354\\\" y=\\\"1541.47\\\">2<\\/text>\\n<\\/g>\\n<g clip-path=\\\"url(#clip5000)\\\">\\n<text style=\\\"fill:#000000; fill-opacity:1; font-family:Arial,Helvetica Neue,Helvetica,sans-serif; font-size:48px; text-anchor:middle;\\\" transform=\\\"rotate(0, 1311.16, 1541.47)\\\" x=\\\"1311.16\\\" y=\\\"1541.47\\\">3<\\/text>\\n<\\/g>\\n<g clip-path=\\\"url(#clip5000)\\\">\\n<text style=\\\"fill:#000000; fill-opacity:1; font-family:Arial,Helvetica Neue,Helvetica,sans-serif; font-size:48px; text-anchor:middle;\\\" transform=\\\"rotate(0, 1706.96, 1541.47)\\\" x=\\\"1706.96\\\" y=\\\"1541.47\\\">4<\\/text>\\n<\\/g>\\n<g clip-path=\\\"url(#clip5000)\\\">\\n<text style=\\\"fill:#000000; fill-opacity:1; font-family:Arial,Helvetica Neue,Helvetica,sans-serif; font-size:48px; text-anchor:middle;\\\" transform=\\\"rotate(0, 2102.76, 1541.47)\\\" x=\\\"2102.76\\\" y=\\\"1541.47\\\">5<\\/text>\\n<\\/g>\\n<g clip-path=\\\"url(#clip5000)\\\">\\n<text style=\\\"fill:#000000; fill-opacity:1; font-family:Arial,Helvetica Neue,Helvetica,sans-serif; font-size:48px; text-anchor:end;\\\" transform=\\\"rotate(0, 89.7545, 1497.77)\\\" x=\\\"89.7545\\\" y=\\\"1497.77\\\">0<\\/text>\\n<\\/g>\\n<g clip-path=\\\"url(#clip5000)\\\">\\n<text style=\\\"fill:#000000; fill-opacity:1; font-family:Arial,Helvetica Neue,Helvetica,sans-serif; font-size:48px; text-anchor:end;\\\" transform=\\\"rotate(0, 89.7545, 1141.32)\\\" x=\\\"89.7545\\\" y=\\\"1141.32\\\">1<\\/text>\\n<\\/g>\\n<g clip-path=\\\"url(#clip5000)\\\">\\n<text style=\\\"fill:#000000; fill-opacity:1; font-family:Arial,Helvetica Neue,Helvetica,sans-serif; font-size:48px; text-anchor:end;\\\" transform=\\\"rotate(0, 89.7545, 784.859)\\\" x=\\\"89.7545\\\" y=\\\"784.859\\\">2<\\/text>\\n<\\/g>\\n<g clip-path=\\\"url(#clip5000)\\\">\\n<text style=\\\"fill:#000000; fill-opacity:1; font-family:Arial,Helvetica Neue,Helvetica,sans-serif; font-size:48px; text-anchor:end;\\\" transform=\\\"rotate(0, 89.7545, 428.402)\\\" x=\\\"89.7545\\\" y=\\\"428.402\\\">3<\\/text>\\n<\\/g>\\n<g clip-path=\\\"url(#clip5000)\\\">\\n<text style=\\\"fill:#000000; fill-opacity:1; font-family:Arial,Helvetica Neue,Helvetica,sans-serif; font-size:48px; text-anchor:end;\\\" transform=\\\"rotate(0, 89.7545, 71.9452)\\\" x=\\\"89.7545\\\" y=\\\"71.9452\\\">4<\\/text>\\n<\\/g>\\n<g clip-path=\\\"url(#clip5002)\\\">\\n<image width=\\\"1999\\\" height=\\\"1440\\\" xlink:href=\\\"data:image\\/png;base64,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\\nRK5CYII=\\n\\\" transform=\\\"translate(114, 47)\\\"\\/>\\n<\\/g>\\n<defs>\\n  <clipPath id=\\\"clip5003\\\">\\n    <rect x=\\\"2160\\\" y=\\\"47\\\" width=\\\"73\\\" height=\\\"1441\\\"\\/>\\n  <\\/clipPath>\\n<\\/defs>\\n<g clip-path=\\\"url(#clip5003)\\\">\\n<image width=\\\"72\\\" height=\\\"1440\\\" xlink:href=\\\"data:image\\/png;base64,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\\nsKAgUBAoCBQECl77BAsKAgWBgkDhH8AJjOEi8oOfAAAAAElFTkSuQmCC\\n\\\" transform=\\\"translate(2161, 47)\\\"\\/>\\n<\\/g>\\n<g clip-path=\\\"url(#clip5000)\\\">\\n<text style=\\\"fill:#000000; fill-opacity:1; font-family:Arial,Helvetica Neue,Helvetica,sans-serif; font-size:48px; text-anchor:start;\\\" transform=\\\"rotate(0, 2268.76, 1501.13)\\\" x=\\\"2268.76\\\" y=\\\"1501.13\\\">0<\\/text>\\n<\\/g>\\n<g clip-path=\\\"url(#clip5000)\\\">\\n<text style=\\\"fill:#000000; fill-opacity:1; font-family:Arial,Helvetica Neue,Helvetica,sans-serif; font-size:48px; text-anchor:start;\\\" transform=\\\"rotate(0, 2268.76, 1261.09)\\\" x=\\\"2268.76\\\" y=\\\"1261.09\\\">25<\\/text>\\n<\\/g>\\n<g clip-path=\\\"url(#clip5000)\\\">\\n<text style=\\\"fill:#000000; fill-opacity:1; font-family:Arial,Helvetica Neue,Helvetica,sans-serif; font-size:48px; text-anchor:start;\\\" transform=\\\"rotate(0, 2268.76, 1021.05)\\\" x=\\\"2268.76\\\" y=\\\"1021.05\\\">50<\\/text>\\n<\\/g>\\n<g clip-path=\\\"url(#clip5000)\\\">\\n<text style=\\\"fill:#000000; fill-opacity:1; font-family:Arial,Helvetica Neue,Helvetica,sans-serif; font-size:48px; text-anchor:start;\\\" transform=\\\"rotate(0, 2268.76, 781.011)\\\" x=\\\"2268.76\\\" y=\\\"781.011\\\">75<\\/text>\\n<\\/g>\\n<g clip-path=\\\"url(#clip5000)\\\">\\n<text style=\\\"fill:#000000; fill-opacity:1; font-family:Arial,Helvetica Neue,Helvetica,sans-serif; font-size:48px; text-anchor:start;\\\" transform=\\\"rotate(0, 2268.76, 540.972)\\\" x=\\\"2268.76\\\" y=\\\"540.972\\\">100<\\/text>\\n<\\/g>\\n<g clip-path=\\\"url(#clip5000)\\\">\\n<text style=\\\"fill:#000000; fill-opacity:1; font-family:Arial,Helvetica Neue,Helvetica,sans-serif; font-size:48px; text-anchor:start;\\\" transform=\\\"rotate(0, 2268.76, 300.934)\\\" x=\\\"2268.76\\\" y=\\\"300.934\\\">125<\\/text>\\n<\\/g>\\n<g clip-path=\\\"url(#clip5000)\\\">\\n<text style=\\\"fill:#000000; fill-opacity:1; font-family:Arial,Helvetica Neue,Helvetica,sans-serif; font-size:48px; text-anchor:start;\\\" transform=\\\"rotate(0, 2268.76, 60.8953)\\\" x=\\\"2268.76\\\" y=\\\"60.8953\\\">150<\\/text>\\n<\\/g>\\n<polyline clip-path=\\\"url(#clip5000)\\\" style=\\\"stroke:#000000; stroke-width:4; stroke-opacity:1; fill:none\\\" points=\\\"\\n  2232.76,1487.47 2232.76,1487.47 2256.76,1487.47 2232.76,1487.47 2232.76,1247.44 2256.76,1247.44 2232.76,1247.44 2232.76,1007.4 2256.76,1007.4 2232.76,1007.4 \\n  2232.76,767.359 2256.76,767.359 2232.76,767.359 2232.76,527.321 2256.76,527.321 2232.76,527.321 2232.76,287.283 2256.76,287.283 2232.76,287.283 2232.76,47.2441 \\n  2256.76,47.2441 2232.76,47.2441 \\n  \\\"\\/>\\n<\\/svg>\\n\"},\"nodeType\":\"DOM\",\"type\":\"node\",\"instanceArgs\":{\"namespace\":\"html\",\"tag\":\"div\"},\"children\":[]}]}}}},\"children\":[{\"props\":{},\"nodeType\":\"ObservableNode\",\"type\":\"node\",\"instanceArgs\":{\"id\":\"ob_216\",\"name\":\"obs-node\"},\"children\":[]}]}]},\n",
       "            window,\n",
       "        );\n",
       "    } else {\n",
       "        document\n",
       "            .querySelector('[data-webio-mountpoint=\"7107230226588219598\"]')\n",
       "            .innerHTML = (\n",
       "                '<div style=\"padding: 1em; background-color: #f8d6da; border: 1px solid #f5c6cb\">' +\n",
       "                '<p><strong>WebIO not detected.</strong></p>' +\n",
       "                '<p>Please read ' +\n",
       "                '<a href=\"https://juliagizmos.github.io/WebIO.jl/latest/troubleshooting/not-detected/\" target=\"_blank\">the troubleshooting guide</a> ' +\n",
       "                'for more information on how to resolve this issue.</p>' +\n",
       "                '<p><a href=\"https://juliagizmos.github.io/WebIO.jl/latest/troubleshooting/not-detected/\" target=\"_blank\">https://juliagizmos.github.io/WebIO.jl/latest/troubleshooting/not-detected/</a></p>' +\n",
       "                '</div>'\n",
       "            );\n",
       "    }\n",
       "    </script>\n",
       "</div>\n"
      ],
      "text/plain": [
       "Node{WebIO.DOM}(WebIO.DOM(:html, :div), Any[Node{WebIO.DOM}(WebIO.DOM(:html, :div), Any[Scope(Node{WebIO.DOM}(WebIO.DOM(:html, :div), Any[Node{WebIO.DOM}(WebIO.DOM(:html, :div), Any[Node{WebIO.DOM}(WebIO.DOM(:html, :label), Any[\"I\"], Dict{Symbol,Any}(:className => \"interact \",:style => Dict{Any,Any}(:padding => \"5px 10px 0px 10px\")))], Dict{Symbol,Any}(:className => \"interact-flex-row-left\")), Node{WebIO.DOM}(WebIO.DOM(:html, :div), Any[Node{WebIO.DOM}(WebIO.DOM(:html, :input), Any[], Dict{Symbol,Any}(:max => 451,:min => 1,:attributes => Dict{Any,Any}(:type => \"range\",Symbol(\"data-bind\") => \"numericValue: index, valueUpdate: 'input', event: {change: function (){this.changes(this.changes()+1)}}\",\"orient\" => \"horizontal\"),:step => 1,:className => \"slider slider is-fullwidth\",:style => Dict{Any,Any}()))], Dict{Symbol,Any}(:className => \"interact-flex-row-center\")), Node{WebIO.DOM}(WebIO.DOM(:html, :div), Any[Node{WebIO.DOM}(WebIO.DOM(:html, :p), Any[], Dict{Symbol,Any}(:attributes => Dict(\"data-bind\" => \"text: formatted_val\")))], Dict{Symbol,Any}(:className => \"interact-flex-row-right\"))], Dict{Symbol,Any}(:className => \"interact-flex-row interact-widget\")), Dict{String,Tuple{Observables.AbstractObservable,Union{Nothing, Bool}}}(\"changes\" => (Observable{Int64} with 1 listeners. Value:\n",
       "0, nothing),\"index\" => (Observable{Any} with 2 listeners. Value:\n",
       "6, nothing)), Set(String[]), nothing, Asset[Asset(\"js\", \"knockout\", \"C:\\\\Users\\\\mikha\\\\.julia\\\\packages\\\\Knockout\\\\1sDlc\\\\src\\\\..\\\\assets\\\\knockout.js\"), Asset(\"js\", \"knockout_punches\", \"C:\\\\Users\\\\mikha\\\\.julia\\\\packages\\\\Knockout\\\\1sDlc\\\\src\\\\..\\\\assets\\\\knockout_punches.js\"), Asset(\"js\", nothing, \"C:\\\\Users\\\\mikha\\\\.julia\\\\packages\\\\InteractBase\\\\9mFwe\\\\src\\\\..\\\\assets\\\\all.js\"), Asset(\"css\", nothing, \"C:\\\\Users\\\\mikha\\\\.julia\\\\packages\\\\InteractBase\\\\9mFwe\\\\src\\\\..\\\\assets\\\\style.css\"), Asset(\"css\", nothing, \"C:\\\\Users\\\\mikha\\\\.julia\\\\packages\\\\Interact\\\\SbgIk\\\\src\\\\..\\\\assets\\\\bulma_confined.min.css\")], Dict{Any,Any}(\"changes\" => Any[WebIO.JSString(\"(function (val){return (val!=this.model[\\\"changes\\\"]()) ? (this.valueFromJulia[\\\"changes\\\"]=true, this.model[\\\"changes\\\"](val)) : undefined})\")],\"index\" => Any[WebIO.JSString(\"(function (val){return (val!=this.model[\\\"index\\\"]()) ? (this.valueFromJulia[\\\"index\\\"]=true, this.model[\\\"index\\\"](val)) : undefined})\")]), WebIO.ConnectionPool(Channel{Any}(sz_max:32,sz_curr:0), Set(AbstractConnection[]), Base.GenericCondition{Base.AlwaysLockedST}(Base.InvasiveLinkedList{Task}(Task (runnable) @0x0000000010fa88b0, Task (runnable) @0x0000000010fa88b0), Base.AlwaysLockedST(1))), WebIO.JSString[WebIO.JSString(\"function () {\\n    var handler = (function (ko, koPunches) {\\n    ko.punches.enableAll();\\n    ko.bindingHandlers.numericValue = {\\n        init: function(element, valueAccessor, allBindings, data, context) {\\n            var stringified = ko.observable(ko.unwrap(valueAccessor()));\\n            stringified.subscribe(function(value) {\\n                var val = parseFloat(value);\\n                if (!isNaN(val)) {\\n                    valueAccessor()(val);\\n                }\\n            });\\n            valueAccessor().subscribe(function(value) {\\n                var str = JSON.stringify(value);\\n                if ((str == \\\"0\\\") && ([\\\"-0\\\", \\\"-0.\\\"].indexOf(stringified()) >= 0))\\n                     return;\\n                 if ([\\\"null\\\", \\\"\\\"].indexOf(str) >= 0)\\n                     return;\\n                stringified(str);\\n            });\\n            ko.applyBindingsToNode(\\n                element,\\n                {\\n                    value: stringified,\\n                    valueUpdate: allBindings.get('valueUpdate'),\\n                },\\n                context,\\n            );\\n        }\\n    };\\n    var json_data = {\\\"formatted_vals\\\":[\\\"50.0\\\",\\\"51.0\\\",\\\"52.0\\\",\\\"53.0\\\",\\\"54.0\\\",\\\"55.0\\\",\\\"56.0\\\",\\\"57.0\\\",\\\"58.0\\\",\\\"59.0\\\",\\\"60.0\\\",\\\"61.0\\\",\\\"62.0\\\",\\\"63.0\\\",\\\"64.0\\\",\\\"65.0\\\",\\\"66.0\\\",\\\"67.0\\\",\\\"68.0\\\",\\\"69.0\\\",\\\"70.0\\\",\\\"71.0\\\",\\\"72.0\\\",\\\"73.0\\\",\\\"74.0\\\",\\\"75.0\\\",\\\"76.0\\\",\\\"77.0\\\",\\\"78.0\\\",\\\"79.0\\\",\\\"80.0\\\",\\\"81.0\\\",\\\"82.0\\\",\\\"83.0\\\",\\\"84.0\\\",\\\"85.0\\\",\\\"86.0\\\",\\\"87.0\\\",\\\"88.0\\\",\\\"89.0\\\",\\\"90.0\\\",\\\"91.0\\\",\\\"92.0\\\",\\\"93.0\\\",\\\"94.0\\\",\\\"95.0\\\",\\\"96.0\\\",\\\"97.0\\\",\\\"98.0\\\",\\\"99.0\\\",\\\"100.0\\\",\\\"101.0\\\",\\\"102.0\\\",\\\"103.0\\\",\\\"104.0\\\",\\\"105.0\\\",\\\"106.0\\\",\\\"107.0\\\",\\\"108.0\\\",\\\"109.0\\\",\\\"110.0\\\",\\\"111.0\\\",\\\"112.0\\\",\\\"113.0\\\",\\\"114.0\\\",\\\"115.0\\\",\\\"116.0\\\",\\\"117.0\\\",\\\"118.0\\\",\\\"119.0\\\",\\\"120.0\\\",\\\"121.0\\\",\\\"122.0\\\",\\\"123.0\\\",\\\"124.0\\\",\\\"125.0\\\",\\\"126.0\\\",\\\"127.0\\\",\\\"128.0\\\",\\\"129.0\\\",\\\"130.0\\\",\\\"131.0\\\",\\\"132.0\\\",\\\"133.0\\\",\\\"134.0\\\",\\\"135.0\\\",\\\"136.0\\\",\\\"137.0\\\",\\\"138.0\\\",\\\"139.0\\\",\\\"140.0\\\",\\\"141.0\\\",\\\"142.0\\\",\\\"143.0\\\",\\\"144.0\\\",\\\"145.0\\\",\\\"146.0\\\",\\\"147.0\\\",\\\"148.0\\\",\\\"149.0\\\",\\\"150.0\\\",\\\"151.0\\\",\\\"152.0\\\",\\\"153.0\\\",\\\"154.0\\\",\\\"155.0\\\",\\\"156.0\\\",\\\"157.0\\\",\\\"158.0\\\",\\\"159.0\\\",\\\"160.0\\\",\\\"161.0\\\",\\\"162.0\\\",\\\"163.0\\\",\\\"164.0\\\",\\\"165.0\\\",\\\"166.0\\\",\\\"167.0\\\",\\\"168.0\\\",\\\"169.0\\\",\\\"170.0\\\",\\\"171.0\\\",\\\"172.0\\\",\\\"173.0\\\",\\\"174.0\\\",\\\"175.0\\\",\\\"176.0\\\",\\\"177.0\\\",\\\"178.0\\\",\\\"179.0\\\",\\\"180.0\\\",\\\"181.0\\\",\\\"182.0\\\",\\\"183.0\\\",\\\"184.0\\\",\\\"185.0\\\",\\\"186.0\\\",\\\"187.0\\\",\\\"188.0\\\",\\\"189.0\\\",\\\"190.0\\\",\\\"191.0\\\",\\\"192.0\\\",\\\"193.0\\\",\\\"194.0\\\",\\\"195.0\\\",\\\"196.0\\\",\\\"197.0\\\",\\\"198.0\\\",\\\"199.0\\\",\\\"200.0\\\",\\\"201.0\\\",\\\"202.0\\\",\\\"203.0\\\",\\\"204.0\\\",\\\"205.0\\\",\\\"206.0\\\",\\\"207.0\\\",\\\"208.0\\\",\\\"209.0\\\",\\\"210.0\\\",\\\"211.0\\\",\\\"212.0\\\",\\\"213.0\\\",\\\"214.0\\\",\\\"215.0\\\",\\\"216.0\\\",\\\"217.0\\\",\\\"218.0\\\",\\\"219.0\\\",\\\"220.0\\\",\\\"221.0\\\",\\\"222.0\\\",\\\"223.0\\\",\\\"224.0\\\",\\\"225.0\\\",\\\"226.0\\\",\\\"227.0\\\",\\\"228.0\\\",\\\"229.0\\\",\\\"230.0\\\",\\\"231.0\\\",\\\"232.0\\\",\\\"233.0\\\",\\\"234.0\\\",\\\"235.0\\\",\\\"236.0\\\",\\\"237.0\\\",\\\"238.0\\\",\\\"239.0\\\",\\\"240.0\\\",\\\"241.0\\\",\\\"242.0\\\",\\\"243.0\\\",\\\"244.0\\\",\\\"245.0\\\",\\\"246.0\\\",\\\"247.0\\\",\\\"248.0\\\",\\\"249.0\\\",\\\"250.0\\\",\\\"251.0\\\",\\\"252.0\\\",\\\"253.0\\\",\\\"254.0\\\",\\\"255.0\\\",\\\"256.0\\\",\\\"257.0\\\",\\\"258.0\\\",\\\"259.0\\\",\\\"260.0\\\",\\\"261.0\\\",\\\"262.0\\\",\\\"263.0\\\",\\\"264.0\\\",\\\"265.0\\\",\\\"266.0\\\",\\\"267.0\\\",\\\"268.0\\\",\\\"269.0\\\",\\\"270.0\\\",\\\"271.0\\\",\\\"272.0\\\",\\\"273.0\\\",\\\"274.0\\\",\\\"275.0\\\",\\\"276.0\\\",\\\"277.0\\\",\\\"278.0\\\",\\\"279.0\\\",\\\"280.0\\\",\\\"281.0\\\",\\\"282.0\\\",\\\"283.0\\\",\\\"284.0\\\",\\\"285.0\\\",\\\"286.0\\\",\\\"287.0\\\",\\\"288.0\\\",\\\"289.0\\\",\\\"290.0\\\",\\\"291.0\\\",\\\"292.0\\\",\\\"293.0\\\",\\\"294.0\\\",\\\"295.0\\\",\\\"296.0\\\",\\\"297.0\\\",\\\"298.0\\\",\\\"299.0\\\",\\\"300.0\\\",\\\"301.0\\\",\\\"302.0\\\",\\\"303.0\\\",\\\"304.0\\\",\\\"305.0\\\",\\\"306.0\\\",\\\"307.0\\\",\\\"308.0\\\",\\\"309.0\\\",\\\"310.0\\\",\\\"311.0\\\",\\\"312.0\\\",\\\"313.0\\\",\\\"314.0\\\",\\\"315.0\\\",\\\"316.0\\\",\\\"317.0\\\",\\\"318.0\\\",\\\"319.0\\\",\\\"320.0\\\",\\\"321.0\\\",\\\"322.0\\\",\\\"323.0\\\",\\\"324.0\\\",\\\"325.0\\\",\\\"326.0\\\",\\\"327.0\\\",\\\"328.0\\\",\\\"329.0\\\",\\\"330.0\\\",\\\"331.0\\\",\\\"332.0\\\",\\\"333.0\\\",\\\"334.0\\\",\\\"335.0\\\",\\\"336.0\\\",\\\"337.0\\\",\\\"338.0\\\",\\\"339.0\\\",\\\"340.0\\\",\\\"341.0\\\",\\\"342.0\\\",\\\"343.0\\\",\\\"344.0\\\",\\\"345.0\\\",\\\"346.0\\\",\\\"347.0\\\",\\\"348.0\\\",\\\"349.0\\\",\\\"350.0\\\",\\\"351.0\\\",\\\"352.0\\\",\\\"353.0\\\",\\\"354.0\\\",\\\"355.0\\\",\\\"356.0\\\",\\\"357.0\\\",\\\"358.0\\\",\\\"359.0\\\",\\\"360.0\\\",\\\"361.0\\\",\\\"362.0\\\",\\\"363.0\\\",\\\"364.0\\\",\\\"365.0\\\",\\\"366.0\\\",\\\"367.0\\\",\\\"368.0\\\",\\\"369.0\\\",\\\"370.0\\\",\\\"371.0\\\",\\\"372.0\\\",\\\"373.0\\\",\\\"374.0\\\",\\\"375.0\\\",\\\"376.0\\\",\\\"377.0\\\",\\\"378.0\\\",\\\"379.0\\\",\\\"380.0\\\",\\\"381.0\\\",\\\"382.0\\\",\\\"383.0\\\",\\\"384.0\\\",\\\"385.0\\\",\\\"386.0\\\",\\\"387.0\\\",\\\"388.0\\\",\\\"389.0\\\",\\\"390.0\\\",\\\"391.0\\\",\\\"392.0\\\",\\\"393.0\\\",\\\"394.0\\\",\\\"395.0\\\",\\\"396.0\\\",\\\"397.0\\\",\\\"398.0\\\",\\\"399.0\\\",\\\"400.0\\\",\\\"401.0\\\",\\\"402.0\\\",\\\"403.0\\\",\\\"404.0\\\",\\\"405.0\\\",\\\"406.0\\\",\\\"407.0\\\",\\\"408.0\\\",\\\"409.0\\\",\\\"410.0\\\",\\\"411.0\\\",\\\"412.0\\\",\\\"413.0\\\",\\\"414.0\\\",\\\"415.0\\\",\\\"416.0\\\",\\\"417.0\\\",\\\"418.0\\\",\\\"419.0\\\",\\\"420.0\\\",\\\"421.0\\\",\\\"422.0\\\",\\\"423.0\\\",\\\"424.0\\\",\\\"425.0\\\",\\\"426.0\\\",\\\"427.0\\\",\\\"428.0\\\",\\\"429.0\\\",\\\"430.0\\\",\\\"431.0\\\",\\\"432.0\\\",\\\"433.0\\\",\\\"434.0\\\",\\\"435.0\\\",\\\"436.0\\\",\\\"437.0\\\",\\\"438.0\\\",\\\"439.0\\\",\\\"440.0\\\",\\\"441.0\\\",\\\"442.0\\\",\\\"443.0\\\",\\\"444.0\\\",\\\"445.0\\\",\\\"446.0\\\",\\\"447.0\\\",\\\"448.0\\\",\\\"449.0\\\",\\\"450.0\\\",\\\"451.0\\\",\\\"452.0\\\",\\\"453.0\\\",\\\"454.0\\\",\\\"455.0\\\",\\\"456.0\\\",\\\"457.0\\\",\\\"458.0\\\",\\\"459.0\\\",\\\"460.0\\\",\\\"461.0\\\",\\\"462.0\\\",\\\"463.0\\\",\\\"464.0\\\",\\\"465.0\\\",\\\"466.0\\\",\\\"467.0\\\",\\\"468.0\\\",\\\"469.0\\\",\\\"470.0\\\",\\\"471.0\\\",\\\"472.0\\\",\\\"473.0\\\",\\\"474.0\\\",\\\"475.0\\\",\\\"476.0\\\",\\\"477.0\\\",\\\"478.0\\\",\\\"479.0\\\",\\\"480.0\\\",\\\"481.0\\\",\\\"482.0\\\",\\\"483.0\\\",\\\"484.0\\\",\\\"485.0\\\",\\\"486.0\\\",\\\"487.0\\\",\\\"488.0\\\",\\\"489.0\\\",\\\"490.0\\\",\\\"491.0\\\",\\\"492.0\\\",\\\"493.0\\\",\\\"494.0\\\",\\\"495.0\\\",\\\"496.0\\\",\\\"497.0\\\",\\\"498.0\\\",\\\"499.0\\\",\\\"500.0\\\"],\\\"changes\\\":WebIO.getval({\\\"name\\\":\\\"changes\\\",\\\"scope\\\":\\\"8191578213627217283\\\",\\\"id\\\":\\\"ob_204\\\",\\\"type\\\":\\\"observable\\\"}),\\\"index\\\":WebIO.getval({\\\"name\\\":\\\"index\\\",\\\"scope\\\":\\\"8191578213627217283\\\",\\\"id\\\":\\\"ob_203\\\",\\\"type\\\":\\\"observable\\\"})};\\n    var self = this;\\n    function AppViewModel() {\\n        for (var key in json_data) {\\n            var el = json_data[key];\\n            this[key] = Array.isArray(el) ? ko.observableArray(el) : ko.observable(el);\\n        }\\n        \\n        [this[\\\"formatted_val\\\"]=ko.computed(    function(){\\n        return this.formatted_vals()[parseInt(this.index())-(1)];\\n    }\\n,this)]\\n        [this[\\\"changes\\\"].subscribe((function (val){!(this.valueFromJulia[\\\"changes\\\"]) ? (WebIO.setval({\\\"name\\\":\\\"changes\\\",\\\"scope\\\":\\\"8191578213627217283\\\",\\\"id\\\":\\\"ob_204\\\",\\\"type\\\":\\\"observable\\\"},val)) : undefined; return this.valueFromJulia[\\\"changes\\\"]=false}),self),this[\\\"index\\\"].subscribe((function (val){!(this.valueFromJulia[\\\"index\\\"]) ? (WebIO.setval({\\\"name\\\":\\\"index\\\",\\\"scope\\\":\\\"8191578213627217283\\\",\\\"id\\\":\\\"ob_203\\\",\\\"type\\\":\\\"observable\\\"},val)) : undefined; return this.valueFromJulia[\\\"index\\\"]=false}),self)]\\n        \\n    }\\n    self.model = new AppViewModel();\\n    self.valueFromJulia = {};\\n    for (var key in json_data) {\\n        self.valueFromJulia[key] = false;\\n    }\\n    ko.applyBindings(self.model, self.dom);\\n}\\n);\\n    (WebIO.importBlock({\\\"data\\\":[{\\\"name\\\":\\\"knockout\\\",\\\"type\\\":\\\"js\\\",\\\"url\\\":\\\"/assetserver/400851c8b8cf7fc10948b385af7e3ef99cb76dbc-knockout.js\\\"},{\\\"name\\\":\\\"knockout_punches\\\",\\\"type\\\":\\\"js\\\",\\\"url\\\":\\\"/assetserver/318f1c0cec30819eed901ca48cd0d6e3c354c074-knockout_punches.js\\\"}],\\\"type\\\":\\\"async_block\\\"})).then((imports) => handler.apply(this, imports));\\n}\\n\")])], Dict{Symbol,Any}(:className => \"field interact-widget\")), Node{WebIO.DOM}(WebIO.DOM(:html, :div), Any[Scope(Node{WebIO.DOM}(WebIO.DOM(:html, :div), Any[Node{WebIO.DOM}(WebIO.DOM(:html, :div), Any[Node{WebIO.DOM}(WebIO.DOM(:html, :label), Any[\"N\"], Dict{Symbol,Any}(:className => \"interact \",:style => Dict{Any,Any}(:padding => \"5px 10px 0px 10px\")))], Dict{Symbol,Any}(:className => \"interact-flex-row-left\")), Node{WebIO.DOM}(WebIO.DOM(:html, :div), Any[Node{WebIO.DOM}(WebIO.DOM(:html, :input), Any[], Dict{Symbol,Any}(:max => 8,:min => 2,:attributes => Dict{Any,Any}(:type => \"range\",Symbol(\"data-bind\") => \"numericValue: index, valueUpdate: 'input', event: {change: function (){this.changes(this.changes()+1)}}\",\"orient\" => \"horizontal\"),:step => 1,:className => \"slider slider is-fullwidth\",:style => Dict{Any,Any}()))], Dict{Symbol,Any}(:className => \"interact-flex-row-center\")), Node{WebIO.DOM}(WebIO.DOM(:html, :div), Any[Node{WebIO.DOM}(WebIO.DOM(:html, :p), Any[], Dict{Symbol,Any}(:attributes => Dict(\"data-bind\" => \"text: formatted_val\")))], Dict{Symbol,Any}(:className => \"interact-flex-row-right\"))], Dict{Symbol,Any}(:className => \"interact-flex-row interact-widget\")), Dict{String,Tuple{Observables.AbstractObservable,Union{Nothing, Bool}}}(\"changes\" => (Observable{Int64} with 1 listeners. Value:\n",
       "0, nothing),\"index\" => (Observable{Int64} with 2 listeners. Value:\n",
       "5, nothing)), Set(String[]), nothing, Asset[Asset(\"js\", \"knockout\", \"C:\\\\Users\\\\mikha\\\\.julia\\\\packages\\\\Knockout\\\\1sDlc\\\\src\\\\..\\\\assets\\\\knockout.js\"), Asset(\"js\", \"knockout_punches\", \"C:\\\\Users\\\\mikha\\\\.julia\\\\packages\\\\Knockout\\\\1sDlc\\\\src\\\\..\\\\assets\\\\knockout_punches.js\"), Asset(\"js\", nothing, \"C:\\\\Users\\\\mikha\\\\.julia\\\\packages\\\\InteractBase\\\\9mFwe\\\\src\\\\..\\\\assets\\\\all.js\"), Asset(\"css\", nothing, \"C:\\\\Users\\\\mikha\\\\.julia\\\\packages\\\\InteractBase\\\\9mFwe\\\\src\\\\..\\\\assets\\\\style.css\"), Asset(\"css\", nothing, \"C:\\\\Users\\\\mikha\\\\.julia\\\\packages\\\\Interact\\\\SbgIk\\\\src\\\\..\\\\assets\\\\bulma_confined.min.css\")], Dict{Any,Any}(\"changes\" => Any[WebIO.JSString(\"(function (val){return (val!=this.model[\\\"changes\\\"]()) ? (this.valueFromJulia[\\\"changes\\\"]=true, this.model[\\\"changes\\\"](val)) : undefined})\")],\"index\" => Any[WebIO.JSString(\"(function (val){return (val!=this.model[\\\"index\\\"]()) ? (this.valueFromJulia[\\\"index\\\"]=true, this.model[\\\"index\\\"](val)) : undefined})\")]), WebIO.ConnectionPool(Channel{Any}(sz_max:32,sz_curr:0), Set(AbstractConnection[]), Base.GenericCondition{Base.AlwaysLockedST}(Base.InvasiveLinkedList{Task}(Task (runnable) @0x0000000010fa8b90, Task (runnable) @0x0000000010fa8b90), Base.AlwaysLockedST(1))), WebIO.JSString[WebIO.JSString(\"function () {\\n    var handler = (function (ko, koPunches) {\\n    ko.punches.enableAll();\\n    ko.bindingHandlers.numericValue = {\\n        init: function(element, valueAccessor, allBindings, data, context) {\\n            var stringified = ko.observable(ko.unwrap(valueAccessor()));\\n            stringified.subscribe(function(value) {\\n                var val = parseFloat(value);\\n                if (!isNaN(val)) {\\n                    valueAccessor()(val);\\n                }\\n            });\\n            valueAccessor().subscribe(function(value) {\\n                var str = JSON.stringify(value);\\n                if ((str == \\\"0\\\") && ([\\\"-0\\\", \\\"-0.\\\"].indexOf(stringified()) >= 0))\\n                     return;\\n                 if ([\\\"null\\\", \\\"\\\"].indexOf(str) >= 0)\\n                     return;\\n                stringified(str);\\n            });\\n            ko.applyBindingsToNode(\\n                element,\\n                {\\n                    value: stringified,\\n                    valueUpdate: allBindings.get('valueUpdate'),\\n                },\\n                context,\\n            );\\n        }\\n    };\\n    var json_data = {\\\"formatted_vals\\\":[\\\"2\\\",\\\"3\\\",\\\"4\\\",\\\"5\\\",\\\"6\\\",\\\"7\\\",\\\"8\\\"],\\\"changes\\\":WebIO.getval({\\\"name\\\":\\\"changes\\\",\\\"scope\\\":\\\"11457976151711697943\\\",\\\"id\\\":\\\"ob_206\\\",\\\"type\\\":\\\"observable\\\"}),\\\"index\\\":WebIO.getval({\\\"name\\\":\\\"index\\\",\\\"scope\\\":\\\"11457976151711697943\\\",\\\"id\\\":\\\"ob_205\\\",\\\"type\\\":\\\"observable\\\"})};\\n    var self = this;\\n    function AppViewModel() {\\n        for (var key in json_data) {\\n            var el = json_data[key];\\n            this[key] = Array.isArray(el) ? ko.observableArray(el) : ko.observable(el);\\n        }\\n        \\n        [this[\\\"formatted_val\\\"]=ko.computed(    function(){\\n        return this.formatted_vals()[parseInt(this.index())-(2)];\\n    }\\n,this)]\\n        [this[\\\"changes\\\"].subscribe((function (val){!(this.valueFromJulia[\\\"changes\\\"]) ? (WebIO.setval({\\\"name\\\":\\\"changes\\\",\\\"scope\\\":\\\"11457976151711697943\\\",\\\"id\\\":\\\"ob_206\\\",\\\"type\\\":\\\"observable\\\"},val)) : undefined; return this.valueFromJulia[\\\"changes\\\"]=false}),self),this[\\\"index\\\"].subscribe((function (val){!(this.valueFromJulia[\\\"index\\\"]) ? (WebIO.setval({\\\"name\\\":\\\"index\\\",\\\"scope\\\":\\\"11457976151711697943\\\",\\\"id\\\":\\\"ob_205\\\",\\\"type\\\":\\\"observable\\\"},val)) : undefined; return this.valueFromJulia[\\\"index\\\"]=false}),self)]\\n        \\n    }\\n    self.model = new AppViewModel();\\n    self.valueFromJulia = {};\\n    for (var key in json_data) {\\n        self.valueFromJulia[key] = false;\\n    }\\n    ko.applyBindings(self.model, self.dom);\\n}\\n);\\n    (WebIO.importBlock({\\\"data\\\":[{\\\"name\\\":\\\"knockout\\\",\\\"type\\\":\\\"js\\\",\\\"url\\\":\\\"/assetserver/400851c8b8cf7fc10948b385af7e3ef99cb76dbc-knockout.js\\\"},{\\\"name\\\":\\\"knockout_punches\\\",\\\"type\\\":\\\"js\\\",\\\"url\\\":\\\"/assetserver/318f1c0cec30819eed901ca48cd0d6e3c354c074-knockout_punches.js\\\"}],\\\"type\\\":\\\"async_block\\\"})).then((imports) => handler.apply(this, imports));\\n}\\n\")])], Dict{Symbol,Any}(:className => \"field interact-widget\")), Node{WebIO.DOM}(WebIO.DOM(:html, :div), Any[Scope(Node{WebIO.DOM}(WebIO.DOM(:html, :div), Any[Node{WebIO.DOM}(WebIO.DOM(:html, :div), Any[Node{WebIO.DOM}(WebIO.DOM(:html, :label), Any[\"R\"], Dict{Symbol,Any}(:className => \"interact \",:style => Dict{Any,Any}(:padding => \"5px 10px 0px 10px\")))], Dict{Symbol,Any}(:className => \"interact-flex-row-left\")), Node{WebIO.DOM}(WebIO.DOM(:html, :div), Any[Node{WebIO.DOM}(WebIO.DOM(:html, :input), Any[], Dict{Symbol,Any}(:max => 200,:min => 1,:attributes => Dict{Any,Any}(:type => \"range\",Symbol(\"data-bind\") => \"numericValue: index, valueUpdate: 'input', event: {change: function (){this.changes(this.changes()+1)}}\",\"orient\" => \"horizontal\"),:step => 1,:className => \"slider slider is-fullwidth\",:style => Dict{Any,Any}()))], Dict{Symbol,Any}(:className => \"interact-flex-row-center\")), Node{WebIO.DOM}(WebIO.DOM(:html, :div), Any[Node{WebIO.DOM}(WebIO.DOM(:html, :p), Any[], Dict{Symbol,Any}(:attributes => Dict(\"data-bind\" => \"text: formatted_val\")))], Dict{Symbol,Any}(:className => \"interact-flex-row-right\"))], Dict{Symbol,Any}(:className => \"interact-flex-row interact-widget\")), Dict{String,Tuple{Observables.AbstractObservable,Union{Nothing, Bool}}}(\"changes\" => (Observable{Int64} with 1 listeners. Value:\n",
       "0, nothing),\"index\" => (Observable{Any} with 2 listeners. Value:\n",
       "100, nothing)), Set(String[]), nothing, Asset[Asset(\"js\", \"knockout\", \"C:\\\\Users\\\\mikha\\\\.julia\\\\packages\\\\Knockout\\\\1sDlc\\\\src\\\\..\\\\assets\\\\knockout.js\"), Asset(\"js\", \"knockout_punches\", \"C:\\\\Users\\\\mikha\\\\.julia\\\\packages\\\\Knockout\\\\1sDlc\\\\src\\\\..\\\\assets\\\\knockout_punches.js\"), Asset(\"js\", nothing, \"C:\\\\Users\\\\mikha\\\\.julia\\\\packages\\\\InteractBase\\\\9mFwe\\\\src\\\\..\\\\assets\\\\all.js\"), Asset(\"css\", nothing, \"C:\\\\Users\\\\mikha\\\\.julia\\\\packages\\\\InteractBase\\\\9mFwe\\\\src\\\\..\\\\assets\\\\style.css\"), Asset(\"css\", nothing, \"C:\\\\Users\\\\mikha\\\\.julia\\\\packages\\\\Interact\\\\SbgIk\\\\src\\\\..\\\\assets\\\\bulma_confined.min.css\")], Dict{Any,Any}(\"changes\" => Any[WebIO.JSString(\"(function (val){return (val!=this.model[\\\"changes\\\"]()) ? (this.valueFromJulia[\\\"changes\\\"]=true, this.model[\\\"changes\\\"](val)) : undefined})\")],\"index\" => Any[WebIO.JSString(\"(function (val){return (val!=this.model[\\\"index\\\"]()) ? (this.valueFromJulia[\\\"index\\\"]=true, this.model[\\\"index\\\"](val)) : undefined})\")]), WebIO.ConnectionPool(Channel{Any}(sz_max:32,sz_curr:0), Set(AbstractConnection[]), Base.GenericCondition{Base.AlwaysLockedST}(Base.InvasiveLinkedList{Task}(Task (runnable) @0x0000000010fa8e70, Task (runnable) @0x0000000010fa8e70), Base.AlwaysLockedST(1))), WebIO.JSString[WebIO.JSString(\"function () {\\n    var handler = (function (ko, koPunches) {\\n    ko.punches.enableAll();\\n    ko.bindingHandlers.numericValue = {\\n        init: function(element, valueAccessor, allBindings, data, context) {\\n            var stringified = ko.observable(ko.unwrap(valueAccessor()));\\n            stringified.subscribe(function(value) {\\n                var val = parseFloat(value);\\n                if (!isNaN(val)) {\\n                    valueAccessor()(val);\\n                }\\n            });\\n            valueAccessor().subscribe(function(value) {\\n                var str = JSON.stringify(value);\\n                if ((str == \\\"0\\\") && ([\\\"-0\\\", \\\"-0.\\\"].indexOf(stringified()) >= 0))\\n                     return;\\n                 if ([\\\"null\\\", \\\"\\\"].indexOf(str) >= 0)\\n                     return;\\n                stringified(str);\\n            });\\n            ko.applyBindingsToNode(\\n                element,\\n                {\\n                    value: stringified,\\n                    valueUpdate: allBindings.get('valueUpdate'),\\n                },\\n                context,\\n            );\\n        }\\n    };\\n    var json_data = {\\\"formatted_vals\\\":[\\\"0.01\\\",\\\"0.02\\\",\\\"0.03\\\",\\\"0.04\\\",\\\"0.05\\\",\\\"0.06\\\",\\\"0.07\\\",\\\"0.08\\\",\\\"0.09\\\",\\\"0.1\\\",\\\"0.11\\\",\\\"0.12\\\",\\\"0.13\\\",\\\"0.14\\\",\\\"0.15\\\",\\\"0.16\\\",\\\"0.17\\\",\\\"0.18\\\",\\\"0.19\\\",\\\"0.2\\\",\\\"0.21\\\",\\\"0.22\\\",\\\"0.23\\\",\\\"0.24\\\",\\\"0.25\\\",\\\"0.26\\\",\\\"0.27\\\",\\\"0.28\\\",\\\"0.29\\\",\\\"0.3\\\",\\\"0.31\\\",\\\"0.32\\\",\\\"0.33\\\",\\\"0.34\\\",\\\"0.35\\\",\\\"0.36\\\",\\\"0.37\\\",\\\"0.38\\\",\\\"0.39\\\",\\\"0.4\\\",\\\"0.41\\\",\\\"0.42\\\",\\\"0.43\\\",\\\"0.44\\\",\\\"0.45\\\",\\\"0.46\\\",\\\"0.47\\\",\\\"0.48\\\",\\\"0.49\\\",\\\"0.5\\\",\\\"0.51\\\",\\\"0.52\\\",\\\"0.53\\\",\\\"0.54\\\",\\\"0.55\\\",\\\"0.56\\\",\\\"0.57\\\",\\\"0.58\\\",\\\"0.59\\\",\\\"0.6\\\",\\\"0.61\\\",\\\"0.62\\\",\\\"0.63\\\",\\\"0.64\\\",\\\"0.65\\\",\\\"0.66\\\",\\\"0.67\\\",\\\"0.68\\\",\\\"0.69\\\",\\\"0.7\\\",\\\"0.71\\\",\\\"0.72\\\",\\\"0.73\\\",\\\"0.74\\\",\\\"0.75\\\",\\\"0.76\\\",\\\"0.77\\\",\\\"0.78\\\",\\\"0.79\\\",\\\"0.8\\\",\\\"0.81\\\",\\\"0.82\\\",\\\"0.83\\\",\\\"0.84\\\",\\\"0.85\\\",\\\"0.86\\\",\\\"0.87\\\",\\\"0.88\\\",\\\"0.89\\\",\\\"0.9\\\",\\\"0.91\\\",\\\"0.92\\\",\\\"0.93\\\",\\\"0.94\\\",\\\"0.95\\\",\\\"0.96\\\",\\\"0.97\\\",\\\"0.98\\\",\\\"0.99\\\",\\\"1.0\\\",\\\"1.01\\\",\\\"1.02\\\",\\\"1.03\\\",\\\"1.04\\\",\\\"1.05\\\",\\\"1.06\\\",\\\"1.07\\\",\\\"1.08\\\",\\\"1.09\\\",\\\"1.1\\\",\\\"1.11\\\",\\\"1.12\\\",\\\"1.13\\\",\\\"1.14\\\",\\\"1.15\\\",\\\"1.16\\\",\\\"1.17\\\",\\\"1.18\\\",\\\"1.19\\\",\\\"1.2\\\",\\\"1.21\\\",\\\"1.22\\\",\\\"1.23\\\",\\\"1.24\\\",\\\"1.25\\\",\\\"1.26\\\",\\\"1.27\\\",\\\"1.28\\\",\\\"1.29\\\",\\\"1.3\\\",\\\"1.31\\\",\\\"1.32\\\",\\\"1.33\\\",\\\"1.34\\\",\\\"1.35\\\",\\\"1.36\\\",\\\"1.37\\\",\\\"1.38\\\",\\\"1.39\\\",\\\"1.4\\\",\\\"1.41\\\",\\\"1.42\\\",\\\"1.43\\\",\\\"1.44\\\",\\\"1.45\\\",\\\"1.46\\\",\\\"1.47\\\",\\\"1.48\\\",\\\"1.49\\\",\\\"1.5\\\",\\\"1.51\\\",\\\"1.52\\\",\\\"1.53\\\",\\\"1.54\\\",\\\"1.55\\\",\\\"1.56\\\",\\\"1.57\\\",\\\"1.58\\\",\\\"1.59\\\",\\\"1.6\\\",\\\"1.61\\\",\\\"1.62\\\",\\\"1.63\\\",\\\"1.64\\\",\\\"1.65\\\",\\\"1.66\\\",\\\"1.67\\\",\\\"1.68\\\",\\\"1.69\\\",\\\"1.7\\\",\\\"1.71\\\",\\\"1.72\\\",\\\"1.73\\\",\\\"1.74\\\",\\\"1.75\\\",\\\"1.76\\\",\\\"1.77\\\",\\\"1.78\\\",\\\"1.79\\\",\\\"1.8\\\",\\\"1.81\\\",\\\"1.82\\\",\\\"1.83\\\",\\\"1.84\\\",\\\"1.85\\\",\\\"1.86\\\",\\\"1.87\\\",\\\"1.88\\\",\\\"1.89\\\",\\\"1.9\\\",\\\"1.91\\\",\\\"1.92\\\",\\\"1.93\\\",\\\"1.94\\\",\\\"1.95\\\",\\\"1.96\\\",\\\"1.97\\\",\\\"1.98\\\",\\\"1.99\\\",\\\"2.0\\\"],\\\"changes\\\":WebIO.getval({\\\"name\\\":\\\"changes\\\",\\\"scope\\\":\\\"9293882678758188599\\\",\\\"id\\\":\\\"ob_209\\\",\\\"type\\\":\\\"observable\\\"}),\\\"index\\\":WebIO.getval({\\\"name\\\":\\\"index\\\",\\\"scope\\\":\\\"9293882678758188599\\\",\\\"id\\\":\\\"ob_208\\\",\\\"type\\\":\\\"observable\\\"})};\\n    var self = this;\\n    function AppViewModel() {\\n        for (var key in json_data) {\\n            var el = json_data[key];\\n            this[key] = Array.isArray(el) ? ko.observableArray(el) : ko.observable(el);\\n        }\\n        \\n        [this[\\\"formatted_val\\\"]=ko.computed(    function(){\\n        return this.formatted_vals()[parseInt(this.index())-(1)];\\n    }\\n,this)]\\n        [this[\\\"changes\\\"].subscribe((function (val){!(this.valueFromJulia[\\\"changes\\\"]) ? (WebIO.setval({\\\"name\\\":\\\"changes\\\",\\\"scope\\\":\\\"9293882678758188599\\\",\\\"id\\\":\\\"ob_209\\\",\\\"type\\\":\\\"observable\\\"},val)) : undefined; return this.valueFromJulia[\\\"changes\\\"]=false}),self),this[\\\"index\\\"].subscribe((function (val){!(this.valueFromJulia[\\\"index\\\"]) ? (WebIO.setval({\\\"name\\\":\\\"index\\\",\\\"scope\\\":\\\"9293882678758188599\\\",\\\"id\\\":\\\"ob_208\\\",\\\"type\\\":\\\"observable\\\"},val)) : undefined; return this.valueFromJulia[\\\"index\\\"]=false}),self)]\\n        \\n    }\\n    self.model = new AppViewModel();\\n    self.valueFromJulia = {};\\n    for (var key in json_data) {\\n        self.valueFromJulia[key] = false;\\n    }\\n    ko.applyBindings(self.model, self.dom);\\n}\\n);\\n    (WebIO.importBlock({\\\"data\\\":[{\\\"name\\\":\\\"knockout\\\",\\\"type\\\":\\\"js\\\",\\\"url\\\":\\\"/assetserver/400851c8b8cf7fc10948b385af7e3ef99cb76dbc-knockout.js\\\"},{\\\"name\\\":\\\"knockout_punches\\\",\\\"type\\\":\\\"js\\\",\\\"url\\\":\\\"/assetserver/318f1c0cec30819eed901ca48cd0d6e3c354c074-knockout_punches.js\\\"}],\\\"type\\\":\\\"async_block\\\"})).then((imports) => handler.apply(this, imports));\\n}\\n\")])], Dict{Symbol,Any}(:className => \"field interact-widget\")), Node{WebIO.DOM}(WebIO.DOM(:html, :div), Any[Scope(Node{WebIO.DOM}(WebIO.DOM(:html, :div), Any[Node{WebIO.DOM}(WebIO.DOM(:html, :div), Any[Node{WebIO.DOM}(WebIO.DOM(:html, :label), Any[\"h\"], Dict{Symbol,Any}(:className => \"interact \",:style => Dict{Any,Any}(:padding => \"5px 10px 0px 10px\")))], Dict{Symbol,Any}(:className => \"interact-flex-row-left\")), Node{WebIO.DOM}(WebIO.DOM(:html, :div), Any[Node{WebIO.DOM}(WebIO.DOM(:html, :input), Any[], Dict{Symbol,Any}(:max => 30,:min => 1,:attributes => Dict{Any,Any}(:type => \"range\",Symbol(\"data-bind\") => \"numericValue: index, valueUpdate: 'input', event: {change: function (){this.changes(this.changes()+1)}}\",\"orient\" => \"horizontal\"),:step => 1,:className => \"slider slider is-fullwidth\",:style => Dict{Any,Any}()))], Dict{Symbol,Any}(:className => \"interact-flex-row-center\")), Node{WebIO.DOM}(WebIO.DOM(:html, :div), Any[Node{WebIO.DOM}(WebIO.DOM(:html, :p), Any[], Dict{Symbol,Any}(:attributes => Dict(\"data-bind\" => \"text: formatted_val\")))], Dict{Symbol,Any}(:className => \"interact-flex-row-right\"))], Dict{Symbol,Any}(:className => \"interact-flex-row interact-widget\")), Dict{String,Tuple{Observables.AbstractObservable,Union{Nothing, Bool}}}(\"changes\" => (Observable{Int64} with 1 listeners. Value:\n",
       "0, nothing),\"index\" => (Observable{Any} with 2 listeners. Value:\n",
       "9, nothing)), Set(String[]), nothing, Asset[Asset(\"js\", \"knockout\", \"C:\\\\Users\\\\mikha\\\\.julia\\\\packages\\\\Knockout\\\\1sDlc\\\\src\\\\..\\\\assets\\\\knockout.js\"), Asset(\"js\", \"knockout_punches\", \"C:\\\\Users\\\\mikha\\\\.julia\\\\packages\\\\Knockout\\\\1sDlc\\\\src\\\\..\\\\assets\\\\knockout_punches.js\"), Asset(\"js\", nothing, \"C:\\\\Users\\\\mikha\\\\.julia\\\\packages\\\\InteractBase\\\\9mFwe\\\\src\\\\..\\\\assets\\\\all.js\"), Asset(\"css\", nothing, \"C:\\\\Users\\\\mikha\\\\.julia\\\\packages\\\\InteractBase\\\\9mFwe\\\\src\\\\..\\\\assets\\\\style.css\"), Asset(\"css\", nothing, \"C:\\\\Users\\\\mikha\\\\.julia\\\\packages\\\\Interact\\\\SbgIk\\\\src\\\\..\\\\assets\\\\bulma_confined.min.css\")], Dict{Any,Any}(\"changes\" => Any[WebIO.JSString(\"(function (val){return (val!=this.model[\\\"changes\\\"]()) ? (this.valueFromJulia[\\\"changes\\\"]=true, this.model[\\\"changes\\\"](val)) : undefined})\")],\"index\" => Any[WebIO.JSString(\"(function (val){return (val!=this.model[\\\"index\\\"]()) ? (this.valueFromJulia[\\\"index\\\"]=true, this.model[\\\"index\\\"](val)) : undefined})\")]), WebIO.ConnectionPool(Channel{Any}(sz_max:32,sz_curr:0), Set(AbstractConnection[]), Base.GenericCondition{Base.AlwaysLockedST}(Base.InvasiveLinkedList{Task}(Task (runnable) @0x0000000010fa9150, Task (runnable) @0x0000000010fa9150), Base.AlwaysLockedST(1))), WebIO.JSString[WebIO.JSString(\"function () {\\n    var handler = (function (ko, koPunches) {\\n    ko.punches.enableAll();\\n    ko.bindingHandlers.numericValue = {\\n        init: function(element, valueAccessor, allBindings, data, context) {\\n            var stringified = ko.observable(ko.unwrap(valueAccessor()));\\n            stringified.subscribe(function(value) {\\n                var val = parseFloat(value);\\n                if (!isNaN(val)) {\\n                    valueAccessor()(val);\\n                }\\n            });\\n            valueAccessor().subscribe(function(value) {\\n                var str = JSON.stringify(value);\\n                if ((str == \\\"0\\\") && ([\\\"-0\\\", \\\"-0.\\\"].indexOf(stringified()) >= 0))\\n                     return;\\n                 if ([\\\"null\\\", \\\"\\\"].indexOf(str) >= 0)\\n                     return;\\n                stringified(str);\\n            });\\n            ko.applyBindingsToNode(\\n                element,\\n                {\\n                    value: stringified,\\n                    valueUpdate: allBindings.get('valueUpdate'),\\n                },\\n                context,\\n            );\\n        }\\n    };\\n    var json_data = {\\\"formatted_vals\\\":[\\\"0.1\\\",\\\"0.2\\\",\\\"0.3\\\",\\\"0.4\\\",\\\"0.5\\\",\\\"0.6\\\",\\\"0.7\\\",\\\"0.8\\\",\\\"0.9\\\",\\\"1.0\\\",\\\"1.1\\\",\\\"1.2\\\",\\\"1.3\\\",\\\"1.4\\\",\\\"1.5\\\",\\\"1.6\\\",\\\"1.7\\\",\\\"1.8\\\",\\\"1.9\\\",\\\"2.0\\\",\\\"2.1\\\",\\\"2.2\\\",\\\"2.3\\\",\\\"2.4\\\",\\\"2.5\\\",\\\"2.6\\\",\\\"2.7\\\",\\\"2.8\\\",\\\"2.9\\\",\\\"3.0\\\"],\\\"changes\\\":WebIO.getval({\\\"name\\\":\\\"changes\\\",\\\"scope\\\":\\\"11320081085531026953\\\",\\\"id\\\":\\\"ob_212\\\",\\\"type\\\":\\\"observable\\\"}),\\\"index\\\":WebIO.getval({\\\"name\\\":\\\"index\\\",\\\"scope\\\":\\\"11320081085531026953\\\",\\\"id\\\":\\\"ob_211\\\",\\\"type\\\":\\\"observable\\\"})};\\n    var self = this;\\n    function AppViewModel() {\\n        for (var key in json_data) {\\n            var el = json_data[key];\\n            this[key] = Array.isArray(el) ? ko.observableArray(el) : ko.observable(el);\\n        }\\n        \\n        [this[\\\"formatted_val\\\"]=ko.computed(    function(){\\n        return this.formatted_vals()[parseInt(this.index())-(1)];\\n    }\\n,this)]\\n        [this[\\\"changes\\\"].subscribe((function (val){!(this.valueFromJulia[\\\"changes\\\"]) ? (WebIO.setval({\\\"name\\\":\\\"changes\\\",\\\"scope\\\":\\\"11320081085531026953\\\",\\\"id\\\":\\\"ob_212\\\",\\\"type\\\":\\\"observable\\\"},val)) : undefined; return this.valueFromJulia[\\\"changes\\\"]=false}),self),this[\\\"index\\\"].subscribe((function (val){!(this.valueFromJulia[\\\"index\\\"]) ? (WebIO.setval({\\\"name\\\":\\\"index\\\",\\\"scope\\\":\\\"11320081085531026953\\\",\\\"id\\\":\\\"ob_211\\\",\\\"type\\\":\\\"observable\\\"},val)) : undefined; return this.valueFromJulia[\\\"index\\\"]=false}),self)]\\n        \\n    }\\n    self.model = new AppViewModel();\\n    self.valueFromJulia = {};\\n    for (var key in json_data) {\\n        self.valueFromJulia[key] = false;\\n    }\\n    ko.applyBindings(self.model, self.dom);\\n}\\n);\\n    (WebIO.importBlock({\\\"data\\\":[{\\\"name\\\":\\\"knockout\\\",\\\"type\\\":\\\"js\\\",\\\"url\\\":\\\"/assetserver/400851c8b8cf7fc10948b385af7e3ef99cb76dbc-knockout.js\\\"},{\\\"name\\\":\\\"knockout_punches\\\",\\\"type\\\":\\\"js\\\",\\\"url\\\":\\\"/assetserver/318f1c0cec30819eed901ca48cd0d6e3c354c074-knockout_punches.js\\\"}],\\\"type\\\":\\\"async_block\\\"})).then((imports) => handler.apply(this, imports));\\n}\\n\")])], Dict{Symbol,Any}(:className => \"field interact-widget\")), Observable{Any} with 0 listeners. Value:\n",
       "Node{WebIO.DOM}(WebIO.DOM(:html, :div), Any[Plot{Plots.GRBackend() n=1}], Dict{Symbol,Any}(:className => \"interact-flex-row interact-widget\"))], Dict{Symbol,Any}())"
      ]
     },
     "execution_count": 22,
     "metadata": {
      "application/vnd.webio.node+json": {
       "kernelId": null
      }
     },
     "output_type": "execute_result"
    }
   ],
   "source": [
    "# dynamic set up\n",
    "@manipulate for I in slider(range(50, 500, length = 451), label=\"I\", value=55),\n",
    "                N in slider(2:8, label=\"N\", value=5),\n",
    "                R in slider(range(0.01, 2, length = 200), label=\"R\", value=1.0),\n",
    "                h in slider(0.1:0.1:3, label=\"h\", value=0.9)\n",
    "    setup = (a = 5.0, b = 4.0)\n",
    "    xv = range(0, setup.a, length = 100)\n",
    "    yv = range(0, setup.b, length = 100)\n",
    "    Ov = [Otot(x, y, (a = 5.0, b = 4.0, h = h, R = R, N = N, I = I)) for y in yv, x in xv]\n",
    "    heatmap(xv, yv, Ov, clim = (0, 150), c = :viridis)\n",
    "end"
   ]
  },
  {
   "cell_type": "code",
   "execution_count": null,
   "metadata": {},
   "outputs": [],
   "source": []
  }
 ],
 "metadata": {
  "@webio": {
   "lastCommId": null,
   "lastKernelId": null
  },
  "kernelspec": {
   "display_name": "Julia 1.3.0",
   "language": "julia",
   "name": "julia-1.3"
  },
  "language_info": {
   "file_extension": ".jl",
   "mimetype": "application/julia",
   "name": "julia",
   "version": "1.3.0"
  }
 },
 "nbformat": 4,
 "nbformat_minor": 2
}
